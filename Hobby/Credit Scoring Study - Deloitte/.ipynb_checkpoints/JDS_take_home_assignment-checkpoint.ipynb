{
 "cells": [
  {
   "cell_type": "markdown",
   "metadata": {},
   "source": [
    "# Welcome to Junior Data Scientist Take Home Assignment \n",
    "You were given files related to our users credit performance. \n",
    "We have no clue what is going on and we need your help to tell us a story that you find in the data. The management would like to know if you can tell us who should we give the credit to (or who should we avoid). Please provide justification for your recommendations. \n",
    "\n",
    "__Requirements__: \n",
    "1. You have __7days__ to return the assignment. \n",
    "2. Use python for all Assignments and (when asked for) `sqlalchemy` or any other package of your choice to integrate `SQL` to this notebook for data transformations (you can use pandas or any other package if the problem does not ask for `sqlalchemy`)\n",
    "3. For visualizations, please use python (common libraries)\n",
    "\n",
    "__Deliverables__: \n",
    "1. Python Jupyter notebook with your code. Add comments to the code !!!! Comments let us follow your thought process. \n",
    "2. In addition, save your notebooks also in html and attach with the actual code. \n",
    "\n",
    "__What are we looking for__: \n",
    "1. Tell the story with data (especially Assignment 3)\n",
    "2. There is no right solution to this assignment (even SQL can be written in many different ways)\n",
    "3. Be precise and to the point (don’t be long winded). Provide justifications to your recommendations\n",
    "4. Use comments in the code !!!\n",
    "5. Completeness of the analysis/story\n",
    "6. The rationale behind the decisions you made\n",
    "\n",
    "\n"
   ]
  },
  {
   "cell_type": "markdown",
   "metadata": {},
   "source": [
    "## Assignment 1\n",
    "\n",
    "`[SQL]` Please use `sqlalchemy` or any other package of your choice to integrate `SQL`\n"
   ]
  },
  {
   "cell_type": "code",
   "execution_count": 1,
   "metadata": {},
   "outputs": [],
   "source": [
    "# Feel free to use other packages \n",
    "# These are just getting you started\n",
    "import sqlalchemy as sa\n",
    "import pandas as pd\n",
    "import numpy as np\n",
    "import matplotlib.pyplot as plt"
   ]
  },
  {
   "cell_type": "code",
   "execution_count": 5,
   "metadata": {},
   "outputs": [],
   "source": [
    "# Create SQL Alchemy Engine\n",
    "engine = sa.create_engine('sqlite:///takehome.db')"
   ]
  },
  {
   "cell_type": "code",
   "execution_count": null,
   "metadata": {},
   "outputs": [],
   "source": [
    "# Import data as pd.DataFrame\n",
    "# Make sure data files are put in the correct folder\n",
    "user_base_part1_df = pd.read_csv('user_base_part1.csv')\n",
    "user_base_part2_df = pd.read_csv('user_base_part2.csv')\n",
    "user_label_branch_df = pd.read_csv('user_label_branch.csv')\n",
    "user_transactions_df = pd.read_csv('user_transactions.csv')"
   ]
  },
  {
   "cell_type": "code",
   "execution_count": null,
   "metadata": {},
   "outputs": [],
   "source": [
    "# Insert data from pd.DataFrame to SQL Alchemy Engine\n",
    "user_base_part1_df.to_sql(name='user_base_part1', con=engine)\n",
    "user_base_part2_df.to_sql(name='user_base_part2', con=engine)\n",
    "user_label_branch_df.to_sql(name='user_label_branch', con=engine)\n",
    "user_transactions_df.to_sql(name='user_transactions', con=engine)"
   ]
  },
  {
   "cell_type": "markdown",
   "metadata": {},
   "source": [
    "You can use (you do not have to) this function which executes SQL statement in the specified engine and returns a pandas dataframe. "
   ]
  },
  {
   "cell_type": "code",
   "execution_count": 6,
   "metadata": {},
   "outputs": [],
   "source": [
    "def convert_result(engine, s):\n",
    "        \"\"\"Execute SQL Statement and return result in pd.DataFrame.\n",
    "\n",
    "        Args:\n",
    "            s (string): select SQL statement\n",
    "\n",
    "        Returns:\n",
    "            df (pd.DataFrame) : result of SQL queries\n",
    "        \"\"\"\n",
    "        statement = engine.execute(s)\n",
    "        df = pd.DataFrame(statement.fetchall())\n",
    "        df.columns = statement.keys()\n",
    "        return df"
   ]
  },
  {
   "cell_type": "markdown",
   "metadata": {},
   "source": [
    "### 1. Combine all datasets into one"
   ]
  },
  {
   "cell_type": "code",
   "execution_count": null,
   "metadata": {},
   "outputs": [],
   "source": []
  },
  {
   "cell_type": "markdown",
   "metadata": {},
   "source": [
    "### 2. Provide summary statistics by:\n",
    "> a. `Default_flag` <br>\n",
    "> b. `Branch Code` <br>"
   ]
  },
  {
   "cell_type": "code",
   "execution_count": null,
   "metadata": {},
   "outputs": [],
   "source": []
  },
  {
   "cell_type": "markdown",
   "metadata": {},
   "source": [
    "### 3. Select top 5 users with the most number of **transactions** from each `branch code`"
   ]
  },
  {
   "cell_type": "code",
   "execution_count": null,
   "metadata": {},
   "outputs": [],
   "source": []
  },
  {
   "cell_type": "markdown",
   "metadata": {},
   "source": [
    "### 4. Arrange (ascending) users by “outstanding” and provide cumulative default rates by equal size deciles. Each decile should have: \n",
    "> a. Number of users<br>\n",
    "> b. Number of default users<br>\n",
    "> c. The default rate for each decile<br>\n",
    "> d. Cumulative default rate<br>\n",
    "> e. Min, max, avg “outstanding”<br>"
   ]
  },
  {
   "cell_type": "code",
   "execution_count": null,
   "metadata": {},
   "outputs": [],
   "source": []
  },
  {
   "cell_type": "markdown",
   "metadata": {},
   "source": [
    "## Assignment 2\n",
    "`[Cleaning]` Please examine features and tell us if there are any outliers or “anomalies”. If yes, then please fix them. Please provide the justification to why you marked given observations as anomalous (outliers) and which method you decided to use. "
   ]
  },
  {
   "cell_type": "code",
   "execution_count": null,
   "metadata": {},
   "outputs": [],
   "source": []
  },
  {
   "cell_type": "markdown",
   "metadata": {},
   "source": [
    "## Assignment 3: \n",
    "`[Visualisations]` Use visualizations (graphs and tables) to tell a story about the users who default. Do we see any significant relationships between variables? Any recommendations on who we should (or shouldn’t give the loans to)?"
   ]
  },
  {
   "cell_type": "code",
   "execution_count": null,
   "metadata": {},
   "outputs": [],
   "source": []
  },
  {
   "cell_type": "markdown",
   "metadata": {},
   "source": [
    "## Assignment 4\n",
    "`[Freestyle]` Show us something cool with the data. We all have different skills, maybe you are good at modeling (build a predictive model). Maybe you are good at stats and know of a good way to look (examine) data. Maybe you can create great interactive charts. Whatever your special skill is, this is a place to show it (it does not have to be related to the credit defaulters, but please use this dataset). "
   ]
  },
  {
   "cell_type": "code",
   "execution_count": null,
   "metadata": {},
   "outputs": [],
   "source": []
  },
  {
   "cell_type": "code",
   "execution_count": 3,
   "metadata": {},
   "outputs": [],
   "source": []
  },
  {
   "cell_type": "markdown",
   "metadata": {},
   "source": [
    "## Assignment 5\n",
    "Here at GO-JEK we have 10 core values that we follow (assumes values_img.png in the same folder as the notebook):"
   ]
  },
  {
   "cell_type": "markdown",
   "metadata": {},
   "source": [
    "![10 Core Values](values_img.png)"
   ]
  },
  {
   "cell_type": "markdown",
   "metadata": {},
   "source": [
    "A. Please choose three Core Values from the ten values above that you think is your strength, share us one specific example where you showed it"
   ]
  },
  {
   "cell_type": "markdown",
   "metadata": {},
   "source": []
  },
  {
   "cell_type": "markdown",
   "metadata": {},
   "source": [
    "B. Please choose three Core Values from the ten values above that you think is your weakness, share us one specific example where you showed it\n"
   ]
  },
  {
   "cell_type": "code",
   "execution_count": null,
   "metadata": {},
   "outputs": [],
   "source": []
  },
  {
   "cell_type": "markdown",
   "metadata": {},
   "source": [
    "C. Please order the ten Core Values based on your priority if you work at GO-JEK and why "
   ]
  },
  {
   "cell_type": "markdown",
   "metadata": {},
   "source": []
  }
 ],
 "metadata": {
  "kernelspec": {
   "display_name": "Python 3",
   "language": "python",
   "name": "python3"
  },
  "language_info": {
   "codemirror_mode": {
    "name": "ipython",
    "version": 3
   },
   "file_extension": ".py",
   "mimetype": "text/x-python",
   "name": "python",
   "nbconvert_exporter": "python",
   "pygments_lexer": "ipython3",
   "version": "3.7.3"
  }
 },
 "nbformat": 4,
 "nbformat_minor": 2
}
