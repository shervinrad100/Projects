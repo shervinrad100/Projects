{
 "cells": [
  {
   "cell_type": "code",
   "execution_count": 1,
   "metadata": {},
   "outputs": [],
   "source": [
    "import matplotlib.pyplot as plt\n",
    "import numpy as np\n",
    "import pandas as pd"
   ]
  },
  {
   "cell_type": "code",
   "execution_count": 2,
   "metadata": {},
   "outputs": [],
   "source": [
    "import seaborn as sns"
   ]
  },
  {
   "cell_type": "code",
   "execution_count": 3,
   "metadata": {},
   "outputs": [],
   "source": [
    "df = pd.read_csv(r\"C:\\Users\\sherv\\Desktop\\path.csv\")"
   ]
  },
  {
   "cell_type": "code",
   "execution_count": 5,
   "metadata": {},
   "outputs": [
    {
     "data": {
      "text/html": [
       "<div>\n",
       "<style scoped>\n",
       "    .dataframe tbody tr th:only-of-type {\n",
       "        vertical-align: middle;\n",
       "    }\n",
       "\n",
       "    .dataframe tbody tr th {\n",
       "        vertical-align: top;\n",
       "    }\n",
       "\n",
       "    .dataframe thead th {\n",
       "        text-align: right;\n",
       "    }\n",
       "</style>\n",
       "<table border=\"1\" class=\"dataframe\">\n",
       "  <thead>\n",
       "    <tr style=\"text-align: right;\">\n",
       "      <th></th>\n",
       "      <th>Unnamed: 0</th>\n",
       "      <th>X</th>\n",
       "      <th>payment_ratio</th>\n",
       "      <th>overlimit_percentage</th>\n",
       "      <th>payment_ratio_3month</th>\n",
       "      <th>payment_ratio_6month</th>\n",
       "      <th>delinquency_score</th>\n",
       "      <th>years_since_card_issuing</th>\n",
       "      <th>total_usage</th>\n",
       "      <th>total_usage_per_limit</th>\n",
       "      <th>...</th>\n",
       "      <th>bill</th>\n",
       "      <th>total_cash_usage</th>\n",
       "      <th>total_retail_usage</th>\n",
       "      <th>number_of_cards</th>\n",
       "      <th>branch_code</th>\n",
       "      <th>default_flag</th>\n",
       "      <th>remaining_bill</th>\n",
       "      <th>remaining_bill_per_limit</th>\n",
       "      <th>remainder_ratio</th>\n",
       "      <th>remaining_bill_per_number_of_cards</th>\n",
       "    </tr>\n",
       "  </thead>\n",
       "  <tbody>\n",
       "    <tr>\n",
       "      <td>0</td>\n",
       "      <td>0</td>\n",
       "      <td>1</td>\n",
       "      <td>102.19</td>\n",
       "      <td>0.0</td>\n",
       "      <td>74.78</td>\n",
       "      <td>100.00</td>\n",
       "      <td>0.0</td>\n",
       "      <td>15.416667</td>\n",
       "      <td>94.0</td>\n",
       "      <td>0.000013</td>\n",
       "      <td>...</td>\n",
       "      <td>23437.0</td>\n",
       "      <td>0.0</td>\n",
       "      <td>94.0</td>\n",
       "      <td>2</td>\n",
       "      <td>I</td>\n",
       "      <td>0</td>\n",
       "      <td>0.0000</td>\n",
       "      <td>0.000000</td>\n",
       "      <td>0.00</td>\n",
       "      <td>0.00000</td>\n",
       "    </tr>\n",
       "    <tr>\n",
       "      <td>1</td>\n",
       "      <td>1</td>\n",
       "      <td>2</td>\n",
       "      <td>0.00</td>\n",
       "      <td>0.0</td>\n",
       "      <td>0.00</td>\n",
       "      <td>0.00</td>\n",
       "      <td>0.0</td>\n",
       "      <td>0.750000</td>\n",
       "      <td>1012.0</td>\n",
       "      <td>0.000101</td>\n",
       "      <td>...</td>\n",
       "      <td>254564.0</td>\n",
       "      <td>0.0</td>\n",
       "      <td>1012.0</td>\n",
       "      <td>2</td>\n",
       "      <td>A</td>\n",
       "      <td>0</td>\n",
       "      <td>254564.0000</td>\n",
       "      <td>0.025456</td>\n",
       "      <td>100.00</td>\n",
       "      <td>127282.00000</td>\n",
       "    </tr>\n",
       "    <tr>\n",
       "      <td>2</td>\n",
       "      <td>2</td>\n",
       "      <td>3</td>\n",
       "      <td>100.00</td>\n",
       "      <td>0.0</td>\n",
       "      <td>100.00</td>\n",
       "      <td>100.91</td>\n",
       "      <td>0.0</td>\n",
       "      <td>10.750000</td>\n",
       "      <td>0.0</td>\n",
       "      <td>0.000000</td>\n",
       "      <td>...</td>\n",
       "      <td>4159779.0</td>\n",
       "      <td>0.0</td>\n",
       "      <td>0.0</td>\n",
       "      <td>3</td>\n",
       "      <td>A</td>\n",
       "      <td>0</td>\n",
       "      <td>0.0000</td>\n",
       "      <td>0.000000</td>\n",
       "      <td>0.00</td>\n",
       "      <td>0.00000</td>\n",
       "    </tr>\n",
       "    <tr>\n",
       "      <td>3</td>\n",
       "      <td>3</td>\n",
       "      <td>4</td>\n",
       "      <td>100.00</td>\n",
       "      <td>0.0</td>\n",
       "      <td>25.01</td>\n",
       "      <td>22.64</td>\n",
       "      <td>0.0</td>\n",
       "      <td>19.750000</td>\n",
       "      <td>2536660.0</td>\n",
       "      <td>0.120793</td>\n",
       "      <td>...</td>\n",
       "      <td>111231.0</td>\n",
       "      <td>0.0</td>\n",
       "      <td>2536660.0</td>\n",
       "      <td>4</td>\n",
       "      <td>G</td>\n",
       "      <td>0</td>\n",
       "      <td>0.0000</td>\n",
       "      <td>0.000000</td>\n",
       "      <td>0.00</td>\n",
       "      <td>0.00000</td>\n",
       "    </tr>\n",
       "    <tr>\n",
       "      <td>4</td>\n",
       "      <td>4</td>\n",
       "      <td>5</td>\n",
       "      <td>95.99</td>\n",
       "      <td>0.0</td>\n",
       "      <td>97.49</td>\n",
       "      <td>99.84</td>\n",
       "      <td>0.0</td>\n",
       "      <td>1.666667</td>\n",
       "      <td>2666558.0</td>\n",
       "      <td>0.266656</td>\n",
       "      <td>...</td>\n",
       "      <td>6099283.0</td>\n",
       "      <td>0.0</td>\n",
       "      <td>2666558.0</td>\n",
       "      <td>2</td>\n",
       "      <td>A</td>\n",
       "      <td>0</td>\n",
       "      <td>244581.2483</td>\n",
       "      <td>0.024458</td>\n",
       "      <td>4.01</td>\n",
       "      <td>122290.62415</td>\n",
       "    </tr>\n",
       "  </tbody>\n",
       "</table>\n",
       "<p>5 rows × 26 columns</p>\n",
       "</div>"
      ],
      "text/plain": [
       "   Unnamed: 0  X  payment_ratio  overlimit_percentage  payment_ratio_3month  \\\n",
       "0           0  1         102.19                   0.0                 74.78   \n",
       "1           1  2           0.00                   0.0                  0.00   \n",
       "2           2  3         100.00                   0.0                100.00   \n",
       "3           3  4         100.00                   0.0                 25.01   \n",
       "4           4  5          95.99                   0.0                 97.49   \n",
       "\n",
       "   payment_ratio_6month  delinquency_score  years_since_card_issuing  \\\n",
       "0                100.00                0.0                 15.416667   \n",
       "1                  0.00                0.0                  0.750000   \n",
       "2                100.91                0.0                 10.750000   \n",
       "3                 22.64                0.0                 19.750000   \n",
       "4                 99.84                0.0                  1.666667   \n",
       "\n",
       "   total_usage  total_usage_per_limit  ...       bill  total_cash_usage  \\\n",
       "0         94.0               0.000013  ...    23437.0               0.0   \n",
       "1       1012.0               0.000101  ...   254564.0               0.0   \n",
       "2          0.0               0.000000  ...  4159779.0               0.0   \n",
       "3    2536660.0               0.120793  ...   111231.0               0.0   \n",
       "4    2666558.0               0.266656  ...  6099283.0               0.0   \n",
       "\n",
       "   total_retail_usage  number_of_cards  branch_code  default_flag  \\\n",
       "0                94.0                2            I             0   \n",
       "1              1012.0                2            A             0   \n",
       "2                 0.0                3            A             0   \n",
       "3           2536660.0                4            G             0   \n",
       "4           2666558.0                2            A             0   \n",
       "\n",
       "   remaining_bill  remaining_bill_per_limit  remainder_ratio  \\\n",
       "0          0.0000                  0.000000             0.00   \n",
       "1     254564.0000                  0.025456           100.00   \n",
       "2          0.0000                  0.000000             0.00   \n",
       "3          0.0000                  0.000000             0.00   \n",
       "4     244581.2483                  0.024458             4.01   \n",
       "\n",
       "   remaining_bill_per_number_of_cards  \n",
       "0                             0.00000  \n",
       "1                        127282.00000  \n",
       "2                             0.00000  \n",
       "3                             0.00000  \n",
       "4                        122290.62415  \n",
       "\n",
       "[5 rows x 26 columns]"
      ]
     },
     "execution_count": 5,
     "metadata": {},
     "output_type": "execute_result"
    }
   ],
   "source": [
    "df.head()"
   ]
  },
  {
   "cell_type": "code",
   "execution_count": null,
   "metadata": {},
   "outputs": [],
   "source": [
    "#  distribution of the payment ratio 6 month column. But in 2 colours, \n",
    "#     one when default flag =0 and one when default flag = 1"
   ]
  },
  {
   "cell_type": "code",
   "execution_count": 6,
   "metadata": {},
   "outputs": [],
   "source": [
    "flag1 = []\n",
    "flag0 = []\n",
    "for elem in range(len(df[\"payment_ratio_6month\"])):\n",
    "    if df[\"default_flag\"][elem] == 0:\n",
    "        flag0.append(df[\"payment_ratio_6month\"][elem])\n",
    "    elif df[\"default_flag\"][elem] == 1:\n",
    "        flag1.append(df[\"payment_ratio_6month\"][elem])\n",
    "    else:\n",
    "        print(elem) # so we can see which indices raise an error"
   ]
  },
  {
   "cell_type": "code",
   "execution_count": 10,
   "metadata": {},
   "outputs": [],
   "source": [
    "flag0 = df[\"payment_ratio_6month\"].loc[df[\"default_flag\"]==0]\n",
    "flag1 = df[\"payment_ratio_6month\"].loc[df[\"default_flag\"]==1]"
   ]
  },
  {
   "cell_type": "code",
   "execution_count": 12,
   "metadata": {},
   "outputs": [
    {
     "data": {
      "text/plain": [
       "<matplotlib.axes._subplots.AxesSubplot at 0x2320418dc08>"
      ]
     },
     "execution_count": 12,
     "metadata": {},
     "output_type": "execute_result"
    },
    {
     "data": {
      "image/png": "[encoded data removed]",
      "text/plain": [
       "<Figure size 432x288 with 1 Axes>"
      ]
     },
     "metadata": {
      "needs_background": "light"
     },
     "output_type": "display_data"
    }
   ],
   "source": [
    "sns.distplot(flag1, hist=False, kde=True, kde_kws={\"shade\":True, \"linewidth\":3})\n",
    "sns.distplot(flag0, hist=False, kde=True, kde_kws={\"shade\":True, \"linewidth\":3})"
   ]
  },
  {
   "cell_type": "code",
   "execution_count": null,
   "metadata": {},
   "outputs": [],
   "source": []
  }
 ],
 "metadata": {
  "kernelspec": {
   "display_name": "Basics",
   "language": "python",
   "name": "basics"
  },
  "language_info": {
   "codemirror_mode": {
    "name": "ipython",
    "version": 3
   },
   "file_extension": ".py",
   "mimetype": "text/x-python",
   "name": "python",
   "nbconvert_exporter": "python",
   "pygments_lexer": "ipython3",
   "version": "3.7.3"
  }
 },
 "nbformat": 4,
 "nbformat_minor": 4
}
