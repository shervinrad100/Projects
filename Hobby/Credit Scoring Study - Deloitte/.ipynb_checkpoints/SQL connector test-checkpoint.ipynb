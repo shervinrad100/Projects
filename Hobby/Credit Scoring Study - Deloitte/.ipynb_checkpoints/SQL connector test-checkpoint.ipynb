{
 "cells": [
  {
   "cell_type": "markdown",
   "metadata": {},
   "source": [
    "Craete a new env and use python v 7.0 or below. Then install mysql-connector-python and dnspython"
   ]
  },
  {
   "cell_type": "code",
   "execution_count": 5,
   "metadata": {},
   "outputs": [],
   "source": [
    "import mysql.connector"
   ]
  },
  {
   "cell_type": "markdown",
   "metadata": {},
   "source": [
    "for some reason this works in spyder but not jupyter?? because Jupyter has a duplicated the python 3 kernel but has a different name so we think we are running Basics env but its acc python3. When we change the sys path and executable then it fixes the prob"
   ]
  },
  {
   "cell_type": "code",
   "execution_count": 2,
   "metadata": {},
   "outputs": [],
   "source": [
    "import sys"
   ]
  },
  {
   "cell_type": "code",
   "execution_count": 3,
   "metadata": {},
   "outputs": [
    {
     "data": {
      "text/plain": [
       "['E:\\\\GitHub\\\\Python-Projects\\\\Hobby\\\\Credit Scoring Study - Deloitte',\n",
       " 'C:\\\\Users\\\\sherv\\\\Anaconda3\\\\envs\\\\Basics\\\\python37.zip',\n",
       " 'C:\\\\Users\\\\sherv\\\\Anaconda3\\\\envs\\\\Basics\\\\DLLs',\n",
       " 'C:\\\\Users\\\\sherv\\\\Anaconda3\\\\envs\\\\Basics\\\\lib',\n",
       " 'C:\\\\Users\\\\sherv\\\\Anaconda3\\\\envs\\\\Basics',\n",
       " '',\n",
       " 'C:\\\\Users\\\\sherv\\\\Anaconda3\\\\envs\\\\Basics\\\\lib\\\\site-packages',\n",
       " 'C:\\\\Users\\\\sherv\\\\Anaconda3\\\\envs\\\\Basics\\\\lib\\\\site-packages\\\\win32',\n",
       " 'C:\\\\Users\\\\sherv\\\\Anaconda3\\\\envs\\\\Basics\\\\lib\\\\site-packages\\\\win32\\\\lib',\n",
       " 'C:\\\\Users\\\\sherv\\\\Anaconda3\\\\envs\\\\Basics\\\\lib\\\\site-packages\\\\Pythonwin',\n",
       " 'C:\\\\Users\\\\sherv\\\\Anaconda3\\\\envs\\\\Basics\\\\lib\\\\site-packages\\\\IPython\\\\extensions',\n",
       " 'C:\\\\Users\\\\sherv\\\\.ipython']"
      ]
     },
     "execution_count": 3,
     "metadata": {},
     "output_type": "execute_result"
    }
   ],
   "source": [
    "sys.path"
   ]
  },
  {
   "cell_type": "code",
   "execution_count": 13,
   "metadata": {},
   "outputs": [],
   "source": [
    "shellpaths= ['C:\\\\Users\\\\sherv\\\\Anaconda3\\\\envs\\\\Basics\\\\python37.zip', \n",
    "             'C:\\\\Users\\\\sherv\\\\Anaconda3\\\\envs\\\\Basics\\\\DLLs', \n",
    "             'C:\\\\Users\\\\sherv\\\\Anaconda3\\\\envs\\\\Basics\\\\lib', \n",
    "             'C:\\\\Users\\\\sherv\\\\Anaconda3\\\\envs\\\\Basics', \n",
    "             'C:\\\\Users\\\\sherv\\\\Anaconda3\\\\envs\\\\Basics\\\\lib\\\\site-packages', \n",
    "             'C:\\\\Users\\\\sherv\\\\Anaconda3\\\\envs\\\\Basics\\\\lib\\\\site-packages\\\\win32', \n",
    "             'C:\\\\Users\\\\sherv\\\\Anaconda3\\\\envs\\\\Basics\\\\lib\\\\site-packages\\\\win32\\\\lib', \n",
    "             'C:\\\\Users\\\\sherv\\\\Anaconda3\\\\envs\\\\Basics\\\\lib\\\\site-packages\\\\Pythonwin']"
   ]
  },
  {
   "cell_type": "code",
   "execution_count": 4,
   "metadata": {},
   "outputs": [
    {
     "data": {
      "text/plain": [
       "'C:\\\\Users\\\\sherv\\\\Anaconda3\\\\envs\\\\Basics\\\\python.exe'"
      ]
     },
     "execution_count": 4,
     "metadata": {},
     "output_type": "execute_result"
    }
   ],
   "source": [
    "sys.executable #= \"C:\\\\Users\\\\sherv\\\\Anaconda3\\\\envs\\\\Basics\\\\python.exe\""
   ]
  },
  {
   "cell_type": "code",
   "execution_count": 14,
   "metadata": {},
   "outputs": [],
   "source": [
    "sys.path = shellpaths"
   ]
  },
  {
   "cell_type": "code",
   "execution_count": null,
   "metadata": {},
   "outputs": [],
   "source": []
  },
  {
   "cell_type": "code",
   "execution_count": null,
   "metadata": {},
   "outputs": [],
   "source": []
  },
  {
   "cell_type": "code",
   "execution_count": null,
   "metadata": {},
   "outputs": [],
   "source": []
  },
  {
   "cell_type": "code",
   "execution_count": null,
   "metadata": {},
   "outputs": [],
   "source": [
    "# install kernel in shell using: <path to exe> -m ipykernel install --name <sidplayname>\n",
    "\"C:\\\\Users\\\\sherv\\\\Anaconda3\\\\envs\\\\Basics\\\\python.exe\" -m ipykernel install --name PyBasics"
   ]
  }
 ],
 "metadata": {
  "kernelspec": {
   "display_name": "PyBasics",
   "language": "python",
   "name": "pybasics"
  },
  "language_info": {
   "codemirror_mode": {
    "name": "ipython",
    "version": 3
   },
   "file_extension": ".py",
   "mimetype": "text/x-python",
   "name": "python",
   "nbconvert_exporter": "python",
   "pygments_lexer": "ipython3",
   "version": "3.7.4"
  }
 },
 "nbformat": 4,
 "nbformat_minor": 4
}
