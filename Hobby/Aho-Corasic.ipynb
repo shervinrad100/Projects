{
 "cells": [
  {
   "cell_type": "markdown",
   "metadata": {},
   "source": [
    "# Tries \n",
    "\n",
    "## dictionary implementation"
   ]
  },
  {
   "cell_type": "code",
   "execution_count": 33,
   "metadata": {},
   "outputs": [],
   "source": [
    "class Trie():\n",
    "    tree = {}\n",
    "    \n",
    "    def add(self, string):\n",
    "        cursor = self.tree\n",
    "        for letter in string.strip().lower():\n",
    "            if letter not in cursor:\n",
    "                cursor[letter] = {}\n",
    "            cursor = cursor[letter]\n",
    "        cursor[\"*\"] = True\n",
    "        \n",
    "        \n",
    "    def search(self, string):\n",
    "        cursor = self.tree\n",
    "        for letter in string.strip().lower():\n",
    "            if letter not in cursor:\n",
    "                return False\n",
    "            cursor = cursor[letter]\n",
    "        if \"*\" in cursor:\n",
    "            return True\n",
    "        else:\n",
    "            return False\n",
    "        \n",
    "    def get(self):\n",
    "        return self.tree"
   ]
  },
  {
   "cell_type": "code",
   "execution_count": 37,
   "metadata": {},
   "outputs": [
    {
     "name": "stdout",
     "output_type": "stream",
     "text": [
      "True\n",
      "False\n"
     ]
    },
    {
     "data": {
      "text/plain": [
       "{'h': {'e': {'l': {'l': {'o': {'*': True}}}, 'y': {'*': True}},\n",
       "  'i': {'*': True, 'm': {'*': True}}}}"
      ]
     },
     "execution_count": 37,
     "metadata": {},
     "output_type": "execute_result"
    }
   ],
   "source": [
    "dic = Trie()\n",
    "dic.add(\"hello\")\n",
    "dic.add(\"hey\")\n",
    "dic.add(\"hi\")\n",
    "dic.add(\"him\")\n",
    "\n",
    "print(dic.search(\"Hi\"))\n",
    "print(dic.search(\"Shervin\"))\n",
    "\n",
    "dic.get()"
   ]
  },
  {
   "cell_type": "markdown",
   "metadata": {},
   "source": [
    "# Tree class implementation\n",
    "\n",
    "- TODO:\n",
    "implement try catch and fail testing"
   ]
  },
  {
   "cell_type": "code",
   "execution_count": 49,
   "metadata": {},
   "outputs": [],
   "source": [
    "class Tree():\n",
    "    \n",
    "    def __init__(self, data):\n",
    "        \"\"\"\n",
    "        initialise tree with a root node. \n",
    "        Root node saves passed on data with no parent and empty list of children.\n",
    "        \"\"\"\n",
    "        self.data = data\n",
    "        self.parent = None\n",
    "        self.children = {}\n",
    "        self.word = False\n",
    "        self.failure_link = None\n",
    "        self.dictionary_link = None\n",
    "    \n",
    "    def __repr__(self):\n",
    "        \"\"\"\n",
    "        textual representation of the node\n",
    "        \"\"\"\n",
    "        return f\"(Node:{self.data}, parent:{self.parent.data}, children:{list(self.children.keys())})\"   \n",
    "        \n",
    "    def add_child(self, data):\n",
    "        \"\"\"\n",
    "        Child nodes are initialised as subtrees.\n",
    "        \"\"\"\n",
    "        child = Tree(data)\n",
    "        self.children[data] = child \n",
    "        child.parent = self\n",
    "        \n",
    "    def get_level(self):\n",
    "        \"\"\"\n",
    "        retrieves the level at which the node is on within the tree.\n",
    "        \"\"\"\n",
    "        level = 0\n",
    "        p = self.parent\n",
    "        while p:\n",
    "            level += 1\n",
    "            p = p.parent\n",
    "        return level\n",
    "        \n",
    "    def print_tree(self):\n",
    "        indentation = \"   \" * self.get_level() + \"|__\" if self.parent else \"\" \n",
    "        is_word_node = \"*\" if self.word else \"\" \n",
    "        print(indentation + self.data + is_word_node)\n",
    "        if self.children:\n",
    "            for child in self.children.values():\n",
    "                child.print_tree()"
   ]
  },
  {
   "cell_type": "code",
   "execution_count": 50,
   "metadata": {},
   "outputs": [],
   "source": [
    "root = Tree(\"root\")\n",
    "root.add_child(\"L1a\")\n",
    "root.add_child(\"L1b\")\n",
    "L1a = root.children[\"L1a\"]\n",
    "L1a.add_child(\"L2\")"
   ]
  },
  {
   "cell_type": "code",
   "execution_count": 51,
   "metadata": {},
   "outputs": [
    {
     "name": "stdout",
     "output_type": "stream",
     "text": [
      "root\n",
      "   |__L1a\n",
      "      |__L2\n",
      "   |__L1b\n"
     ]
    }
   ],
   "source": [
    "root.print_tree()"
   ]
  },
  {
   "cell_type": "code",
   "execution_count": 52,
   "metadata": {},
   "outputs": [],
   "source": [
    "class Aho_Corasic():\n",
    "    \n",
    "    def __init__(self):\n",
    "        \"\"\"\n",
    "        initialise A-C Trie as a tree. \n",
    "        For inheritance of Tree methods refer to root node methods. ie print_tree \n",
    "        \"\"\"\n",
    "        self.root = Tree(\"\")\n",
    "\n",
    "    def _get_node(self, word):\n",
    "        node = self.root\n",
    "        for letter in word.strip().lower():\n",
    "            if letter in node.children.keys():\n",
    "                node = node.children[letter]\n",
    "            else:\n",
    "                return None\n",
    "        return node\n",
    "    \n",
    "    def add_word(self, word):\n",
    "        # if word is empty string returns nothing \n",
    "        if not word:\n",
    "            return \n",
    "        \n",
    "        node = self.root\n",
    "        for letter in word.strip().lower():\n",
    "            if letter in node.children.keys():\n",
    "                node = node.children[letter] \n",
    "            else:\n",
    "                node.add_child(letter)\n",
    "                node = node.children[letter]\n",
    "        node.word = True\n",
    "                \n",
    "    def exists(self, word):\n",
    "        node = self._get_node(word)\n",
    "        if node:\n",
    "            return True if node.data else False\n",
    "        else:\n",
    "            return False\n",
    "        \n",
    "    def make_automaton(self):\n",
    "        \"\"\"\n",
    "        Converts to Aho-Corasic automaton \n",
    "        #1 if a character is not in root's children, failure_link = root\n",
    "        and add node to memory queue.\n",
    "        else select node as root.\n",
    "        \n",
    "        #2 go through queue and remove nodes while adding their children to queue\n",
    "        for each node in queue, record the failure node (failureNode = node.failure_link), \n",
    "        while children of the node are not children of the failureNode, set failureNode to \n",
    "        failureNode.failure_link. Then the node's failure_link would be the \n",
    "        failureNode's child with data == child\n",
    "        \"\"\"\n",
    "        pass\n",
    "        \n",
    "        "
   ]
  },
  {
   "cell_type": "markdown",
   "metadata": {},
   "source": [
    "# Testing of A-C trie\n",
    "\n",
    "- add words and look at the tree"
   ]
  },
  {
   "cell_type": "code",
   "execution_count": 53,
   "metadata": {},
   "outputs": [
    {
     "name": "stdout",
     "output_type": "stream",
     "text": [
      "\n",
      "   |__h\n",
      "      |__e\n",
      "         |__l\n",
      "            |__l*\n",
      "               |__o*\n",
      "         |__y*\n",
      "      |__i*\n",
      "         |__m*\n"
     ]
    }
   ],
   "source": [
    "trie = Aho_Corasic()\n",
    "trie.add_word(\"Hello\")\n",
    "trie.add_word(\"hey\")\n",
    "trie.add_word(\"hI\")\n",
    "trie.add_word(\"him\")\n",
    "trie.add_word(\"hell\")\n",
    "trie.root.print_tree()"
   ]
  },
  {
   "cell_type": "markdown",
   "metadata": {},
   "source": [
    "- see if word exists \n",
    "- add substring as a new word"
   ]
  },
  {
   "cell_type": "code",
   "execution_count": 54,
   "metadata": {},
   "outputs": [],
   "source": [
    "word = \"he\"\n",
    "if trie.exists(word):\n",
    "    trie.add_word(word)"
   ]
  },
  {
   "cell_type": "code",
   "execution_count": 55,
   "metadata": {},
   "outputs": [
    {
     "name": "stdout",
     "output_type": "stream",
     "text": [
      "\n",
      "   |__h\n",
      "      |__e*\n",
      "         |__l\n",
      "            |__l*\n",
      "               |__o*\n",
      "         |__y*\n",
      "      |__i*\n",
      "         |__m*\n"
     ]
    }
   ],
   "source": [
    "trie.root.print_tree()"
   ]
  }
 ],
 "metadata": {
  "kernelspec": {
   "display_name": "Python 3",
   "language": "python",
   "name": "python3"
  },
  "language_info": {
   "codemirror_mode": {
    "name": "ipython",
    "version": 3
   },
   "file_extension": ".py",
   "mimetype": "text/x-python",
   "name": "python",
   "nbconvert_exporter": "python",
   "pygments_lexer": "ipython3",
   "version": "3.7.3"
  }
 },
 "nbformat": 4,
 "nbformat_minor": 4
}
