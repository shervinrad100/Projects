{
 "cells": [
  {
   "cell_type": "markdown",
   "metadata": {},
   "source": [
    "sender enccrypts the message as many times as you have nodes in the net\n",
    "each node only knows the previous and the next nodes and only has 1 key (to decrypt the top layer)"
   ]
  },
  {
   "cell_type": "markdown",
   "metadata": {},
   "source": [
    "the idea is for first node to encrypt its message n times and send public key to its choice of n node from the available array. It then begins to send the cypher to those nodes IN ORDER. the message received will be decrypted and forwarded. The forwarding information is included in the message. "
   ]
  },
  {
   "cell_type": "markdown",
   "metadata": {},
   "source": [
    "OK so now we should ask, how does the node know how to decrypt the message? How do we give them the public key?\n",
    "\n",
    "(asymmetric key is often used for the key exchange and then the actual data is encrypted with a symmetric algorithm.)\n",
    "\n",
    "\n",
    "the methods we can use are:\n",
    "1. D-H key exchange: does not authenticate and in our use case, is dangerous\n",
    "2. PKI: widely use is kerberos\n",
    "3. Web of Trust: requires trusted and pre initialised network which is inaccessible to us\n",
    "4. blockchain: problem is how do we keep the key confidential until it gets to them? \n",
    "\n",
    "\n",
    "we can even hash a password, call them to tell them the hash and the pass and then use the pass to authenticate. If hash == myhash then decrypt. \n",
    "\n",
    "CHECK OUT X.509\n"
   ]
  },
  {
   "cell_type": "code",
   "execution_count": 7,
   "metadata": {},
   "outputs": [],
   "source": [
    "from cryptography.fernet import Fernet\n",
    "import random \n",
    "# import gc"
   ]
  },
  {
   "cell_type": "code",
   "execution_count": 2,
   "metadata": {},
   "outputs": [
    {
     "data": {
      "text/plain": [
       "b'Message has to be in bytes'"
      ]
     },
     "execution_count": 2,
     "metadata": {},
     "output_type": "execute_result"
    }
   ],
   "source": [
    "# how does the package work??\n",
    "key = Fernet.generate_key()\n",
    "f = Fernet(key)\n",
    "token = f.encrypt(b\"Message has to be in bytes\")\n",
    "f.decrypt(token)"
   ]
  },
  {
   "cell_type": "code",
   "execution_count": 3,
   "metadata": {},
   "outputs": [],
   "source": [
    "# define what a node is \n",
    "class Node:\n",
    "    def __init__(self, nID):\n",
    "        self.ID = \"N\"+str(nID) \n",
    "        self.bins = {}  # initialise with a memory allocated to the node\n",
    "        return None\n",
    "    \n",
    "    # receive information from the outside world\n",
    "    def receive(self,head,message):\n",
    "        if head == \"forward\":\n",
    "            print(self.ID, \"received message\")\n",
    "            self.forward(message)\n",
    "        else:\n",
    "            self.bins[head] = message\n",
    "            print(f\"{self.ID} saved {head} \")\n",
    "            \n",
    "    \n",
    "    # write a send method which decrypts message and forwards to next node \n",
    "    def forward(self,message):\n",
    "        msg = Fernet(self.bins[\"key\"]).decrypt(message)\n",
    "        if \"forwardTo\" in self.bins:\n",
    "            self.bins[\"forwardTo\"].receive(\"forward\",msg)\n",
    "        else:\n",
    "            self.bins[\"message\"] = msg\n",
    "            print(\"message received\")\n",
    "    \n",
    "    \n",
    "class Sender(Node): \n",
    "    # initialises sender with number of hops and the list of available nodes to samples from \n",
    "    def __init__(self, nID):\n",
    "        self.ID = \"N\"+str(nID) \n",
    "        self.bins = {}\n",
    "        return None\n",
    "        \n",
    "    def network(self, hops,avNodes, rec):\n",
    "        self.hops = hops\n",
    "        self.net = random.sample(set(avNodes),hops)\n",
    "        self.net.append(rec)\n",
    "        # generate key for instances in chosen network\n",
    "        for n in range(self.hops+1):\n",
    "            key = Fernet.generate_key()\n",
    "            self.net[n].receive(head = \"key\", message=key) # send node key\n",
    "            self.bins[self.net[n].ID]= key # record who has which key\n",
    "            print(f\"Key sent to Node {self.net[n].ID}\")\n",
    "        # assign forwarding address for nodes\n",
    "        for n in range(self.hops):\n",
    "            self.net[n].receive(head=\"forwardTo\",message=self.net[n+1])\n",
    "        return None\n",
    "    \n",
    "    \n",
    "    def encrypt(self,msg,encode=\"utf-8\"):\n",
    "        # this method encrypts the message initiates the send \n",
    "        self.message = bytes(msg,encode)\n",
    "        for key in reversed(list(self.bins.values())):\n",
    "            self.message = Fernet(key).encrypt(self.message)\n",
    "        self.net[0].receive(\"forward\",self.message)"
   ]
  },
  {
   "cell_type": "code",
   "execution_count": 4,
   "metadata": {},
   "outputs": [
    {
     "name": "stdout",
     "output_type": "stream",
     "text": [
      "N9 saved key \n",
      "Key sent to Node N9\n",
      "N4 saved key \n",
      "Key sent to Node N4\n",
      "N5 saved key \n",
      "Key sent to Node N5\n",
      "N-Rec saved key \n",
      "Key sent to Node N-Rec\n",
      "N9 saved forwardTo \n",
      "N4 saved forwardTo \n",
      "N5 saved forwardTo \n"
     ]
    }
   ],
   "source": [
    "# create many nodes\n",
    "MyNodes = []\n",
    "\n",
    "for n in range(10):\n",
    "    MyNodes.append(Node(n))\n",
    "\n",
    "S0 = Sender(\"-Send\")\n",
    "R0 = Node(\"-Rec\")\n",
    "S0.network(3, MyNodes,R0)"
   ]
  },
  {
   "cell_type": "code",
   "execution_count": null,
   "metadata": {
    "scrolled": false
   },
   "outputs": [],
   "source": [
    "# chekc to see if nodes have been created (this method will take a long time if gc is full)\n",
    "for obj in gc.get_objects():\n",
    "    if isinstance(obj, Node): # if object is an instance of the class\n",
    "        print(obj.ID) # print the object's attribute 'ID'"
   ]
  },
  {
   "cell_type": "markdown",
   "metadata": {},
   "source": [
    "problem is if someone's listening in on the sender's output, they would know everything about our network; taken from the keys to the forwarding addresses."
   ]
  },
  {
   "cell_type": "code",
   "execution_count": 12,
   "metadata": {},
   "outputs": [
    {
     "data": {
      "text/plain": [
       "{'N9': b'RGb8LdZylNl0VhS4Du3-lo6aMtvpdJsy4N1yOTDxBbE=',\n",
       " 'N4': b'FP1rEexC07hf7mOLCzr3HR9T9Q6cy-BTzsLIduRc1h4=',\n",
       " 'N5': b'ZoW07MMli_U8hZtmmgsiXS8jNHeEDSvar1g4XBmtA3Y=',\n",
       " 'N-Rec': b'IQOGJZmt-kgzjyJ7Xfhpqo-y-yxYMlrONZN5_uLwwDo='}"
      ]
     },
     "execution_count": 12,
     "metadata": {},
     "output_type": "execute_result"
    }
   ],
   "source": [
    "# S0.net\n",
    "S0.bins"
   ]
  },
  {
   "cell_type": "code",
   "execution_count": 5,
   "metadata": {},
   "outputs": [
    {
     "name": "stdout",
     "output_type": "stream",
     "text": [
      "N9 received message\n",
      "N4 received message\n",
      "N5 received message\n",
      "N-Rec received message\n",
      "message received\n"
     ]
    }
   ],
   "source": [
    "S0.encrypt(\"My message\")"
   ]
  },
  {
   "cell_type": "code",
   "execution_count": 8,
   "metadata": {},
   "outputs": [
    {
     "data": {
      "text/plain": [
       "b'My message'"
      ]
     },
     "execution_count": 8,
     "metadata": {},
     "output_type": "execute_result"
    }
   ],
   "source": [
    "R0.bins[\"message\"]"
   ]
  },
  {
   "cell_type": "code",
   "execution_count": null,
   "metadata": {},
   "outputs": [],
   "source": []
  },
  {
   "cell_type": "markdown",
   "metadata": {
    "scrolled": true
   },
   "source": [
    "# Diffie-Hellman"
   ]
  },
  {
   "cell_type": "code",
   "execution_count": null,
   "metadata": {},
   "outputs": [],
   "source": [
    "# TODO: have parameters as static instances so that the class inherits them. \n",
    "#     Then make instance method which creates a or b and then you save them in the instances Alice and Bob\n",
    "#     you also have another instance method which creates A or B \n",
    "#     the key is also an instance method which allows A and B to calculate the mutual key and start communication\n",
    "# then hash the key and attach it to header. If at any point that hash is different to s saved on A or B then dont trust\n",
    "\n",
    "class d_h():\n",
    "    \n",
    "    def _primRoots(self,modulo):\n",
    "        def gcd(a,b):\n",
    "            while b != 0:\n",
    "                a, b = b, a % b\n",
    "            return a\n",
    "        coprime_set = {num for num in range(1, modulo) if gcd(num, modulo) == 1}\n",
    "        return [g for g in range(1, modulo) if coprime_set == {pow(g, powers, modulo)\n",
    "                for powers in range(1, modulo)}]\n",
    "\n",
    "    def params(self):\n",
    "        p = random.randint(10**1, 10**2) # a 1020 - 2040 bit number 250, 256\n",
    "        g = random.choice(self._primRoots(p)) # choose a primitive root to p\n",
    "        print(\"(p,g)\")\n",
    "        return (p,g)\n",
    "    \n",
    "    def Alice_Bob(p, g):\n",
    "        a = random.randint(10**25, 10**50) # a number between 2 kbit to 4kbit 250 500\n",
    "        A = (g**a)%p\n",
    "        return a, A\n",
    "    \n",
    "    def key(a, B, p):\n",
    "        s = (B**a)%p\n",
    "        return s"
   ]
  },
  {
   "cell_type": "code",
   "execution_count": null,
   "metadata": {},
   "outputs": [],
   "source": [
    "DH = d_h()\n",
    "DH.params()"
   ]
  },
  {
   "cell_type": "code",
   "execution_count": null,
   "metadata": {},
   "outputs": [],
   "source": [
    "DH.Alice_Bob(47,44)"
   ]
  }
 ],
 "metadata": {
  "kernelspec": {
   "display_name": "Basics",
   "language": "python",
   "name": "basics"
  },
  "language_info": {
   "codemirror_mode": {
    "name": "ipython",
    "version": 3
   },
   "file_extension": ".py",
   "mimetype": "text/x-python",
   "name": "python",
   "nbconvert_exporter": "python",
   "pygments_lexer": "ipython3",
   "version": "3.7.3"
  }
 },
 "nbformat": 4,
 "nbformat_minor": 4
}
