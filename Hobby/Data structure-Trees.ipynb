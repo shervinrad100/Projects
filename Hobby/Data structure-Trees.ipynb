{
 "cells": [
  {
   "cell_type": "markdown",
   "metadata": {},
   "source": [
    "# Binary tree\n",
    "## Pre/in/post order traversals\n",
    "- pre: left to right\n",
    "- in: top down\n",
    "- post: down up"
   ]
  },
  {
   "cell_type": "code",
   "execution_count": 13,
   "metadata": {},
   "outputs": [],
   "source": [
    "class Node:\n",
    "    def __init__(self, value=None):\n",
    "        self.value = value\n",
    "        self.left = None\n",
    "        self.right = None\n",
    "        \n",
    "class BinaryTree:\n",
    "    def __init__(self):\n",
    "        self.root = None\n",
    "    \n",
    "    def insert(self, value):\n",
    "        if self.root == None:\n",
    "            self.root = Node(value)\n",
    "        else:\n",
    "            self._insert(value, self.root)\n",
    "            \n",
    "                \n",
    "    def _insert(self, value, curr_node):\n",
    "        if value < curr_node.value:\n",
    "            if curr_node.left == None:\n",
    "                curr_node.left = Node(value)\n",
    "            else:\n",
    "                self._insert(value, curr_node.left)\n",
    "        elif value > curr_node.value:\n",
    "            if curr_node.right == None:\n",
    "                curr_node.right = Node(value)\n",
    "            else:\n",
    "                self._insert(value, curr_node.right)\n",
    "        else:\n",
    "            print(\"value already in tree\")\n",
    "            \n",
    "    def preorder(self):\n",
    "        if self.root != None:\n",
    "            self._preorder(self.root)\n",
    "        \n",
    "    def _preorder(self, curr_node):\n",
    "        if curr_node != None:\n",
    "            self._preorder(curr_node.left)\n",
    "            print(str(curr_node.value))\n",
    "            self._preorder(curr_node.right)\n",
    "            \n",
    "    def height(self):\n",
    "        if self.root!= None:\n",
    "            return self._height(root, 0)\n",
    "        else:\n",
    "            return 0\n",
    "        \n",
    "    def _height(self, curr_node, curr_height):\n",
    "        if curr_node == None: return curr_height\n",
    "        left_height = self._height(curr_node.left, curr_height+1)\n",
    "        right_height = self._height(curr_node.right, curr_height+1)\n",
    "        return max(left_height, right_height)\n",
    "    \n",
    "    def search(self, value):\n",
    "        if self.root != None:\n",
    "            return self._search(value, self.root)\n",
    "        else:\n",
    "            return False\n",
    "        \n",
    "    def _search(self, value, curr_node):\n",
    "        if value == curr_node.value:\n",
    "            return True\n",
    "        elif value < curr_node.value and curr_node.left != None:\n",
    "            return self._search(value, curr_node.left)\n",
    "        elif value > curr_node.value and curr_node.right != None:\n",
    "            return self._search(value, curr_node.right)\n",
    "        else:\n",
    "            return False"
   ]
  },
  {
   "cell_type": "code",
   "execution_count": 14,
   "metadata": {},
   "outputs": [
    {
     "name": "stdout",
     "output_type": "stream",
     "text": [
      "value already in tree\n",
      "value already in tree\n",
      "value already in tree\n",
      "1\n",
      "3\n",
      "5\n",
      "11\n",
      "13\n",
      "15\n",
      "20\n"
     ]
    }
   ],
   "source": [
    "def fill_tree(tree, elems=10, maxint=20):\n",
    "    from random import randint\n",
    "    for _ in range(elems):\n",
    "        \n",
    "        tree.insert(randint(0,maxint))\n",
    "    return tree\n",
    "\n",
    "TestTree = BinaryTree()\n",
    "TestTree = fill_tree(TestTree)\n",
    "TestTree.preorder()"
   ]
  },
  {
   "cell_type": "code",
   "execution_count": 16,
   "metadata": {},
   "outputs": [
    {
     "name": "stdout",
     "output_type": "stream",
     "text": [
      "False\n",
      "True\n"
     ]
    }
   ],
   "source": [
    "print(TestTree.search(7))\n",
    "print(TestTree.search(20))"
   ]
  },
  {
   "cell_type": "markdown",
   "metadata": {},
   "source": [
    "# Tree search "
   ]
  },
  {
   "cell_type": "code",
   "execution_count": null,
   "metadata": {},
   "outputs": [],
   "source": []
  },
  {
   "cell_type": "markdown",
   "metadata": {},
   "source": [
    "# Non-binary tree\n"
   ]
  },
  {
   "cell_type": "code",
   "execution_count": null,
   "metadata": {},
   "outputs": [],
   "source": []
  }
 ],
 "metadata": {
  "kernelspec": {
   "display_name": "Python 3",
   "language": "python",
   "name": "python3"
  },
  "language_info": {
   "codemirror_mode": {
    "name": "ipython",
    "version": 3
   },
   "file_extension": ".py",
   "mimetype": "text/x-python",
   "name": "python",
   "nbconvert_exporter": "python",
   "pygments_lexer": "ipython3",
   "version": "3.7.3"
  }
 },
 "nbformat": 4,
 "nbformat_minor": 2
}
