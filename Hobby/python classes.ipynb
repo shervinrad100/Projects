{
 "cells": [
  {
   "cell_type": "markdown",
   "metadata": {},
   "source": [
    "# Creating classes, methods and objects\n",
    "\n",
    "To create a class, you start with a built in declaration `class`. We want to create a class called `point` which shows a point on the cartesian coordinate system.\n",
    "\n",
    "```class point: \n",
    "       def __init__(self): \n",
    "           self.x = 0\n",
    "           self.y = 0\n",
    "```\n",
    "\n",
    "We now want to make objects that belong to this class. In order for these objects to belong to this class, they must have something in common and this is how we define those rules. For example humans have names and a gender. So if we make a class named human, all objects that belong to this class must have names and genders. To create these objects we initialise them and give them these basic attributes."
   ]
  },
  {
   "cell_type": "code",
   "execution_count": 80,
   "metadata": {},
   "outputs": [
    {
     "name": "stdout",
     "output_type": "stream",
     "text": [
      "Sherv is a Male\n"
     ]
    }
   ],
   "source": [
    "class human:\n",
    "    \n",
    "    def __init__(self,name,gender): \n",
    "        '''objects that are created under this class are \n",
    "        initialised like this (given the following attributes)'''\n",
    "        self.persons_name = name # calling this gives the humans name\n",
    "        self.persons_gender = gender # calling this gives the gender\n",
    "        \n",
    "    def get_name(self):\n",
    "        return self.persons_name\n",
    "    \n",
    "    def get_gender(self):\n",
    "        return self.persons_gender\n",
    "\n",
    "me = human('Sherv','Male')  # Your object\n",
    "\n",
    "print(me.get_name(), 'is a',me.get_gender())"
   ]
  },
  {
   "cell_type": "markdown",
   "metadata": {},
   "source": [
    "try doing the above again but this time have the get_name and gender out of the class and as global functions."
   ]
  },
  {
   "cell_type": "code",
   "execution_count": null,
   "metadata": {},
   "outputs": [],
   "source": []
  },
  {
   "cell_type": "markdown",
   "metadata": {},
   "source": []
  },
  {
   "cell_type": "code",
   "execution_count": 73,
   "metadata": {},
   "outputs": [
    {
     "name": "stdout",
     "output_type": "stream",
     "text": [
      "class is working\n",
      "function is working\n"
     ]
    }
   ],
   "source": [
    "class Demo:\n",
    "    def demo(self):\n",
    "        print('class is working')\n",
    "\n",
    "myobject = Demo() # Create object\n",
    "\n",
    "def Demo2():\n",
    "    print('function is working')\n",
    "\n",
    "# Now we will test them\n",
    "myobject.demo() # Calls class method\n",
    "Demo2() # Calls function\n"
   ]
  },
  {
   "cell_type": "markdown",
   "metadata": {},
   "source": [
    "Try creating multiple objects that belong to the car class and define different attributes for them. Test their IDs using `print(id(myobject))` and see what reults you get."
   ]
  },
  {
   "cell_type": "code",
   "execution_count": null,
   "metadata": {},
   "outputs": [],
   "source": [
    "class car:\n",
    "    def __init__(self, speed, colour):\n",
    "        "
   ]
  }
 ],
 "metadata": {
  "kernelspec": {
   "display_name": "Python 3",
   "language": "python",
   "name": "python3"
  },
  "language_info": {
   "codemirror_mode": {
    "name": "ipython",
    "version": 3
   },
   "file_extension": ".py",
   "mimetype": "text/x-python",
   "name": "python",
   "nbconvert_exporter": "python",
   "pygments_lexer": "ipython3",
   "version": "3.6.5"
  }
 },
 "nbformat": 4,
 "nbformat_minor": 2
}
