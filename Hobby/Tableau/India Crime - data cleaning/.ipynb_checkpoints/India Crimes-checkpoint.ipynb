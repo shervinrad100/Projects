{
 "cells": [
  {
   "cell_type": "code",
   "execution_count": 10,
   "metadata": {},
   "outputs": [],
   "source": [
    "# India Datasets\n",
    "## Crime \n",
    "\n",
    "import pandas as pd\n",
    "\n",
    "DistrictWiseCrimesCommitted_IPC2001_2012 = pd.read_csv(\n",
    "        \"E:\\\\Project Data\\\\Kaggle\\\\India\\\\crime-in-india\\\\crime\\\\01_District_wise_crimes_committed_IPC_2001_2012.csv\",\n",
    "        header=0)\n",
    "\n",
    "DistrictWiseCrimesCommitted_IPC2013 = pd.read_csv(\n",
    "        \"E:\\\\Project Data\\\\Kaggle\\\\India\\\\crime-in-india\\\\crime\\\\01_District_wise_crimes_committed_IPC_2013.csv\",\n",
    "        header=0)\n",
    "\n",
    "District_wise_crimes_committed_IPC_2014 = pd.read_csv(\n",
    "        \"E:\\\\Project Data\\\\Kaggle\\\\India\\\\crime-in-india\\\\crime\\\\01_District_wise_crimes_committed_IPC_2014.csv\",\n",
    "        header=0)\n",
    "\n",
    "\n"
   ]
  },
  {
   "cell_type": "code",
   "execution_count": 1,
   "metadata": {},
   "outputs": [],
   "source": [
    "#DistrictWiseCrimesCommitted_IPC2001_2012"
   ]
  },
  {
   "cell_type": "markdown",
   "metadata": {},
   "source": [
    "we know which cols include strings, find those and turn each element in them to elem.upper()"
   ]
  },
  {
   "cell_type": "code",
   "execution_count": 11,
   "metadata": {},
   "outputs": [
    {
     "name": "stderr",
     "output_type": "stream",
     "text": [
      "C:\\Users\\sherv\\Anaconda3\\lib\\site-packages\\ipykernel_launcher.py:4: SettingWithCopyWarning: \n",
      "A value is trying to be set on a copy of a slice from a DataFrame\n",
      "\n",
      "See the caveats in the documentation: https://pandas.pydata.org/pandas-docs/stable/user_guide/indexing.html#returning-a-view-versus-a-copy\n",
      "  after removing the cwd from sys.path.\n"
     ]
    }
   ],
   "source": [
    "for col in DistrictWiseCrimesCommitted_IPC2001_2012.columns:\n",
    "    for index in range(len(DistrictWiseCrimesCommitted_IPC2001_2012)):\n",
    "        try:\n",
    "            DistrictWiseCrimesCommitted_IPC2001_2012[col][index] = DistrictWiseCrimesCommitted_IPC2001_2012[col][index].upper()\n",
    "        except:\n",
    "            pass"
   ]
  },
  {
   "cell_type": "code",
   "execution_count": 2,
   "metadata": {},
   "outputs": [],
   "source": [
    "#DistrictWiseCrimesCommitted_IPC2013"
   ]
  },
  {
   "cell_type": "code",
   "execution_count": 13,
   "metadata": {},
   "outputs": [
    {
     "name": "stderr",
     "output_type": "stream",
     "text": [
      "C:\\Users\\sherv\\Anaconda3\\lib\\site-packages\\ipykernel_launcher.py:4: SettingWithCopyWarning: \n",
      "A value is trying to be set on a copy of a slice from a DataFrame\n",
      "\n",
      "See the caveats in the documentation: https://pandas.pydata.org/pandas-docs/stable/user_guide/indexing.html#returning-a-view-versus-a-copy\n",
      "  after removing the cwd from sys.path.\n"
     ]
    }
   ],
   "source": [
    "for col in DistrictWiseCrimesCommitted_IPC2013.columns:\n",
    "    for index in range(len(DistrictWiseCrimesCommitted_IPC2013)):\n",
    "        try:\n",
    "            DistrictWiseCrimesCommitted_IPC2013[col][index] = DistrictWiseCrimesCommitted_IPC2013[col][index].upper()\n",
    "        except:\n",
    "            pass"
   ]
  },
  {
   "cell_type": "code",
   "execution_count": 14,
   "metadata": {
    "scrolled": true
   },
   "outputs": [],
   "source": [
    "#DistrictWiseCrimesCommitted_IPC2013"
   ]
  },
  {
   "cell_type": "code",
   "execution_count": 15,
   "metadata": {},
   "outputs": [
    {
     "data": {
      "text/plain": [
       "array([ True,  True,  True,  True,  True,  True,  True,  True,  True,\n",
       "        True,  True,  True,  True,  True,  True,  True,  True,  True,\n",
       "        True,  True,  True,  True,  True,  True,  True,  True,  True,\n",
       "        True,  True,  True,  True,  True,  True])"
      ]
     },
     "execution_count": 15,
     "metadata": {},
     "output_type": "execute_result"
    }
   ],
   "source": [
    "DistrictWiseCrimesCommitted_IPC2013.columns == DistrictWiseCrimesCommitted_IPC2001_2012.columns "
   ]
  },
  {
   "cell_type": "code",
   "execution_count": 16,
   "metadata": {},
   "outputs": [],
   "source": [
    "#District_wise_crimes_committed_IPC_2014"
   ]
  },
  {
   "cell_type": "markdown",
   "metadata": {},
   "source": [
    "column titles are lower case so we turn them "
   ]
  },
  {
   "cell_type": "code",
   "execution_count": 17,
   "metadata": {},
   "outputs": [],
   "source": [
    "District_wise_crimes_committed_IPC_2014.columns = [x.upper() for x in list(District_wise_crimes_committed_IPC_2014.columns)]"
   ]
  },
  {
   "cell_type": "code",
   "execution_count": 18,
   "metadata": {},
   "outputs": [
    {
     "name": "stderr",
     "output_type": "stream",
     "text": [
      "C:\\Users\\sherv\\Anaconda3\\lib\\site-packages\\ipykernel_launcher.py:4: SettingWithCopyWarning: \n",
      "A value is trying to be set on a copy of a slice from a DataFrame\n",
      "\n",
      "See the caveats in the documentation: https://pandas.pydata.org/pandas-docs/stable/user_guide/indexing.html#returning-a-view-versus-a-copy\n",
      "  after removing the cwd from sys.path.\n"
     ]
    }
   ],
   "source": [
    "for col in District_wise_crimes_committed_IPC_2014.columns:\n",
    "    for index in range(len(District_wise_crimes_committed_IPC_2014)):\n",
    "        try:\n",
    "            District_wise_crimes_committed_IPC_2014[col][index] = District_wise_crimes_committed_IPC_2014[col][index].upper()\n",
    "        except:\n",
    "            pass"
   ]
  },
  {
   "cell_type": "code",
   "execution_count": 19,
   "metadata": {},
   "outputs": [],
   "source": [
    "#District_wise_crimes_committed_IPC_2014"
   ]
  },
  {
   "cell_type": "markdown",
   "metadata": {},
   "source": [
    "number of columns are different so may need to outer join. Just to see what columns will get added and how many of them there will be we do this:\n"
   ]
  },
  {
   "cell_type": "code",
   "execution_count": 21,
   "metadata": {},
   "outputs": [],
   "source": [
    "def difference(data):\n",
    "    i=0\n",
    "    for item in list(data.columns):\n",
    "        if item not in (list(data.columns) or list(data)):\n",
    "            print(item)\n",
    "            i+= 1\n",
    "        \n",
    "difference(District_wise_crimes_committed_IPC_2014)   "
   ]
  },
  {
   "cell_type": "markdown",
   "metadata": {},
   "source": [
    "you can either go through them one buy one and sum the granulated columns\n",
    "or you can write code that aggregates the columns with similar headers."
   ]
  },
  {
   "cell_type": "code",
   "execution_count": 22,
   "metadata": {
    "scrolled": true
   },
   "outputs": [
    {
     "name": "stdout",
     "output_type": "stream",
     "text": [
      "RAPE\n",
      "CUSTODIAL RAPE\n",
      "CUSTODIAL_GANG RAPE\n",
      "CUSTODIAL_OTHER RAPE\n",
      "RAPE OTHER THAN CUSTODIAL\n",
      "RAPE_GANG RAPE\n",
      "RAPE_OTHERS\n",
      "ATTEMPT TO COMMIT RAPE\n"
     ]
    }
   ],
   "source": [
    "for col in District_wise_crimes_committed_IPC_2014.columns:\n",
    "    if \"RAPE\" in col.strip():\n",
    "        print(col)"
   ]
  },
  {
   "cell_type": "code",
   "execution_count": 23,
   "metadata": {},
   "outputs": [
    {
     "name": "stdout",
     "output_type": "stream",
     "text": [
      "RAPE\n",
      "CUSTODIAL RAPE\n",
      "OTHER RAPE\n"
     ]
    }
   ],
   "source": [
    "for col in DistrictWiseCrimesCommitted_IPC2013.columns:\n",
    "    if \"RAPE\" in (col.strip()):\n",
    "        print(col)"
   ]
  },
  {
   "cell_type": "markdown",
   "metadata": {},
   "source": [
    "so here I would sum to custodial rapes together and other rape respectively. Here the description of the data is really important so we dont aggregate wrong data"
   ]
  },
  {
   "cell_type": "code",
   "execution_count": 24,
   "metadata": {},
   "outputs": [
    {
     "name": "stderr",
     "output_type": "stream",
     "text": [
      "C:\\Users\\sherv\\Anaconda3\\lib\\site-packages\\ipykernel_launcher.py:4: SettingWithCopyWarning: \n",
      "A value is trying to be set on a copy of a slice from a DataFrame\n",
      "\n",
      "See the caveats in the documentation: https://pandas.pydata.org/pandas-docs/stable/user_guide/indexing.html#returning-a-view-versus-a-copy\n",
      "  after removing the cwd from sys.path.\n",
      "C:\\Users\\sherv\\Anaconda3\\lib\\site-packages\\ipykernel_launcher.py:5: SettingWithCopyWarning: \n",
      "A value is trying to be set on a copy of a slice from a DataFrame\n",
      "\n",
      "See the caveats in the documentation: https://pandas.pydata.org/pandas-docs/stable/user_guide/indexing.html#returning-a-view-versus-a-copy\n",
      "  \"\"\"\n"
     ]
    }
   ],
   "source": [
    "import numpy as np\n",
    "District_wise_crimes_committed_IPC_2014[\"OTHER RAPE\"]= np.zeros(len(District_wise_crimes_committed_IPC_2014))\n",
    "for index in range(len(District_wise_crimes_committed_IPC_2014)):\n",
    "    District_wise_crimes_committed_IPC_2014[\"CUSTODIAL RAPE\"][index] += District_wise_crimes_committed_IPC_2014[\"CUSTODIAL_GANG RAPE\"][index]+ District_wise_crimes_committed_IPC_2014[\"CUSTODIAL_OTHER RAPE\"][index]\n",
    "    District_wise_crimes_committed_IPC_2014[\"OTHER RAPE\"][index] = District_wise_crimes_committed_IPC_2014[\"RAPE OTHER THAN CUSTODIAL\"][index]+District_wise_crimes_committed_IPC_2014[\"RAPE_GANG RAPE\"][index]+District_wise_crimes_committed_IPC_2014[\"RAPE_OTHERS\"][index]\n",
    "    \n"
   ]
  },
  {
   "cell_type": "code",
   "execution_count": 25,
   "metadata": {
    "scrolled": true
   },
   "outputs": [
    {
     "data": {
      "text/html": [
       "<div>\n",
       "<style scoped>\n",
       "    .dataframe tbody tr th:only-of-type {\n",
       "        vertical-align: middle;\n",
       "    }\n",
       "\n",
       "    .dataframe tbody tr th {\n",
       "        vertical-align: top;\n",
       "    }\n",
       "\n",
       "    .dataframe thead th {\n",
       "        text-align: right;\n",
       "    }\n",
       "</style>\n",
       "<table border=\"1\" class=\"dataframe\">\n",
       "  <thead>\n",
       "    <tr style=\"text-align: right;\">\n",
       "      <th></th>\n",
       "      <th>STATES/UTS</th>\n",
       "      <th>DISTRICT</th>\n",
       "      <th>YEAR</th>\n",
       "      <th>MURDER</th>\n",
       "      <th>ATTEMPT TO COMMIT MURDER</th>\n",
       "      <th>CULPABLE HOMICIDE NOT AMOUNTING TO MURDER</th>\n",
       "      <th>ATTEMPT TO COMMIT CULPABLE HOMICIDE</th>\n",
       "      <th>RAPE</th>\n",
       "      <th>CUSTODIAL RAPE</th>\n",
       "      <th>KIDNAPPING &amp; ABDUCTION_TOTAL</th>\n",
       "      <th>...</th>\n",
       "      <th>PROMOTING ENMITY BETWEEN DIFFERENT GROUPS</th>\n",
       "      <th>IMPUTATION, ASSERTIONS PREJUDICIAL TO NATIONAL INTEGRATION</th>\n",
       "      <th>EXTORTION</th>\n",
       "      <th>DISCLOSURE OF IDENTITY OF VICTIMS</th>\n",
       "      <th>INCIDENCE OF RASH DRIVING</th>\n",
       "      <th>HUMANTRAFFICKING</th>\n",
       "      <th>UNNATURAL OFFENCE</th>\n",
       "      <th>OTHER IPC CRIMES</th>\n",
       "      <th>TOTAL COGNIZABLE IPC CRIMES</th>\n",
       "      <th>OTHER RAPE</th>\n",
       "    </tr>\n",
       "  </thead>\n",
       "  <tbody>\n",
       "    <tr>\n",
       "      <th>0</th>\n",
       "      <td>ANDHRA PRADESH</td>\n",
       "      <td>ANANTAPUR</td>\n",
       "      <td>2014</td>\n",
       "      <td>134</td>\n",
       "      <td>171</td>\n",
       "      <td>8</td>\n",
       "      <td>0</td>\n",
       "      <td>35</td>\n",
       "      <td>0</td>\n",
       "      <td>125</td>\n",
       "      <td>...</td>\n",
       "      <td>0</td>\n",
       "      <td>0</td>\n",
       "      <td>0</td>\n",
       "      <td>0</td>\n",
       "      <td>1038</td>\n",
       "      <td>0</td>\n",
       "      <td>0</td>\n",
       "      <td>3800</td>\n",
       "      <td>8376</td>\n",
       "      <td>70.0</td>\n",
       "    </tr>\n",
       "    <tr>\n",
       "      <th>1</th>\n",
       "      <td>ANDHRA PRADESH</td>\n",
       "      <td>CHITTOOR</td>\n",
       "      <td>2014</td>\n",
       "      <td>84</td>\n",
       "      <td>170</td>\n",
       "      <td>2</td>\n",
       "      <td>0</td>\n",
       "      <td>32</td>\n",
       "      <td>0</td>\n",
       "      <td>38</td>\n",
       "      <td>...</td>\n",
       "      <td>0</td>\n",
       "      <td>0</td>\n",
       "      <td>19</td>\n",
       "      <td>0</td>\n",
       "      <td>249</td>\n",
       "      <td>0</td>\n",
       "      <td>0</td>\n",
       "      <td>2567</td>\n",
       "      <td>5374</td>\n",
       "      <td>64.0</td>\n",
       "    </tr>\n",
       "    <tr>\n",
       "      <th>2</th>\n",
       "      <td>ANDHRA PRADESH</td>\n",
       "      <td>CUDDAPAH</td>\n",
       "      <td>2014</td>\n",
       "      <td>80</td>\n",
       "      <td>162</td>\n",
       "      <td>1</td>\n",
       "      <td>0</td>\n",
       "      <td>28</td>\n",
       "      <td>0</td>\n",
       "      <td>27</td>\n",
       "      <td>...</td>\n",
       "      <td>0</td>\n",
       "      <td>0</td>\n",
       "      <td>0</td>\n",
       "      <td>0</td>\n",
       "      <td>948</td>\n",
       "      <td>0</td>\n",
       "      <td>0</td>\n",
       "      <td>2604</td>\n",
       "      <td>5803</td>\n",
       "      <td>56.0</td>\n",
       "    </tr>\n",
       "    <tr>\n",
       "      <th>3</th>\n",
       "      <td>ANDHRA PRADESH</td>\n",
       "      <td>EAST GODAVARI</td>\n",
       "      <td>2014</td>\n",
       "      <td>64</td>\n",
       "      <td>84</td>\n",
       "      <td>2</td>\n",
       "      <td>0</td>\n",
       "      <td>85</td>\n",
       "      <td>0</td>\n",
       "      <td>66</td>\n",
       "      <td>...</td>\n",
       "      <td>0</td>\n",
       "      <td>0</td>\n",
       "      <td>32</td>\n",
       "      <td>0</td>\n",
       "      <td>39</td>\n",
       "      <td>0</td>\n",
       "      <td>0</td>\n",
       "      <td>3791</td>\n",
       "      <td>7630</td>\n",
       "      <td>170.0</td>\n",
       "    </tr>\n",
       "    <tr>\n",
       "      <th>4</th>\n",
       "      <td>ANDHRA PRADESH</td>\n",
       "      <td>GUNTAKAL RAILWAY</td>\n",
       "      <td>2014</td>\n",
       "      <td>14</td>\n",
       "      <td>4</td>\n",
       "      <td>0</td>\n",
       "      <td>0</td>\n",
       "      <td>0</td>\n",
       "      <td>0</td>\n",
       "      <td>0</td>\n",
       "      <td>...</td>\n",
       "      <td>0</td>\n",
       "      <td>0</td>\n",
       "      <td>0</td>\n",
       "      <td>0</td>\n",
       "      <td>1</td>\n",
       "      <td>0</td>\n",
       "      <td>0</td>\n",
       "      <td>37</td>\n",
       "      <td>490</td>\n",
       "      <td>0.0</td>\n",
       "    </tr>\n",
       "    <tr>\n",
       "      <th>...</th>\n",
       "      <td>...</td>\n",
       "      <td>...</td>\n",
       "      <td>...</td>\n",
       "      <td>...</td>\n",
       "      <td>...</td>\n",
       "      <td>...</td>\n",
       "      <td>...</td>\n",
       "      <td>...</td>\n",
       "      <td>...</td>\n",
       "      <td>...</td>\n",
       "      <td>...</td>\n",
       "      <td>...</td>\n",
       "      <td>...</td>\n",
       "      <td>...</td>\n",
       "      <td>...</td>\n",
       "      <td>...</td>\n",
       "      <td>...</td>\n",
       "      <td>...</td>\n",
       "      <td>...</td>\n",
       "      <td>...</td>\n",
       "      <td>...</td>\n",
       "    </tr>\n",
       "    <tr>\n",
       "      <th>833</th>\n",
       "      <td>LAKSHADWEEP</td>\n",
       "      <td>LAKSHADWEEP</td>\n",
       "      <td>2014</td>\n",
       "      <td>0</td>\n",
       "      <td>0</td>\n",
       "      <td>0</td>\n",
       "      <td>0</td>\n",
       "      <td>1</td>\n",
       "      <td>0</td>\n",
       "      <td>0</td>\n",
       "      <td>...</td>\n",
       "      <td>0</td>\n",
       "      <td>0</td>\n",
       "      <td>0</td>\n",
       "      <td>0</td>\n",
       "      <td>1</td>\n",
       "      <td>0</td>\n",
       "      <td>0</td>\n",
       "      <td>30</td>\n",
       "      <td>81</td>\n",
       "      <td>2.0</td>\n",
       "    </tr>\n",
       "    <tr>\n",
       "      <th>834</th>\n",
       "      <td>LAKSHADWEEP</td>\n",
       "      <td>TOTAL</td>\n",
       "      <td>2014</td>\n",
       "      <td>0</td>\n",
       "      <td>0</td>\n",
       "      <td>0</td>\n",
       "      <td>0</td>\n",
       "      <td>1</td>\n",
       "      <td>0</td>\n",
       "      <td>0</td>\n",
       "      <td>...</td>\n",
       "      <td>0</td>\n",
       "      <td>0</td>\n",
       "      <td>0</td>\n",
       "      <td>0</td>\n",
       "      <td>1</td>\n",
       "      <td>0</td>\n",
       "      <td>0</td>\n",
       "      <td>30</td>\n",
       "      <td>81</td>\n",
       "      <td>2.0</td>\n",
       "    </tr>\n",
       "    <tr>\n",
       "      <th>835</th>\n",
       "      <td>PUDUCHERRY</td>\n",
       "      <td>KARAIKAL</td>\n",
       "      <td>2014</td>\n",
       "      <td>6</td>\n",
       "      <td>1</td>\n",
       "      <td>0</td>\n",
       "      <td>0</td>\n",
       "      <td>3</td>\n",
       "      <td>0</td>\n",
       "      <td>1</td>\n",
       "      <td>...</td>\n",
       "      <td>2</td>\n",
       "      <td>0</td>\n",
       "      <td>0</td>\n",
       "      <td>1</td>\n",
       "      <td>199</td>\n",
       "      <td>0</td>\n",
       "      <td>0</td>\n",
       "      <td>322</td>\n",
       "      <td>671</td>\n",
       "      <td>6.0</td>\n",
       "    </tr>\n",
       "    <tr>\n",
       "      <th>836</th>\n",
       "      <td>PUDUCHERRY</td>\n",
       "      <td>PUDUCHERRY</td>\n",
       "      <td>2014</td>\n",
       "      <td>19</td>\n",
       "      <td>14</td>\n",
       "      <td>3</td>\n",
       "      <td>0</td>\n",
       "      <td>7</td>\n",
       "      <td>2</td>\n",
       "      <td>12</td>\n",
       "      <td>...</td>\n",
       "      <td>2</td>\n",
       "      <td>0</td>\n",
       "      <td>9</td>\n",
       "      <td>0</td>\n",
       "      <td>974</td>\n",
       "      <td>0</td>\n",
       "      <td>0</td>\n",
       "      <td>1014</td>\n",
       "      <td>2913</td>\n",
       "      <td>12.0</td>\n",
       "    </tr>\n",
       "    <tr>\n",
       "      <th>837</th>\n",
       "      <td>PUDUCHERRY</td>\n",
       "      <td>TOTAL</td>\n",
       "      <td>2014</td>\n",
       "      <td>25</td>\n",
       "      <td>15</td>\n",
       "      <td>3</td>\n",
       "      <td>0</td>\n",
       "      <td>10</td>\n",
       "      <td>2</td>\n",
       "      <td>13</td>\n",
       "      <td>...</td>\n",
       "      <td>4</td>\n",
       "      <td>0</td>\n",
       "      <td>9</td>\n",
       "      <td>1</td>\n",
       "      <td>1173</td>\n",
       "      <td>0</td>\n",
       "      <td>0</td>\n",
       "      <td>1336</td>\n",
       "      <td>3584</td>\n",
       "      <td>18.0</td>\n",
       "    </tr>\n",
       "  </tbody>\n",
       "</table>\n",
       "<p>838 rows × 86 columns</p>\n",
       "</div>"
      ],
      "text/plain": [
       "         STATES/UTS          DISTRICT  YEAR  MURDER  ATTEMPT TO COMMIT MURDER  \\\n",
       "0    ANDHRA PRADESH         ANANTAPUR  2014     134                       171   \n",
       "1    ANDHRA PRADESH          CHITTOOR  2014      84                       170   \n",
       "2    ANDHRA PRADESH          CUDDAPAH  2014      80                       162   \n",
       "3    ANDHRA PRADESH     EAST GODAVARI  2014      64                        84   \n",
       "4    ANDHRA PRADESH  GUNTAKAL RAILWAY  2014      14                         4   \n",
       "..              ...               ...   ...     ...                       ...   \n",
       "833     LAKSHADWEEP       LAKSHADWEEP  2014       0                         0   \n",
       "834     LAKSHADWEEP             TOTAL  2014       0                         0   \n",
       "835      PUDUCHERRY          KARAIKAL  2014       6                         1   \n",
       "836      PUDUCHERRY        PUDUCHERRY  2014      19                        14   \n",
       "837      PUDUCHERRY             TOTAL  2014      25                        15   \n",
       "\n",
       "     CULPABLE HOMICIDE NOT AMOUNTING TO MURDER  \\\n",
       "0                                            8   \n",
       "1                                            2   \n",
       "2                                            1   \n",
       "3                                            2   \n",
       "4                                            0   \n",
       "..                                         ...   \n",
       "833                                          0   \n",
       "834                                          0   \n",
       "835                                          0   \n",
       "836                                          3   \n",
       "837                                          3   \n",
       "\n",
       "     ATTEMPT TO COMMIT CULPABLE HOMICIDE  RAPE  CUSTODIAL RAPE  \\\n",
       "0                                      0    35               0   \n",
       "1                                      0    32               0   \n",
       "2                                      0    28               0   \n",
       "3                                      0    85               0   \n",
       "4                                      0     0               0   \n",
       "..                                   ...   ...             ...   \n",
       "833                                    0     1               0   \n",
       "834                                    0     1               0   \n",
       "835                                    0     3               0   \n",
       "836                                    0     7               2   \n",
       "837                                    0    10               2   \n",
       "\n",
       "     KIDNAPPING & ABDUCTION_TOTAL  ...  \\\n",
       "0                             125  ...   \n",
       "1                              38  ...   \n",
       "2                              27  ...   \n",
       "3                              66  ...   \n",
       "4                               0  ...   \n",
       "..                            ...  ...   \n",
       "833                             0  ...   \n",
       "834                             0  ...   \n",
       "835                             1  ...   \n",
       "836                            12  ...   \n",
       "837                            13  ...   \n",
       "\n",
       "     PROMOTING ENMITY BETWEEN DIFFERENT GROUPS  \\\n",
       "0                                            0   \n",
       "1                                            0   \n",
       "2                                            0   \n",
       "3                                            0   \n",
       "4                                            0   \n",
       "..                                         ...   \n",
       "833                                          0   \n",
       "834                                          0   \n",
       "835                                          2   \n",
       "836                                          2   \n",
       "837                                          4   \n",
       "\n",
       "     IMPUTATION, ASSERTIONS PREJUDICIAL TO NATIONAL INTEGRATION  EXTORTION  \\\n",
       "0                                                    0                   0   \n",
       "1                                                    0                  19   \n",
       "2                                                    0                   0   \n",
       "3                                                    0                  32   \n",
       "4                                                    0                   0   \n",
       "..                                                 ...                 ...   \n",
       "833                                                  0                   0   \n",
       "834                                                  0                   0   \n",
       "835                                                  0                   0   \n",
       "836                                                  0                   9   \n",
       "837                                                  0                   9   \n",
       "\n",
       "     DISCLOSURE OF IDENTITY OF VICTIMS  INCIDENCE OF RASH DRIVING  \\\n",
       "0                                    0                       1038   \n",
       "1                                    0                        249   \n",
       "2                                    0                        948   \n",
       "3                                    0                         39   \n",
       "4                                    0                          1   \n",
       "..                                 ...                        ...   \n",
       "833                                  0                          1   \n",
       "834                                  0                          1   \n",
       "835                                  1                        199   \n",
       "836                                  0                        974   \n",
       "837                                  1                       1173   \n",
       "\n",
       "     HUMANTRAFFICKING  UNNATURAL OFFENCE  OTHER IPC CRIMES  \\\n",
       "0                   0                  0              3800   \n",
       "1                   0                  0              2567   \n",
       "2                   0                  0              2604   \n",
       "3                   0                  0              3791   \n",
       "4                   0                  0                37   \n",
       "..                ...                ...               ...   \n",
       "833                 0                  0                30   \n",
       "834                 0                  0                30   \n",
       "835                 0                  0               322   \n",
       "836                 0                  0              1014   \n",
       "837                 0                  0              1336   \n",
       "\n",
       "     TOTAL COGNIZABLE IPC CRIMES  OTHER RAPE  \n",
       "0                           8376        70.0  \n",
       "1                           5374        64.0  \n",
       "2                           5803        56.0  \n",
       "3                           7630       170.0  \n",
       "4                            490         0.0  \n",
       "..                           ...         ...  \n",
       "833                           81         2.0  \n",
       "834                           81         2.0  \n",
       "835                          671         6.0  \n",
       "836                         2913        12.0  \n",
       "837                         3584        18.0  \n",
       "\n",
       "[838 rows x 86 columns]"
      ]
     },
     "execution_count": 25,
     "metadata": {},
     "output_type": "execute_result"
    }
   ],
   "source": [
    "District_wise_crimes_committed_IPC_2014.drop([\"CUSTODIAL_GANG RAPE\",\"CUSTODIAL_OTHER RAPE\",\"RAPE OTHER THAN CUSTODIAL\",\"RAPE_GANG RAPE\",\"ATTEMPT TO COMMIT RAPE\",\"RAPE_OTHERS\"],axis=1)"
   ]
  },
  {
   "cell_type": "code",
   "execution_count": 62,
   "metadata": {},
   "outputs": [],
   "source": [
    "District_wise_crimes_committed_IPC_2014.rename(columns={\"STATES/UTS\":\"STATE/UT\"});"
   ]
  },
  {
   "cell_type": "markdown",
   "metadata": {},
   "source": [
    "obviously this is a very labour intensive work so we should come up with a better idea"
   ]
  },
  {
   "cell_type": "code",
   "execution_count": null,
   "metadata": {},
   "outputs": [],
   "source": []
  },
  {
   "cell_type": "code",
   "execution_count": null,
   "metadata": {},
   "outputs": [],
   "source": []
  },
  {
   "cell_type": "markdown",
   "metadata": {},
   "source": [
    "so now all identifiers are the same and can be joined and exported"
   ]
  },
  {
   "cell_type": "code",
   "execution_count": 65,
   "metadata": {},
   "outputs": [],
   "source": [
    "DistrictWiseCrimesCommitted_IPC2001_2013= pd.concat([DistrictWiseCrimesCommitted_IPC2001_2012,DistrictWiseCrimesCommitted_IPC2013])"
   ]
  },
  {
   "cell_type": "code",
   "execution_count": 67,
   "metadata": {},
   "outputs": [],
   "source": [
    "DistrictWiseCrimesCommitted_IPC2001_2013.to_csv(\"E:\\\\DB_Data\\\\Kaggle\\\\India\\\\crime-in-india\\\\crime\\\\Python Exports\\\\01_District_wise_crimes_committed_IPC_2001_2013.csv\")"
   ]
  }
 ],
 "metadata": {
  "kernelspec": {
   "display_name": "Basics",
   "language": "python",
   "name": "basics"
  },
  "language_info": {
   "codemirror_mode": {
    "name": "ipython",
    "version": 3
   },
   "file_extension": ".py",
   "mimetype": "text/x-python",
   "name": "python",
   "nbconvert_exporter": "python",
   "pygments_lexer": "ipython3",
   "version": "3.7.3"
  }
 },
 "nbformat": 4,
 "nbformat_minor": 2
}
