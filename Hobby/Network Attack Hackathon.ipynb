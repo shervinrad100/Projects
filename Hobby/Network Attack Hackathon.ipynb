{
 "cells": [
  {
   "cell_type": "markdown",
   "metadata": {},
   "source": [
    "Write a function:\n",
    "\n",
    "def solution(A)\n",
    "\n",
    "that, given an array A of N integers, returns the smallest positive integer (greater than 0) that does not occur in A.\n",
    "\n",
    "For example, given A = [1, 3, 6, 4, 1, 2], the function should return 5.\n",
    "\n",
    "Given A = [1, 2, 3], the function should return 4.\n",
    "\n",
    "Given A = [−1, −3], the function should return 1.\n",
    "\n",
    "Write an efficient algorithm for the following assumptions:\n",
    "\n",
    "N is an integer within the range [1..100,000];\n",
    "each element of array A is an integer within the range [−1,000,000..1,000,000]."
   ]
  },
  {
   "cell_type": "code",
   "execution_count": 15,
   "metadata": {},
   "outputs": [],
   "source": [
    "def solution(A):\n",
    "    A.sort()\n",
    "    notinA =[]\n",
    "    for i in range(min(A),max(A)+1):\n",
    "        if i not in A:\n",
    "            notinA.append(i)\n",
    "    for i in notinA:\n",
    "        if i <= 0:\n",
    "            notinA.remove(i)\n",
    "    \n",
    "    notinA.sort()\n",
    "    \n",
    "    if len(notinA) == 1:\n",
    "        return notinA[0]\n",
    "    elif len(notinA) == 0 and A[-1] > 0:\n",
    "        return max(A)+1\n",
    "    elif len(notinA) == 0 and A[-1] < 0:\n",
    "        return 1\n",
    "    else:\n",
    "        return sorted(notinA)[0]"
   ]
  },
  {
   "cell_type": "code",
   "execution_count": 12,
   "metadata": {},
   "outputs": [],
   "source": [
    "testcases = {\"i\":[1,2,3], \"j\":[-1,-2]}\n",
    "answer = {\"i\":4,\"j\":1}"
   ]
  },
  {
   "cell_type": "code",
   "execution_count": 13,
   "metadata": {},
   "outputs": [
    {
     "name": "stdout",
     "output_type": "stream",
     "text": [
      "i expected 4 got 4\n",
      "j expected 1 got 1\n"
     ]
    }
   ],
   "source": [
    "for key, val in testcases.items():\n",
    "    print(key, \"expected\", answer[key], \"got\", solution(val))"
   ]
  },
  {
   "cell_type": "code",
   "execution_count": 2,
   "metadata": {},
   "outputs": [],
   "source": [
    "import random as rd\n",
    "testcases = {\n",
    "    \"Test1\":[1,1,3,4,6,2],\n",
    "    \"Test2\":[1,2,3],\n",
    "    \"Test3\":[-1.-3],\n",
    "    \"extremeSingle1\":[1],\n",
    "    \"extremeSingle2\":[-1],\n",
    "    \"extremeSingle3\":[0],\n",
    "    \"Simple1\":[99,0],\n",
    "    \"Simple2\":[-5,3],\n",
    "    \"Xtreme1\":[-10**5,10**5],\n",
    "    \"Xtreme2\":[10,10**10],\n",
    "    \"posOnly1\":[rd.randint(0,100) for _ in range(50)],\n",
    "    \"posOnly2\":[rd.randint(101,200) for _ in range(100)],\n",
    "    \"NegOnly1\":[-rd.randint(0,100) for _ in range(50)],\n",
    "    \"NegOnly2\":[-rd.randint(101,200) for _ in range(100)],\n",
    "    \"Choatic1\":[rd.randint(-100,200) for _ in range(10005)],\n",
    "    \"Choatic2\":[rd.randint(1,40000) for _ in range(10005)],\n",
    "    \"Choatic3\":[rd.choice([-1,1,2,3]) for _ in range(10005)],\n",
    "}\n",
    "\n",
    "answer = {\n",
    "    \"Test1\":5,\n",
    "    \"Test2\":4,\n",
    "    \"Test3\":1,\n",
    "    \"extremeSingle1\":2,\n",
    "    \"extremeSingle2\":1,\n",
    "    \"extremeSingle3\":1,\n",
    "    \"Simple1\":1,\n",
    "    \"Simple2\":1,\n",
    "    \"Xtreme1\":1,\n",
    "    \"Xtreme2\":11,\n",
    "    \"posOnly1\":None,\n",
    "    \"posOnly2\":None,\n",
    "    \"NegOnly1\":None,\n",
    "    \"NegOnly2\":None\n",
    "    \"Choatic1\":None,\n",
    "    \"Choatic2\":None,\n",
    "    \"Choatic3\":4,\n",
    "}"
   ]
  },
  {
   "cell_type": "markdown",
   "metadata": {},
   "source": [
    "# Network Breach\n",
    "\n",
    "\n",
    "you have a set of computers linked together in a network. you get edge lists of the network and a list identifying the breached devices. You need to make **ONE** cut in the network to separate the exposed devices from the rest of the network. If the cut creates a subset with less than two devices it is unacceptable. if no cuts can be made return -1. "
   ]
  },
  {
   "cell_type": "code",
   "execution_count": 1,
   "metadata": {},
   "outputs": [],
   "source": [
    "import matplotlib.pyplot as plt\n",
    "import networkx as nx\n",
    "import pandas as pd"
   ]
  },
  {
   "cell_type": "code",
   "execution_count": 44,
   "metadata": {},
   "outputs": [],
   "source": [
    "testCases = {\n",
    "    \"test1\":[[(0, 4), (1, 3), (2, 0), (3, 0), (5, 1)],\n",
    "             [False, True, False, False, False, True]]\n",
    "    ,\"test2\":[[(0, 1), (1, 2), (2, 3), (2, 4)],\n",
    "              [False, True, True, False, False]]\n",
    "    ,\"test3\":[[(0,1),(1,2),(2,3),(3,4)],\n",
    "              [False, False, True, False, False]]\n",
    "    ,\"test4\":[[(0,1),(0,2),(1,3),(1,4),(2,5)],\n",
    "              [True, False, False, False, False, False]]\n",
    "    ,\"test5\":[[(0,1),(1,2),(2,3)],\n",
    "              [False, True, False, True]]\n",
    "    ,\"test6\":[[(0,1),(1,2),(1,3),(2,3)],\n",
    "              [False, True, False, False]]\n",
    "    ,\"test7\":[[(0,1),(1,2),(1,3),(2,3),(0,4)],\n",
    "              [False, True, False, False, False]]\n",
    "    ,\"test8\":[[(0,1),(1,2),(2,3),(3,0)],\n",
    "              [True, False, False, False]]\n",
    "}\n",
    "# [(,),(,),(,),(,),(,)]\n"
   ]
  },
  {
   "cell_type": "code",
   "execution_count": 33,
   "metadata": {},
   "outputs": [
    {
     "name": "stdout",
     "output_type": "stream",
     "text": [
      "No Solution\n",
      "{(0, 1): 1, (1, 2): None, (1, 3): None}\n"
     ]
    },
    {
     "data": {
      "image/png": "[encoded data removed]",
      "text/plain": [
       "<Figure size 144x144 with 1 Axes>"
      ]
     },
     "metadata": {},
     "output_type": "display_data"
    },
    {
     "data": {
      "image/png": "[encoded data removed]",
      "text/plain": [
       "<Figure size 144x144 with 1 Axes>"
      ]
     },
     "metadata": {},
     "output_type": "display_data"
    },
    {
     "data": {
      "image/png": "[encoded data removed]",
      "text/plain": [
       "<Figure size 144x144 with 1 Axes>"
      ]
     },
     "metadata": {},
     "output_type": "display_data"
    },
    {
     "data": {
      "image/png": "[encoded data removed]",
      "text/plain": [
       "<Figure size 144x144 with 1 Axes>"
      ]
     },
     "metadata": {},
     "output_type": "display_data"
    }
   ],
   "source": [
    "test = \"test6\"\n",
    "\n",
    "edges = pd.DataFrame(testCases[test][0], columns = [\"from\", \"to\"])\n",
    "nodes = pd.DataFrame({\"breached\":testCases[test][1]})\n",
    "nodes.index.name = \"nodes\"\n",
    "nodes[\"colours\"] = [\"red\" if nodes.loc[node,\"breached\"] else \"cornflowerblue\" for node in list(nodes.index) ]\n",
    "\n",
    "# create network instance\n",
    "G = nx.from_pandas_edgelist(edges, 'from', 'to')\n",
    "\n",
    "# reorder/reindex df to match network order\n",
    "nodes = nodes.reindex(G.nodes())\n",
    "\n",
    "# visualise network\n",
    "plt.figure(figsize=[2,2])\n",
    "nx.draw(G, with_labels=True, font_weight='bold', node_color = nodes[\"colours\"])\n",
    "\n",
    "# identify infected nodes\n",
    "breached = nodes[nodes[\"breached\"] == True].index.tolist()\n",
    "\n",
    "# identify the posible cut off edges\n",
    "options = {}\n",
    "for edge in range(len(edges)):\n",
    "    if edges[\"from\"].iloc[edge] in breached and edges[\"to\"].iloc[edge] in breached:\n",
    "        pass\n",
    "    elif edges[\"from\"].iloc[edge] in breached or edges[\"to\"].iloc[edge] in breached:\n",
    "        options[tuple(edges.iloc[edge].tolist())] = None\n",
    "    else:\n",
    "        pass\n",
    "\n",
    "# loop through options, delete the edge from network to inspect subsets and reset the graph to original to loop again\n",
    "for option in options.keys():\n",
    "    G.remove_edge(*option)\n",
    "\n",
    "    plt.figure(figsize=[2,2])\n",
    "    nx.draw(G, with_labels=True)\n",
    "\n",
    "    # validate options where the subgraph produces no breached nodes\n",
    "\n",
    "\n",
    "    subgraphs = list(G.subgraph(subgraph) for subgraph in nx.connected_components(G))\n",
    "\n",
    "    # if loop available the cut would not create subnets\n",
    "    if len(subgraphs) <= 1:\n",
    "        G.add_edge(*option)\n",
    "        continue\n",
    "\n",
    "    for subgraph in range(len(subgraphs)):\n",
    "        \n",
    "        breached_sub = False\n",
    "        for node in list(subgraphs[subgraph].nodes()): \n",
    "            if node in breached:\n",
    "                breached_sub = True\n",
    "                break\n",
    "        if breached_sub:\n",
    "            continue\n",
    "\n",
    "        # calculate the number of nodes in the valid subgraphs\n",
    "        else:\n",
    "            options[option] = subgraphs[subgraph].number_of_nodes()  \n",
    "\n",
    "    G.add_edge(*option)\n",
    "\n",
    "# choose the option with largest number of nodes in the valid subgraph\n",
    "best_save =  max([i for i in options.values() if i is not None])\n",
    "\n",
    "if best_save is None :\n",
    "    print(\"No Solution\")\n",
    "    pass\n",
    "elif best_save <= 1:\n",
    "    print(\"No Solution\")\n",
    "    pass\n",
    "else:\n",
    "    firewall = [option for option, saved in options.items() if saved == best_save]\n",
    "    print(\"poosible cuts:\", firewall)\n",
    "    \n",
    "print(options)"
   ]
  },
  {
   "cell_type": "code",
   "execution_count": null,
   "metadata": {},
   "outputs": [],
   "source": []
  },
  {
   "cell_type": "code",
   "execution_count": 49,
   "metadata": {},
   "outputs": [],
   "source": [
    "def apply_firewall(edge_list, breached, figures=[2,2]):\n",
    "    \"\"\"input edge_list as array of tuples and breached devices as list\n",
    "    returns which edge should be deleted\n",
    "    \"\"\"\n",
    "    \n",
    "    # set up the data in df\n",
    "    edges = pd.DataFrame(edge_list, columns = [\"from\", \"to\"])\n",
    "    nodes = pd.DataFrame({\"breached\":breached})\n",
    "    nodes.index.name = \"nodes\"\n",
    "    nodes[\"colours\"] = [\"red\" if nodes.loc[node,\"breached\"] else \"cornflowerblue\" for node in list(nodes.index) ]\n",
    "    \n",
    "    # create network instance\n",
    "    G = nx.from_pandas_edgelist(edges, 'from', 'to')\n",
    "    \n",
    "    # reorder/reindex df to match network order\n",
    "    nodes = nodes.reindex(G.nodes())\n",
    "    \n",
    "    # visualise network\n",
    "    plt.figure(figsize=figures)\n",
    "    nx.draw(G, with_labels=True, font_weight='bold', node_color = nodes[\"colours\"])\n",
    "    \n",
    "    # identify infected nodes\n",
    "    breached = nodes[nodes[\"breached\"] == True].index.tolist()\n",
    "\n",
    "    # identify the posible cut off edges\n",
    "    options = {}\n",
    "    for edge in range(len(edges)):\n",
    "        if edges[\"from\"].iloc[edge] in breached and edges[\"to\"].iloc[edge] in breached:\n",
    "            pass\n",
    "        elif edges[\"from\"].iloc[edge] in breached or edges[\"to\"].iloc[edge] in breached:\n",
    "            options[tuple(edges.iloc[edge].tolist())] = None\n",
    "        else:\n",
    "            pass\n",
    "        \n",
    "    # loop through options, delete the edge from network to inspect subsets and reset the graph to original to loop again\n",
    "    for option in options.keys():\n",
    "        G.remove_edge(*option)\n",
    "        \n",
    "#         plt.figure(figsize=figures)\n",
    "#         nx.draw(G, with_labels=True)\n",
    "\n",
    "        # validate options where the subgraph produces no breached nodes\n",
    "        \n",
    "\n",
    "        subgraphs = list(G.subgraph(subgraph) for subgraph in nx.connected_components(G))\n",
    "        \n",
    "        # if loop available the cut would not create subnets\n",
    "        if len(subgraphs) <= 1:\n",
    "            G.add_edge(*option)\n",
    "            continue\n",
    "        \n",
    "        for subgraph in range(len(subgraphs)):\n",
    "            breached_sub = False\n",
    "            for node in list(subgraphs[subgraph].nodes()): \n",
    "                if node in breached:\n",
    "                    breached_sub = True\n",
    "                    break\n",
    "            if breached_sub:\n",
    "                continue\n",
    "            \n",
    "            # calculate the number of nodes in the valid subgraphs\n",
    "            else:\n",
    "                options[option] = subgraphs[subgraph].number_of_nodes()  \n",
    "\n",
    "        G.add_edge(*option)\n",
    "\n",
    "    # choose the option with largest number of nodes in the valid subgraph\n",
    "    try:\n",
    "        best_save =  max([i for i in options.values() if i is not None])\n",
    "    except ValueError:\n",
    "        best_save = None\n",
    "        \n",
    "    if best_save is None :\n",
    "        print(\"No Solution\")\n",
    "        pass\n",
    "    elif best_save <= 1:\n",
    "        print(\"No Solution\")\n",
    "        pass\n",
    "    else:\n",
    "        firewall = [option for option, saved in options.items() if saved == best_save]\n",
    "        print(\"poosible cuts:\", firewall)\n",
    "\n",
    "    return options"
   ]
  },
  {
   "cell_type": "code",
   "execution_count": 50,
   "metadata": {},
   "outputs": [
    {
     "name": "stdout",
     "output_type": "stream",
     "text": [
      "poosible cuts: [(1, 3)]\n"
     ]
    },
    {
     "data": {
      "text/plain": [
       "{(1, 3): 4}"
      ]
     },
     "execution_count": 50,
     "metadata": {},
     "output_type": "execute_result"
    },
    {
     "data": {
      "image/png": "[encoded data removed]",
      "text/plain": [
       "<Figure size 144x144 with 1 Axes>"
      ]
     },
     "metadata": {},
     "output_type": "display_data"
    }
   ],
   "source": [
    "apply_firewall(testCases[\"test1\"][0], testCases[\"test1\"][1])"
   ]
  },
  {
   "cell_type": "code",
   "execution_count": 51,
   "metadata": {},
   "outputs": [
    {
     "name": "stdout",
     "output_type": "stream",
     "text": [
      "No Solution\n"
     ]
    },
    {
     "data": {
      "text/plain": [
       "{(0, 1): 1, (2, 3): 1, (2, 4): 1}"
      ]
     },
     "execution_count": 51,
     "metadata": {},
     "output_type": "execute_result"
    },
    {
     "data": {
      "image/png": "[encoded data removed]",
      "text/plain": [
       "<Figure size 144x144 with 1 Axes>"
      ]
     },
     "metadata": {},
     "output_type": "display_data"
    }
   ],
   "source": [
    "apply_firewall(testCases[\"test2\"][0], testCases[\"test2\"][1])"
   ]
  },
  {
   "cell_type": "code",
   "execution_count": 52,
   "metadata": {},
   "outputs": [
    {
     "name": "stdout",
     "output_type": "stream",
     "text": [
      "poosible cuts: [(1, 2), (2, 3)]\n"
     ]
    },
    {
     "data": {
      "text/plain": [
       "{(1, 2): 2, (2, 3): 2}"
      ]
     },
     "execution_count": 52,
     "metadata": {},
     "output_type": "execute_result"
    },
    {
     "data": {
      "image/png": "[encoded data removed]",
      "text/plain": [
       "<Figure size 144x144 with 1 Axes>"
      ]
     },
     "metadata": {},
     "output_type": "display_data"
    }
   ],
   "source": [
    "apply_firewall(testCases[\"test3\"][0], testCases[\"test3\"][1])"
   ]
  },
  {
   "cell_type": "code",
   "execution_count": 53,
   "metadata": {},
   "outputs": [
    {
     "name": "stdout",
     "output_type": "stream",
     "text": [
      "poosible cuts: [(0, 1)]\n"
     ]
    },
    {
     "data": {
      "text/plain": [
       "{(0, 1): 3, (0, 2): 2}"
      ]
     },
     "execution_count": 53,
     "metadata": {},
     "output_type": "execute_result"
    },
    {
     "data": {
      "image/png": "[encoded data removed]",
      "text/plain": [
       "<Figure size 144x144 with 1 Axes>"
      ]
     },
     "metadata": {},
     "output_type": "display_data"
    }
   ],
   "source": [
    "apply_firewall(testCases[\"test4\"][0], testCases[\"test4\"][1])"
   ]
  },
  {
   "cell_type": "code",
   "execution_count": 54,
   "metadata": {},
   "outputs": [
    {
     "name": "stdout",
     "output_type": "stream",
     "text": [
      "No Solution\n"
     ]
    },
    {
     "data": {
      "text/plain": [
       "{(0, 1): 1, (1, 2): None, (2, 3): None}"
      ]
     },
     "execution_count": 54,
     "metadata": {},
     "output_type": "execute_result"
    },
    {
     "data": {
      "image/png": "[encoded data removed]",
      "text/plain": [
       "<Figure size 144x144 with 1 Axes>"
      ]
     },
     "metadata": {},
     "output_type": "display_data"
    }
   ],
   "source": [
    "apply_firewall(testCases[\"test5\"][0], testCases[\"test5\"][1])"
   ]
  },
  {
   "cell_type": "code",
   "execution_count": 55,
   "metadata": {},
   "outputs": [
    {
     "name": "stdout",
     "output_type": "stream",
     "text": [
      "No Solution\n"
     ]
    },
    {
     "data": {
      "text/plain": [
       "{(0, 1): 1, (1, 2): None, (1, 3): None}"
      ]
     },
     "execution_count": 55,
     "metadata": {},
     "output_type": "execute_result"
    },
    {
     "data": {
      "image/png": "[encoded data removed]",
      "text/plain": [
       "<Figure size 144x144 with 1 Axes>"
      ]
     },
     "metadata": {},
     "output_type": "display_data"
    }
   ],
   "source": [
    "apply_firewall(testCases[\"test6\"][0], testCases[\"test6\"][1])"
   ]
  },
  {
   "cell_type": "code",
   "execution_count": 56,
   "metadata": {},
   "outputs": [
    {
     "name": "stdout",
     "output_type": "stream",
     "text": [
      "poosible cuts: [(0, 1)]\n"
     ]
    },
    {
     "data": {
      "text/plain": [
       "{(0, 1): 2, (1, 2): None, (1, 3): None}"
      ]
     },
     "execution_count": 56,
     "metadata": {},
     "output_type": "execute_result"
    },
    {
     "data": {
      "image/png": "[encoded data removed]",
      "text/plain": [
       "<Figure size 144x144 with 1 Axes>"
      ]
     },
     "metadata": {},
     "output_type": "display_data"
    }
   ],
   "source": [
    "apply_firewall(testCases[\"test7\"][0], testCases[\"test7\"][1])"
   ]
  },
  {
   "cell_type": "code",
   "execution_count": 58,
   "metadata": {},
   "outputs": [
    {
     "name": "stdout",
     "output_type": "stream",
     "text": [
      "No Solution\n"
     ]
    },
    {
     "data": {
      "text/plain": [
       "{(0, 1): None, (3, 0): None}"
      ]
     },
     "execution_count": 58,
     "metadata": {},
     "output_type": "execute_result"
    },
    {
     "data": {
      "image/png": "[encoded data removed]",
      "text/plain": [
       "<Figure size 144x144 with 1 Axes>"
      ]
     },
     "metadata": {},
     "output_type": "display_data"
    }
   ],
   "source": [
    "apply_firewall(testCases[\"test8\"][0], testCases[\"test8\"][1])"
   ]
  },
  {
   "cell_type": "code",
   "execution_count": null,
   "metadata": {},
   "outputs": [],
   "source": []
  }
 ],
 "metadata": {
  "kernelspec": {
   "display_name": "Python 3",
   "language": "python",
   "name": "python3"
  },
  "language_info": {
   "codemirror_mode": {
    "name": "ipython",
    "version": 3
   },
   "file_extension": ".py",
   "mimetype": "text/x-python",
   "name": "python",
   "nbconvert_exporter": "python",
   "pygments_lexer": "ipython3",
   "version": "3.7.3"
  }
 },
 "nbformat": 4,
 "nbformat_minor": 2
}
