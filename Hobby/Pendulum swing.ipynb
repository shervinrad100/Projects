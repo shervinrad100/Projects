{
 "cells": [
  {
   "cell_type": "code",
   "execution_count": 20,
   "metadata": {},
   "outputs": [],
   "source": [
    "import numpy as np\n",
    "import matplotlib.pyplot as plt"
   ]
  },
  {
   "cell_type": "code",
   "execution_count": 52,
   "metadata": {},
   "outputs": [],
   "source": [
    "# Parameters\n",
    "mu = 0.1 # air resistnace constnant \n",
    "L = 2 # length of string [m]\n",
    "g = 9.8 # Gravitational acceleration [m/s^2]\n",
    "\n",
    "# Initial conditions\n",
    "theta_0 = np.pi / 3 # starting angle\n",
    "theta_dot_0 = 0 # starting angular velocity\n",
    "\n",
    "def get_theta_2dot(theta, theta_dot):\n",
    "    # definition of ODE\n",
    "    return -mu * theta_dot - (g/L) * np.sin(theta)\n",
    "\n",
    "def theta(t):\n",
    "    timestep = 0.1\n",
    "    theta = theta_0\n",
    "    theta_dot = theta_dot_0\n",
    "    for time in np.arange(0,t,timestep):\n",
    "        theta_2dot = get_theta_2dot(theta, theta_dot)\n",
    "        theta += theta_dot * timestep\n",
    "        theta_dot += theta_2dot * timestep\n",
    "    return theta\n",
    "\n"
   ]
  },
  {
   "cell_type": "code",
   "execution_count": 53,
   "metadata": {},
   "outputs": [
    {
     "data": {
      "image/png": "[encoded data removed]",
      "text/plain": [
       "<Figure size 432x288 with 1 Axes>"
      ]
     },
     "metadata": {
      "needs_background": "light"
     },
     "output_type": "display_data"
    }
   ],
   "source": [
    "t = np.arange(0,10,0.1)\n",
    "Theta = [theta(i) for i in t]\n",
    "\n",
    "plt.plot(t,Theta)\n",
    "plt.xlabel(\"Time\")\n",
    "plt.ylabel(\"Angle [rad]\")\n",
    "plt.grid()\n",
    "\n",
    "\n",
    "# shouldnt the angle and oscillations get smaller ??"
   ]
  },
  {
   "cell_type": "code",
   "execution_count": 32,
   "metadata": {},
   "outputs": [
    {
     "data": {
      "text/plain": [
       "(1.0471975511965976, 0)"
      ]
     },
     "execution_count": 32,
     "metadata": {},
     "output_type": "execute_result"
    }
   ],
   "source": [
    "theta(10,theta_0, theta_dot_0)\n",
    "\n",
    "\n",
    "# Parameters\n",
    "mu = 0.1 # air resistnace constnant \n",
    "L = 2 # length of string [m]\n",
    "g = 9.8 # Gravitational acceleration [m/s^2]\n",
    "\n",
    "# Initial conditions\n",
    "theta_0 = np.pi / 3 # starting angle\n",
    "theta_dot_0 = 0 # starting angular velocity\n",
    "\n",
    "def get_theta_2dot(theta, theta_dot):\n",
    "    # definition of ODE\n",
    "    return -mu * theta_dot - (g/L) * np.sin(theta)\n",
    "\n",
    "def theta(t, theta, theta_dot, timestep = 0.01):\n",
    "    Theta = [theta]\n",
    "    Theta_dot = [theta_dot]\n",
    "    for time in np.arange(0,t,timestep):\n",
    "        theta_2dot = get_theta_2dot(Theta[-1], Theta_dot[-1])\n",
    "        Theta_dot.append(theta_2dot * timestep)\n",
    "        Theta.append(Theta_dot[-1] * timestep)\n",
    "    return theta, theta_dot # returns angular position and velocity for t=0 to t"
   ]
  }
 ],
 "metadata": {
  "kernelspec": {
   "display_name": "Python 3",
   "language": "python",
   "name": "python3"
  },
  "language_info": {
   "codemirror_mode": {
    "name": "ipython",
    "version": 3
   },
   "file_extension": ".py",
   "mimetype": "text/x-python",
   "name": "python",
   "nbconvert_exporter": "python",
   "pygments_lexer": "ipython3",
   "version": "3.7.3"
  }
 },
 "nbformat": 4,
 "nbformat_minor": 2
}
