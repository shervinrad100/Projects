{
 "cells": [
  {
   "cell_type": "markdown",
   "metadata": {},
   "source": [
    "create a requirements.txt and include all the packages needed for the build"
   ]
  },
  {
   "cell_type": "code",
   "execution_count": 1,
   "metadata": {},
   "outputs": [],
   "source": [
    "# from selenium import webdriver # for dynamic websites so you can execute the JS using browser\n",
    "import requests\n",
    "from bs4 import BeautifulSoup\n",
    "import pandas as pd"
   ]
  },
  {
   "cell_type": "code",
   "execution_count": 2,
   "metadata": {},
   "outputs": [],
   "source": [
    "url = \"https://www.monster.co.uk/jobs/search/?q=Data-Engineer&where=London__2C-Greater-London__2C-England\"\n",
    "page = requests.get(url)"
   ]
  },
  {
   "cell_type": "code",
   "execution_count": 1,
   "metadata": {},
   "outputs": [],
   "source": [
    "# print(page.content) # what are the contents of page object received using requests?"
   ]
  },
  {
   "cell_type": "code",
   "execution_count": 3,
   "metadata": {},
   "outputs": [],
   "source": [
    "soup = BeautifulSoup(page.content, 'html.parser')"
   ]
  },
  {
   "cell_type": "code",
   "execution_count": 2,
   "metadata": {},
   "outputs": [],
   "source": [
    "#print(soup) # how does BS change the content of the page object using html.parser?\n",
    "# looks the same because we havent parsed anything"
   ]
  },
  {
   "cell_type": "code",
   "execution_count": 4,
   "metadata": {},
   "outputs": [],
   "source": [
    "results = soup.find(id='ResultsContainer') # search the soup for an id = 'ResultsContainer'\n",
    "# should find all the job listings in that container"
   ]
  },
  {
   "cell_type": "code",
   "execution_count": 3,
   "metadata": {},
   "outputs": [],
   "source": [
    "#print(results) # visualise"
   ]
  },
  {
   "cell_type": "code",
   "execution_count": 5,
   "metadata": {},
   "outputs": [],
   "source": [
    "job_elems = results.find_all('section', class_='card-content') # \n"
   ]
  },
  {
   "cell_type": "code",
   "execution_count": 40,
   "metadata": {},
   "outputs": [],
   "source": [
    "title_elem, company_elem, location_elem = [] , [], []\n",
    "for job_elem in job_elems:\n",
    "    try:\n",
    "        title_elem.append(job_elem.find('h2', class_='title').text.strip())\n",
    "        company_elem.append(job_elem.find('div', class_='company').text.strip())\n",
    "        location_elem.append(job_elem.find('div', class_='location').text.strip())\n",
    "    except:\n",
    "        continue"
   ]
  },
  {
   "cell_type": "code",
   "execution_count": 41,
   "metadata": {},
   "outputs": [],
   "source": [
    "jobs = {} # replace with insert statement into DB\n",
    "for i in range(len(title_elem)): # assuming they all have the same len\n",
    "    jobs.update({i:[title_elem[i], company_elem[i], location_elem[i]]})"
   ]
  },
  {
   "cell_type": "code",
   "execution_count": 43,
   "metadata": {},
   "outputs": [
    {
     "name": "stdout",
     "output_type": "stream",
     "text": [
      "Data Engineer - SQL Python GCP\n",
      "Apply here: https://job-openings.monster.co.uk/data-engineer-sql-python-gcp-london-london-uk-client-server/216917024\n",
      "\n",
      "Data Engineer SQL Python - Remote WFH\n",
      "Apply here: https://job-openings.monster.co.uk/data-engineer-sql-python-remote-wfh-london-london-uk-client-server/217282291\n",
      "\n"
     ]
    }
   ],
   "source": [
    "python_jobs = results.find_all('h2',\n",
    "                               string=lambda text: \"python\" in text.lower())\n",
    "\n",
    "for p_job in python_jobs:\n",
    "    link = p_job.find('a')['href']\n",
    "    print(p_job.text.strip())\n",
    "    print(f\"Apply here: {link}\\n\")"
   ]
  }
 ],
 "metadata": {
  "kernelspec": {
   "display_name": "scrape",
   "language": "python",
   "name": "scrape"
  },
  "language_info": {
   "codemirror_mode": {
    "name": "ipython",
    "version": 3
   },
   "file_extension": ".py",
   "mimetype": "text/x-python",
   "name": "python",
   "nbconvert_exporter": "python",
   "pygments_lexer": "ipython3",
   "version": "3.7.3"
  }
 },
 "nbformat": 4,
 "nbformat_minor": 4
}
