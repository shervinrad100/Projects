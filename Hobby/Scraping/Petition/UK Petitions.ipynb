{
 "cells": [
  {
   "cell_type": "markdown",
   "metadata": {},
   "source": [
    "1. analyse words and categorise by sentiment \n",
    "2. look at government responses and map sentiment and wording\n",
    "\n",
    "\n",
    "https://petition.parliament.uk/"
   ]
  },
  {
   "cell_type": "code",
   "execution_count": 1,
   "metadata": {},
   "outputs": [],
   "source": [
    "import requests\n",
    "import pandas as pd\n",
    "import json\n",
    "from bs4 import BeautifulSoup"
   ]
  },
  {
   "cell_type": "code",
   "execution_count": 2,
   "metadata": {},
   "outputs": [],
   "source": [
    "# all available queries from the server\n",
    "states = [\"open\", \"all\",\"closed\", \"rejected\", \"awaiting_response\", \"with_response\", \"awaiting_debate\", \"debated\", \"not_debated\"]"
   ]
  },
  {
   "cell_type": "code",
   "execution_count": 39,
   "metadata": {},
   "outputs": [],
   "source": [
    "petitions = {}\n",
    "petition_csv = {}\n",
    "for dic, csv in [(petition_csv, \".csv\"), (petitions, \".json\")]:\n",
    "    for state in states:\n",
    "        dic[state] = r\"https://petition.parliament.uk/petitions{}?state={}\".format(csv,state)"
   ]
  },
  {
   "cell_type": "code",
   "execution_count": 26,
   "metadata": {},
   "outputs": [],
   "source": [
    "# csv_rej = requests.get(url=petitions[\"rejected\"], allow_redirects=True)"
   ]
  },
  {
   "cell_type": "code",
   "execution_count": 27,
   "metadata": {},
   "outputs": [],
   "source": [
    "# try:\n",
    "#     with open(\"rejected_petitions.csv\", \"x\", encoding=\"utf-8\") as f:\n",
    "#         f.write(csv_rej.text)\n",
    "#         f.close()\n",
    "# except:\n",
    "#     with open(\"rejected_petitions.csv\", \"w\", encoding=\"utf-8\") as f:\n",
    "#         f.write(csv_rej.text)\n",
    "#         f.close()"
   ]
  },
  {
   "cell_type": "code",
   "execution_count": 15,
   "metadata": {},
   "outputs": [],
   "source": [
    "# get request for all petition csvs (download csvs)\n",
    "csv_all = requests.get(url=petition_csv[\"all\"], allow_redirects=True)"
   ]
  },
  {
   "cell_type": "code",
   "execution_count": 5,
   "metadata": {},
   "outputs": [],
   "source": [
    "try:\n",
    "    with open(\"all_petitions.csv\", \"x\", encoding='utf-8') as f:\n",
    "        f.write(csv_all.text)\n",
    "        f.close()\n",
    "except:\n",
    "    with open(\"all_petitions.csv\", \"w\", encoding='utf-8') as f:\n",
    "        f.write(csv_all.text)\n",
    "        f.close()"
   ]
  },
  {
   "cell_type": "code",
   "execution_count": 4,
   "metadata": {},
   "outputs": [],
   "source": [
    "all_pet = pd.read_csv(\"all_petitions.csv\")"
   ]
  },
  {
   "cell_type": "code",
   "execution_count": 5,
   "metadata": {},
   "outputs": [
    {
     "data": {
      "text/html": [
       "<div>\n",
       "<style scoped>\n",
       "    .dataframe tbody tr th:only-of-type {\n",
       "        vertical-align: middle;\n",
       "    }\n",
       "\n",
       "    .dataframe tbody tr th {\n",
       "        vertical-align: top;\n",
       "    }\n",
       "\n",
       "    .dataframe thead th {\n",
       "        text-align: right;\n",
       "    }\n",
       "</style>\n",
       "<table border=\"1\" class=\"dataframe\">\n",
       "  <thead>\n",
       "    <tr style=\"text-align: right;\">\n",
       "      <th></th>\n",
       "      <th>Petition</th>\n",
       "      <th>URL</th>\n",
       "      <th>State</th>\n",
       "      <th>Signatures Count</th>\n",
       "    </tr>\n",
       "  </thead>\n",
       "  <tbody>\n",
       "    <tr>\n",
       "      <th>0</th>\n",
       "      <td>Protect the Environment – support carbon neutr...</td>\n",
       "      <td>https://petition.parliament.uk/petitions/300000</td>\n",
       "      <td>open</td>\n",
       "      <td>1315</td>\n",
       "    </tr>\n",
       "    <tr>\n",
       "      <th>1</th>\n",
       "      <td>Bring Hailsham’s roads back to a their former ...</td>\n",
       "      <td>https://petition.parliament.uk/petitions/300005</td>\n",
       "      <td>rejected</td>\n",
       "      <td>21</td>\n",
       "    </tr>\n",
       "    <tr>\n",
       "      <th>2</th>\n",
       "      <td>Give holiday caravan/lodge owners the same sta...</td>\n",
       "      <td>https://petition.parliament.uk/petitions/300007</td>\n",
       "      <td>open</td>\n",
       "      <td>11948</td>\n",
       "    </tr>\n",
       "    <tr>\n",
       "      <th>3</th>\n",
       "      <td>Increase the criteria for a successful referen...</td>\n",
       "      <td>https://petition.parliament.uk/petitions/300008</td>\n",
       "      <td>rejected</td>\n",
       "      <td>6</td>\n",
       "    </tr>\n",
       "    <tr>\n",
       "      <th>4</th>\n",
       "      <td>Allow conference speakers to be able to speak ...</td>\n",
       "      <td>https://petition.parliament.uk/petitions/300009</td>\n",
       "      <td>rejected</td>\n",
       "      <td>8</td>\n",
       "    </tr>\n",
       "  </tbody>\n",
       "</table>\n",
       "</div>"
      ],
      "text/plain": [
       "                                            Petition  \\\n",
       "0  Protect the Environment – support carbon neutr...   \n",
       "1  Bring Hailsham’s roads back to a their former ...   \n",
       "2  Give holiday caravan/lodge owners the same sta...   \n",
       "3  Increase the criteria for a successful referen...   \n",
       "4  Allow conference speakers to be able to speak ...   \n",
       "\n",
       "                                               URL     State  Signatures Count  \n",
       "0  https://petition.parliament.uk/petitions/300000      open              1315  \n",
       "1  https://petition.parliament.uk/petitions/300005  rejected                21  \n",
       "2  https://petition.parliament.uk/petitions/300007      open             11948  \n",
       "3  https://petition.parliament.uk/petitions/300008  rejected                 6  \n",
       "4  https://petition.parliament.uk/petitions/300009  rejected                 8  "
      ]
     },
     "execution_count": 5,
     "metadata": {},
     "output_type": "execute_result"
    }
   ],
   "source": [
    "all_pet.head()"
   ]
  },
  {
   "cell_type": "code",
   "execution_count": 40,
   "metadata": {},
   "outputs": [],
   "source": [
    "with_response = requests.get(petitions[\"with_response\"])"
   ]
  },
  {
   "cell_type": "code",
   "execution_count": 1,
   "metadata": {},
   "outputs": [],
   "source": [
    "#with_response.json()"
   ]
  },
  {
   "cell_type": "code",
   "execution_count": 51,
   "metadata": {},
   "outputs": [
    {
     "data": {
      "text/plain": [
       "'The government have released the furlough worker support scheme, but it disadvantages and discriminated against those who have just changed jobs or are due to start a new job in the very near future. This needs to be changed to be inclusive.'"
      ]
     },
     "execution_count": 51,
     "metadata": {},
     "output_type": "execute_result"
    }
   ],
   "source": [
    "with_response.json()[\"data\"][0][\"attributes\"][\"background\"]"
   ]
  }
 ],
 "metadata": {
  "kernelspec": {
   "display_name": "scrape",
   "language": "python",
   "name": "scrape"
  },
  "language_info": {
   "codemirror_mode": {
    "name": "ipython",
    "version": 3
   },
   "file_extension": ".py",
   "mimetype": "text/x-python",
   "name": "python",
   "nbconvert_exporter": "python",
   "pygments_lexer": "ipython3",
   "version": "3.7.3"
  }
 },
 "nbformat": 4,
 "nbformat_minor": 4
}
