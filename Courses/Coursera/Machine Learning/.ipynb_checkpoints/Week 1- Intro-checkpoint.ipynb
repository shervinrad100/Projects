{
 "cells": [
  {
   "cell_type": "markdown",
   "metadata": {},
   "source": [
    "# Week 1: Intro\n",
    "\n",
    "What is machine learning: <br />\n",
    "_A computer program will learn from experience E through a Task, if the Experience is improved via the Task which is measured via a Performance measure_\n",
    "\n",
    "Supervised learning: We are given a dataset which we know the answers to and the algorithm uses the database to learn. \n",
    "- Regression type - Continuous domain\n",
    "- Classification - Boolean logic\n",
    "Unsupervised Learning: Where you have no data to base the learning off of. But now we start to find relationships between the data itself and cluster them (categorise them) together. The feedback depends on the prediction results. "
   ]
  }
 ],
 "metadata": {
  "kernelspec": {
   "display_name": "Python 3",
   "language": "python",
   "name": "python3"
  },
  "language_info": {
   "codemirror_mode": {
    "name": "ipython",
    "version": 3
   },
   "file_extension": ".py",
   "mimetype": "text/x-python",
   "name": "python",
   "nbconvert_exporter": "python",
   "pygments_lexer": "ipython3",
   "version": "3.6.5"
  }
 },
 "nbformat": 4,
 "nbformat_minor": 2
}
