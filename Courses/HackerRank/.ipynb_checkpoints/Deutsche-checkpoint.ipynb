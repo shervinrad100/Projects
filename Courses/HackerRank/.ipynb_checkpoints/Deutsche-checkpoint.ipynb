{
 "cells": [
  {
   "cell_type": "markdown",
   "metadata": {},
   "source": [
    "Write a function:\n",
    "\n",
    "def solution(A)\n",
    "\n",
    "that, given an array A of N integers, returns the smallest positive integer (greater than 0) that does not occur in A.\n",
    "\n",
    "For example, given A = [1, 3, 6, 4, 1, 2], the function should return 5.\n",
    "\n",
    "Given A = [1, 2, 3], the function should return 4.\n",
    "\n",
    "Given A = [−1, −3], the function should return 1.\n",
    "\n",
    "Write an efficient algorithm for the following assumptions:\n",
    "\n",
    "N is an integer within the range [1..100,000];\n",
    "each element of array A is an integer within the range [−1,000,000..1,000,000]."
   ]
  },
  {
   "cell_type": "code",
   "execution_count": 15,
   "metadata": {},
   "outputs": [],
   "source": [
    "def solution(A):\n",
    "    A.sort()\n",
    "    notinA =[]\n",
    "    for i in range(min(A),max(A)+1):\n",
    "        if i not in A:\n",
    "            notinA.append(i)\n",
    "    for i in notinA:\n",
    "        if i <= 0:\n",
    "            notinA.remove(i)\n",
    "    \n",
    "    notinA.sort()\n",
    "    \n",
    "    if len(notinA) == 1:\n",
    "        return notinA[0]\n",
    "    elif len(notinA) == 0 and A[-1] > 0:\n",
    "        return max(A)+1\n",
    "    elif len(notinA) == 0 and A[-1] < 0:\n",
    "        return 1\n",
    "    else:\n",
    "        return sorted(notinA)[0]"
   ]
  },
  {
   "cell_type": "code",
   "execution_count": 12,
   "metadata": {},
   "outputs": [],
   "source": [
    "testcases = {\"i\":[1,2,3], \"j\":[-1,-2]}\n",
    "answer = {\"i\":4,\"j\":1}"
   ]
  },
  {
   "cell_type": "code",
   "execution_count": 13,
   "metadata": {},
   "outputs": [
    {
     "name": "stdout",
     "output_type": "stream",
     "text": [
      "i expected 4 got 4\n",
      "j expected 1 got 1\n"
     ]
    }
   ],
   "source": [
    "for key, val in testcases.items():\n",
    "    print(key, \"expected\", answer[key], \"got\", solution(val))"
   ]
  },
  {
   "cell_type": "code",
   "execution_count": 2,
   "metadata": {},
   "outputs": [],
   "source": [
    "import random as rd\n",
    "testcases = {\n",
    "    \"Test1\":[1,1,3,4,6,2],\n",
    "    \"Test2\":[1,2,3],\n",
    "    \"Test3\":[-1.-3],\n",
    "    \"extremeSingle1\":[1],\n",
    "    \"extremeSingle2\":[-1],\n",
    "    \"extremeSingle3\":[0],\n",
    "    \"Simple1\":[99,0],\n",
    "    \"Simple2\":[-5,3],\n",
    "    \"Xtreme1\":[-10**5,10**5],\n",
    "    \"Xtreme2\":[10,10**10],\n",
    "    \"posOnly1\":[rd.randint(0,100) for _ in range(50)],\n",
    "    \"posOnly2\":[rd.randint(101,200) for _ in range(100)],\n",
    "    \"NegOnly1\":[-rd.randint(0,100) for _ in range(50)],\n",
    "    \"NegOnly2\":[-rd.randint(101,200) for _ in range(100)],\n",
    "    \"Choatic1\":[rd.randint(-100,200) for _ in range(10005)],\n",
    "    \"Choatic2\":[rd.randint(1,40000) for _ in range(10005)],\n",
    "    \"Choatic3\":[rd.choice([-1,1,2,3]) for _ in range(10005)],\n",
    "}\n",
    "\n",
    "answer = {\n",
    "    \"Test1\":5,\n",
    "    \"Test2\":4,\n",
    "    \"Test3\":1,\n",
    "    \"extremeSingle1\":2,\n",
    "    \"extremeSingle2\":1,\n",
    "    \"extremeSingle3\":1,\n",
    "    \"Simple1\":1,\n",
    "    \"Simple2\":1,\n",
    "    \"Xtreme1\":1,\n",
    "    \"Xtreme2\":11,\n",
    "    \"posOnly1\":None,\n",
    "    \"posOnly2\":None,\n",
    "    \"NegOnly1\":None,\n",
    "    \"NegOnly2\":None\n",
    "    \"Choatic1\":None,\n",
    "    \"Choatic2\":None,\n",
    "    \"Choatic3\":4,\n",
    "}"
   ]
  },
  {
   "cell_type": "markdown",
   "metadata": {},
   "source": [
    "# incomplete\n",
    "\n",
    "computer network and viruses\n",
    "\n",
    "you have a set of computers linked together. you get a list that one or some of them have viruses. You need to make one cut in the network to stop other computers getting the virus. If the cut creates two subsets then it is invalid. if no cuts can be made return -1. "
   ]
  },
  {
   "cell_type": "code",
   "execution_count": 34,
   "metadata": {},
   "outputs": [
    {
     "name": "stdout",
     "output_type": "stream",
     "text": [
      "{0: 1, 1: 2}\n",
      "[0, 1] [1, 2] [False, True, False]\n"
     ]
    }
   ],
   "source": [
    "testCases = {\n",
    "#     \"test1\":[[0,1,2,3,5],\n",
    "#            [4,3,0,0,1],\n",
    "#            [False, True, False, False, False, True]],\n",
    "    \"test2\":[[0,1],\n",
    "          [1,2],\n",
    "          [False, True, False]]\n",
    "}\n",
    "\n",
    "\n",
    "        \n",
    "        \n",
    "        \n",
    "for key in testCases:\n",
    "    a = testCases[key][0]\n",
    "    b = testCases[key][1]\n",
    "    c = testCases[key][2]\n",
    "    computerNetwork(a,b,c)\n",
    "print(a,b,c)"
   ]
  },
  {
   "cell_type": "code",
   "execution_count": 49,
   "metadata": {},
   "outputs": [
    {
     "name": "stdout",
     "output_type": "stream",
     "text": [
      "{0: [4, 2, 3], 4: [0], 1: [3, 5], 3: [1, 0], 2: [0], 5: [1]}\n"
     ]
    }
   ],
   "source": [
    "# a,b = [0,1], [1,2]\n",
    "a,b,c = [0,1,2,3,5],[4,3,0,0,1],[False, True, False, False, False, True]\n",
    "\n",
    "# make link dict\n",
    "links = {}\n",
    "for i in range(len(a)):\n",
    "    if a[i] not in links:\n",
    "        links[a[i]] = [b[i]]\n",
    "    else:\n",
    "        links[a[i]].append(b[i])\n",
    "    if b[i] not in links:                    \n",
    "        links[b[i]] = [a[i]]\n",
    "    else:\n",
    "        links[b[i]].append(a[i])\n",
    "    \n",
    "\n",
    "print(links)"
   ]
  },
  {
   "cell_type": "code",
   "execution_count": 76,
   "metadata": {
    "scrolled": true
   },
   "outputs": [
    {
     "name": "stdout",
     "output_type": "stream",
     "text": [
      "1 not end node\n",
      "5 end node, cut\n",
      "[5]\n"
     ]
    }
   ],
   "source": [
    "infected = []\n",
    "for computer in range(len(c)):\n",
    "    if c[computer]: #infected\n",
    "        infected.append(computer)\n",
    "\n",
    "while len(infected) != 1 or (len(infected)==1 and len(links[infected[0]]) == 1):\n",
    "    removed = []\n",
    "    for computer in infected:\n",
    "        if len(links[computer]) == 1 and computer not in removed:\n",
    "            print(computer, \"end node, cut\")\n",
    "            removed.append(computer)\n",
    "            infected.remove(computer)\n",
    "        else:\n",
    "            print(computer, \"not end node\")\n",
    "    \n",
    "\n",
    "print(removed)"
   ]
  }
 ],
 "metadata": {
  "kernelspec": {
   "display_name": "Python 3",
   "language": "python",
   "name": "python3"
  },
  "language_info": {
   "codemirror_mode": {
    "name": "ipython",
    "version": 3
   },
   "file_extension": ".py",
   "mimetype": "text/x-python",
   "name": "python",
   "nbconvert_exporter": "python",
   "pygments_lexer": "ipython3",
   "version": "3.7.3"
  }
 },
 "nbformat": 4,
 "nbformat_minor": 2
}
