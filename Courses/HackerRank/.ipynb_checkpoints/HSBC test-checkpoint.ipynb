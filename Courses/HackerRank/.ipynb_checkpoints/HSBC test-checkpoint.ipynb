{
 "cells": [
  {
   "cell_type": "markdown",
   "metadata": {},
   "source": [
    "# HSBC test\n",
    "\n",
    "### 1. \n",
    "i know i got this right but i cant remember what it was \n",
    "\n",
    "### 2. \n",
    "given a sentence, the output would be the word with the greatest number of letters in it. If two words have the same number of letters in them, output the one which came first.\n",
    "### 3. \n",
    "given two integers n and m, count the number of prime numbers between n and m (including n and m)"
   ]
  },
  {
   "cell_type": "code",
   "execution_count": 2,
   "metadata": {},
   "outputs": [
    {
     "name": "stdout",
     "output_type": "stream",
     "text": [
      "some text in line\n",
      "some\n",
      "another line\n",
      "another\n"
     ]
    }
   ],
   "source": [
    "#2. i got this wrong because i didnt have the marked line\n",
    "\n",
    "def wordcount(sentence):\n",
    "    sentence = sentence.split()\n",
    "    longest = 0\n",
    "    for i in sentence:\n",
    "        if len(list(i)) > longest:\n",
    "            ans = i\n",
    "            longest = len(list(i)) # didnt have this line\n",
    "        else:\n",
    "            continue\n",
    "    return ans\n",
    "# Test cases    \n",
    "for i in range(2):\n",
    "    sentence=(input().strip())\n",
    "    print(wordcount(sentence))"
   ]
  },
  {
   "cell_type": "code",
   "execution_count": 1,
   "metadata": {},
   "outputs": [
    {
     "name": "stdout",
     "output_type": "stream",
     "text": [
      "2,10\n",
      "\n",
      "2 is prime\n",
      "3 is prime\n",
      "5 is prime\n",
      "7 is prime\n",
      "number of primes: 4\n"
     ]
    }
   ],
   "source": [
    "#3. got this wrong because the stupid input was in the form of \"2,10\"\n",
    "def prime(n,m):\n",
    "    primes = 0\n",
    "    for i in range(n,m):\n",
    "        isprime = True\n",
    "        for j in range(2,i):\n",
    "            if i%j == 0:\n",
    "                isprime =False\n",
    "        if isprime:\n",
    "            print(\"%i is prime\" %i)\n",
    "            primes += 1\n",
    "    return (primes)\n",
    "\n",
    "# test input: \"2,10\"\n",
    "inp = list(map(int,input().split(\",\")))\n",
    "n, m = inp[0],inp[-1]\n",
    "print()\n",
    "print(\"number of primes:\", prime(n,m))\n"
   ]
  }
 ],
 "metadata": {
  "kernelspec": {
   "display_name": "Python 3",
   "language": "python",
   "name": "python3"
  },
  "language_info": {
   "codemirror_mode": {
    "name": "ipython",
    "version": 3
   },
   "file_extension": ".py",
   "mimetype": "text/x-python",
   "name": "python",
   "nbconvert_exporter": "python",
   "pygments_lexer": "ipython3",
   "version": "3.6.5"
  }
 },
 "nbformat": 4,
 "nbformat_minor": 2
}
