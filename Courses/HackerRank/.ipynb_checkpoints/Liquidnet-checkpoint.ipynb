{
 "cells": [
  {
   "cell_type": "markdown",
   "metadata": {},
   "source": [
    "# Ballot\n",
    "\n",
    "input is list of names. Names with most repeats must be returned. If same number of repeats then return with alphabetical order.\n",
    "\n",
    "## wrong "
   ]
  },
  {
   "cell_type": "code",
   "execution_count": 12,
   "metadata": {},
   "outputs": [
    {
     "name": "stdout",
     "output_type": "stream",
     "text": [
      "{'Alex': 2, 'Dave': 1, 'Harry': 2, 'Mary': 2, 'Michael': 2, 'Victor': 1}\n"
     ]
    },
    {
     "data": {
      "text/plain": [
       "'Alex'"
      ]
     },
     "execution_count": 12,
     "metadata": {},
     "output_type": "execute_result"
    }
   ],
   "source": [
    "def writeIn(ballot):\n",
    "    ballot = sorted(ballot)\n",
    "    names = {}\n",
    "    for i in ballot:\n",
    "        names[i] = ballot.count(i)\n",
    "    temp = max(names.values())\n",
    "    \n",
    "    for key, val in names.items():\n",
    "        if val == temp:\n",
    "            winner = key\n",
    "            break\n",
    "    print(names)\n",
    "    return winner\n",
    "\n",
    "    \n",
    "writeIn([\"Alex\",\"Michael\",\"Harry\",\"Dave\",\"Michael\",\"Victor\",\"Harry\",\"Alex\",\"Mary\",\"Mary\"])"
   ]
  },
  {
   "cell_type": "markdown",
   "metadata": {},
   "source": [
    "# largest product\n",
    "\n",
    "list given. answer is that which is divisible by the previous instances. \n",
    "eg [8,4,32,19,70] answer is 32 because because $4*8 =32$ <br/>\n",
    "[5,25,32,19,70] answer is 25 because $5*5 = 25$\n",
    "\n",
    "## wrong\n"
   ]
  },
  {
   "cell_type": "code",
   "execution_count": 11,
   "metadata": {},
   "outputs": [
    {
     "name": "stdout",
     "output_type": "stream",
     "text": [
      "[[], [8], [4, 8], [32, 4, 8], [19, 32, 4, 8]]\n"
     ]
    }
   ],
   "source": [
    "arr = [8,4,32,19,70]\n",
    "\n",
    "div = [0 for i in range(len(arr))]\n",
    "for i in range(len(arr)):\n",
    "    div[i] = []\n",
    "    for j in range(i):\n",
    "        div[i].append(arr[i-1-j])\n",
    "    for k in div[i]:\n",
    "        if arr[i]%k == 0:\n",
    "            ans = arr[i]\n",
    "        elif:\n",
    "            \n",
    "\n",
    "        \n",
    "print(div)"
   ]
  },
  {
   "cell_type": "markdown",
   "metadata": {},
   "source": [
    "# How much risk\n",
    "\n",
    "you get an n sided dice. what is the standard deviation\n",
    "## wrong"
   ]
  },
  {
   "cell_type": "code",
   "execution_count": 15,
   "metadata": {},
   "outputs": [
    {
     "data": {
      "text/plain": [
       "0.816496580927726"
      ]
     },
     "execution_count": 15,
     "metadata": {},
     "output_type": "execute_result"
    }
   ],
   "source": [
    "def stdDev(arr):\n",
    "    arr = [i for i in range(arr[0])]\n",
    "    avg = sum(arr)/len(arr)\n",
    "    sigma = 0\n",
    "    for i in arr:\n",
    "        sigma += (i - avg)**2\n",
    "    return (sigma/len(arr))**0.5\n",
    "\n",
    "stdDev([3])"
   ]
  },
  {
   "cell_type": "markdown",
   "metadata": {},
   "source": [
    "# ball\n",
    "\n",
    "ball falls from height. \n",
    "$$ \\frac{d^2y}{dx^2} = -10 - abs(\\frac{dy}{dx})\\frac{dy}{dx} $$\n",
    "how many miliseconds till the ball hits the ground?\n",
    "\n",
    "## wrong"
   ]
  },
  {
   "cell_type": "code",
   "execution_count": 9,
   "metadata": {},
   "outputs": [],
   "source": [
    "import numpy as np\n",
    "\n",
    "# DE definition\n",
    "def get_y2dot(ydot):\n",
    "    return -10 - abs(ydot)*ydot\n",
    "\n",
    "# solution definition\n",
    "def Y(y0, ydot0, t, timestep = 0.01):\n",
    "    ydot = ydot0\n",
    "    y = y0\n",
    "    for time in np.arange(0,t,timestep):\n",
    "        y2dot = get_y2dot(ydot)\n",
    "        ydot += + y2dot * timestep\n",
    "        y += ydot * timestep\n",
    "    return y\n",
    "\n"
   ]
  },
  {
   "cell_type": "code",
   "execution_count": 17,
   "metadata": {},
   "outputs": [
    {
     "data": {
      "text/plain": [
       "Text(0, 0.5, 'y')"
      ]
     },
     "execution_count": 17,
     "metadata": {},
     "output_type": "execute_result"
    },
    {
     "data": {
      "image/png": "[encoded data removed]",
      "text/plain": [
       "<Figure size 432x288 with 1 Axes>"
      ]
     },
     "metadata": {
      "needs_background": "light"
     },
     "output_type": "display_data"
    }
   ],
   "source": [
    "import matplotlib.pyplot as plt\n",
    "\n",
    "# ICs\n",
    "Ydot0 = 0 # initial velocity\n",
    "Y0 = 10 # initial height\n",
    "\n",
    "time = np.arange(0,10, 0.1)\n",
    "ys = []\n",
    "\n",
    "for t in time:\n",
    "    ys.append(Y(Y0, Ydot0, t))\n",
    "\n",
    "\n",
    "plt.plot(time,ys)\n",
    "plt.xlabel(\"t\")\n",
    "plt.ylabel(\"y\")\n"
   ]
  },
  {
   "cell_type": "markdown",
   "metadata": {},
   "source": [
    "# which generator\n",
    "\n",
    "generators give a random number uniformly distributed between 0,1 with CFDs given as:\n",
    "\n",
    "gen1: $$ P(x<a) = a $$\n",
    "gen2: $$ P(x<a) = a^2 $$\n",
    "\n",
    "given an input, you need to say which generator it belongs to. \n",
    "\n",
    "\n",
    "eg: $$\\{0.1,0.2,0.3\\} \\in G1$$\n",
    "$$\\{0.9,0.8,0.7\\} \\in G2$$\n",
    "\n",
    "\n",
    "## got it wrong"
   ]
  },
  {
   "cell_type": "code",
   "execution_count": 17,
   "metadata": {},
   "outputs": [
    {
     "name": "stdout",
     "output_type": "stream",
     "text": [
      "G1\n",
      "G2\n"
     ]
    }
   ],
   "source": [
    "def likelihood(arr):\n",
    "    # given G1 and G2 to which G does the array x belong to?\n",
    "    L1, L2 = 1, 1\n",
    "    for instance in arr:\n",
    "        L1 = 1\n",
    "        L2 = L2*(2*instance)\n",
    "    if L1<L2:\n",
    "        return \"G2\"\n",
    "    else:\n",
    "        return \"G1\"\n",
    "    \n",
    "print(likelihood([0.1,0.2,0.3]))\n",
    "print(likelihood([0.9,0.7,0.8]))"
   ]
  },
  {
   "cell_type": "markdown",
   "metadata": {},
   "source": [
    "# Find these:\n",
    "\n",
    "$$ \\lim_{x \\rightarrow 0}{\\frac{1- exp(3x)}{x}} $$\n",
    "answer given was 0. \n",
    "\n",
    "$$ \\lim_{x \\rightarrow 0}{\\frac{\\frac{d}{dx}\\left( sin(x^2) \\right)}{log(1-x)}} $$\n",
    "\n",
    "answer given was 0 but i think it's undefined."
   ]
  },
  {
   "cell_type": "code",
   "execution_count": null,
   "metadata": {},
   "outputs": [],
   "source": []
  }
 ],
 "metadata": {
  "kernelspec": {
   "display_name": "Python 3",
   "language": "python",
   "name": "python3"
  },
  "language_info": {
   "codemirror_mode": {
    "name": "ipython",
    "version": 3
   },
   "file_extension": ".py",
   "mimetype": "text/x-python",
   "name": "python",
   "nbconvert_exporter": "python",
   "pygments_lexer": "ipython3",
   "version": "3.7.3"
  }
 },
 "nbformat": 4,
 "nbformat_minor": 2
}
