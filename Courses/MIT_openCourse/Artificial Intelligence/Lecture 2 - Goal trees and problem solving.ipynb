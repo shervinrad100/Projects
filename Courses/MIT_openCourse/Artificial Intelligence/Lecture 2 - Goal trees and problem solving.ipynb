{
 "cells": [
  {
   "cell_type": "markdown",
   "metadata": {},
   "source": [
    "# Lecture 2: Goal Trees and Problem Solving\n",
    "\n",
    "\n",
    "Problem reduction tree, and/or tree, goal tree: taking a problem and turning it into a problem that's easier to solve. While doing so, you will have to make and /or descisions which creates the tree. \n",
    "\n",
    "The algorithm to building and solving a descision tree is: <br />\n",
    "1. \n",
    "2.\n",
    "3.\n",
    "If ... then it's solved, if not:\n",
    "4. \n",
    "5. "
   ]
  }
 ],
 "metadata": {
  "kernelspec": {
   "display_name": "Python 3",
   "language": "python",
   "name": "python3"
  },
  "language_info": {
   "codemirror_mode": {
    "name": "ipython",
    "version": 3
   },
   "file_extension": ".py",
   "mimetype": "text/x-python",
   "name": "python",
   "nbconvert_exporter": "python",
   "pygments_lexer": "ipython3",
   "version": "3.6.5"
  }
 },
 "nbformat": 4,
 "nbformat_minor": 2
}
