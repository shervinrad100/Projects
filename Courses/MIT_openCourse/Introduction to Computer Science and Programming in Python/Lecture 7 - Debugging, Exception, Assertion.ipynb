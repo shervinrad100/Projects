{
 "cells": [
  {
   "cell_type": "markdown",
   "metadata": {},
   "source": [
    "# Lecture 7: Testing, Debugging, Exceptions and Assertions\n",
    "\n",
    "**Defensive Programming**: writing a code which is easy to test and debug. We do this by:\n",
    "- modularising code\n",
    "- writing function spec\n",
    "- checking conditions on inputs and outputs (assertion)\n",
    "\n",
    "**Debugging**: is studying events which lead up to an error and asking, \"why is it not working and how can i fix it?\".\n",
    "\n",
    "\n",
    "3 classes of test\n",
    "- unit testing: testing each module to see if they run\n",
    "- regression testing: add tests for bugs as you find them (reintroduce errors that you previously fixed)\n",
    "- integration testing: see if your whole program works \n",
    "\n",
    "Testing approaches\n",
    "- intuition \n",
    "- random testing\n",
    "- black box testing: look at doc string and come up with tests for that\n",
    "- glass box testing: come up with tests that explore all the paths for the code (path complete)\n",
    "\n",
    "Try/except: exceptions are basically the error messages that you get. try/except runs your code and when it reaches an error which you specify, it runs a different block of code. eg:\n"
   ]
  },
  {
   "cell_type": "code",
   "execution_count": 6,
   "metadata": {},
   "outputs": [
    {
     "name": "stdout",
     "output_type": "stream",
     "text": [
      "gimme a number 1\n",
      "gimme another 0\n",
      "cant divide by zero\n",
      "replace 0 with 0.001\n",
      "a/b= 1000.0\n"
     ]
    }
   ],
   "source": [
    "try:\n",
    "    a = int(input('gimme a number '))\n",
    "    b = int(input('gimme another '))\n",
    "    print('a/b=',a/b)\n",
    "except ZeroDivisionError: \n",
    "    print('cant divide by zero')\n",
    "    print('replace 0 with 0.001')\n",
    "    b = 0.001\n",
    "    print('a/b=',a/b)\n",
    "except ValueError:\n",
    "    print('couldnt convert to a number')"
   ]
  },
  {
   "cell_type": "markdown",
   "metadata": {},
   "source": [
    "other exceptions are `else` which is ran if no error is given and `finally` which is always run after try, else and except.\n",
    "\n",
    "Errors either\n",
    "- fail silently\n",
    "- return an error value\n",
    "- signal error: you raise your own exception by: <br>\n",
    "`raise <exception name>('descriptive string')`\n"
   ]
  },
  {
   "cell_type": "code",
   "execution_count": 11,
   "metadata": {},
   "outputs": [
    {
     "name": "stdout",
     "output_type": "stream",
     "text": [
      "[0.3333333333333333, nan]\n"
     ]
    }
   ],
   "source": [
    "def get_ratio(L1,L2):\n",
    "    'L1 and L2 are two lists of equal length of numbers'\n",
    "    'returns a list containing L1[i]/L2[i]'\n",
    "    ratios = []\n",
    "    for i in range(len(L1)):\n",
    "        try:\n",
    "            ratios.append(L1[i]/L2[i])\n",
    "        except ZeroDivisionError:\n",
    "            ratios.append(float('nan')) # not a number\n",
    "        except: # for any other errors\n",
    "            raise ValueError(\"bad arg given\") # raise a value error\n",
    "    return ratios\n",
    "\n",
    "L1 = [1,2]\n",
    "L2 = [3,0]\n",
    "print(get_ratio(L1,L2))"
   ]
  },
  {
   "cell_type": "markdown",
   "metadata": {},
   "source": [
    "### Assertions\n",
    "will define the domain of the inputs so the output will always make sense. It prevents the program from giving a false output so you dont have to search though the code to find the function that had the bad input. It will immediately terminate the function and tell you where the issue came from."
   ]
  },
  {
   "cell_type": "code",
   "execution_count": 13,
   "metadata": {},
   "outputs": [
    {
     "name": "stdout",
     "output_type": "stream",
     "text": [
      "2.5\n"
     ]
    },
    {
     "ename": "AssertionError",
     "evalue": "no grades data",
     "output_type": "error",
     "traceback": [
      "\u001b[1;31m---------------------------------------------------------------------------\u001b[0m",
      "\u001b[1;31mAssertionError\u001b[0m                            Traceback (most recent call last)",
      "\u001b[1;32m<ipython-input-13-a4294f438f9f>\u001b[0m in \u001b[0;36m<module>\u001b[1;34m()\u001b[0m\n\u001b[0;32m      4\u001b[0m \u001b[1;33m\u001b[0m\u001b[0m\n\u001b[0;32m      5\u001b[0m \u001b[0mprint\u001b[0m\u001b[1;33m(\u001b[0m\u001b[0mavg\u001b[0m\u001b[1;33m(\u001b[0m\u001b[1;33m[\u001b[0m\u001b[1;36m1\u001b[0m\u001b[1;33m,\u001b[0m\u001b[1;36m2\u001b[0m\u001b[1;33m,\u001b[0m\u001b[1;36m3\u001b[0m\u001b[1;33m,\u001b[0m\u001b[1;36m4\u001b[0m\u001b[1;33m]\u001b[0m\u001b[1;33m)\u001b[0m\u001b[1;33m)\u001b[0m\u001b[1;33m\u001b[0m\u001b[0m\n\u001b[1;32m----> 6\u001b[1;33m \u001b[0mprint\u001b[0m\u001b[1;33m(\u001b[0m\u001b[0mavg\u001b[0m\u001b[1;33m(\u001b[0m\u001b[1;33m[\u001b[0m\u001b[1;33m]\u001b[0m\u001b[1;33m)\u001b[0m\u001b[1;33m)\u001b[0m\u001b[1;33m\u001b[0m\u001b[0m\n\u001b[0m",
      "\u001b[1;32m<ipython-input-13-a4294f438f9f>\u001b[0m in \u001b[0;36mavg\u001b[1;34m(grades)\u001b[0m\n\u001b[0;32m      1\u001b[0m \u001b[1;32mdef\u001b[0m \u001b[0mavg\u001b[0m\u001b[1;33m(\u001b[0m\u001b[0mgrades\u001b[0m\u001b[1;33m)\u001b[0m\u001b[1;33m:\u001b[0m\u001b[1;33m\u001b[0m\u001b[0m\n\u001b[1;32m----> 2\u001b[1;33m     \u001b[1;32massert\u001b[0m \u001b[1;32mnot\u001b[0m \u001b[0mlen\u001b[0m\u001b[1;33m(\u001b[0m\u001b[0mgrades\u001b[0m\u001b[1;33m)\u001b[0m \u001b[1;33m==\u001b[0m \u001b[1;36m0\u001b[0m\u001b[1;33m,\u001b[0m \u001b[1;34m'no grades data'\u001b[0m\u001b[1;33m\u001b[0m\u001b[0m\n\u001b[0m\u001b[0;32m      3\u001b[0m     \u001b[1;32mreturn\u001b[0m \u001b[0msum\u001b[0m\u001b[1;33m(\u001b[0m\u001b[0mgrades\u001b[0m\u001b[1;33m)\u001b[0m\u001b[1;33m/\u001b[0m\u001b[0mlen\u001b[0m\u001b[1;33m(\u001b[0m\u001b[0mgrades\u001b[0m\u001b[1;33m)\u001b[0m\u001b[1;33m\u001b[0m\u001b[0m\n\u001b[0;32m      4\u001b[0m \u001b[1;33m\u001b[0m\u001b[0m\n\u001b[0;32m      5\u001b[0m \u001b[0mprint\u001b[0m\u001b[1;33m(\u001b[0m\u001b[0mavg\u001b[0m\u001b[1;33m(\u001b[0m\u001b[1;33m[\u001b[0m\u001b[1;36m1\u001b[0m\u001b[1;33m,\u001b[0m\u001b[1;36m2\u001b[0m\u001b[1;33m,\u001b[0m\u001b[1;36m3\u001b[0m\u001b[1;33m,\u001b[0m\u001b[1;36m4\u001b[0m\u001b[1;33m]\u001b[0m\u001b[1;33m)\u001b[0m\u001b[1;33m)\u001b[0m\u001b[1;33m\u001b[0m\u001b[0m\n",
      "\u001b[1;31mAssertionError\u001b[0m: no grades data"
     ]
    }
   ],
   "source": [
    "def avg(grades):\n",
    "    assert not len(grades) == 0, 'no grades data' \n",
    "    return sum(grades)/len(grades)\n",
    "\n",
    "print(avg([1,2,3,4]))\n",
    "print(avg([]))"
   ]
  }
 ],
 "metadata": {
  "kernelspec": {
   "display_name": "Python 3",
   "language": "python",
   "name": "python3"
  },
  "language_info": {
   "codemirror_mode": {
    "name": "ipython",
    "version": 3
   },
   "file_extension": ".py",
   "mimetype": "text/x-python",
   "name": "python",
   "nbconvert_exporter": "python",
   "pygments_lexer": "ipython3",
   "version": "3.6.5"
  }
 },
 "nbformat": 4,
 "nbformat_minor": 2
}
