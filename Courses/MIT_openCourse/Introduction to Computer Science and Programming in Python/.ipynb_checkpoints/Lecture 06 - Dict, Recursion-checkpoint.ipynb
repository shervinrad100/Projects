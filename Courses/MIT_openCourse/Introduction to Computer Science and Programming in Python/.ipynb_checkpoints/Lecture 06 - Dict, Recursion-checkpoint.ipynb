{
 "cells": [
  {
   "cell_type": "markdown",
   "metadata": {},
   "source": [
    "# Lecture 6: Recursion and Dictionaries\n",
    "\n",
    "## Recursion\n",
    "When a function calls itself. This works only if you have a base case which can be solved. For example multiplying a by b is adding a, b times:"
   ]
  },
  {
   "cell_type": "code",
   "execution_count": 2,
   "metadata": {},
   "outputs": [
    {
     "data": {
      "text/plain": [
       "6"
      ]
     },
     "execution_count": 2,
     "metadata": {},
     "output_type": "execute_result"
    }
   ],
   "source": [
    "def times(a,b):\n",
    "    result = 0\n",
    "    while b > 0:\n",
    "        result += a\n",
    "        b -= 1\n",
    "    return result\n",
    "times(2,3)"
   ]
  },
  {
   "cell_type": "markdown",
   "metadata": {},
   "source": [
    "a*b this is a recursive step because you can break it down <br>\n",
    "= a + a*(b-1)  <br>\n",
    "= a + a + ... a (b times) now this is a base case because it can be solved directly <br>\n"
   ]
  },
  {
   "cell_type": "code",
   "execution_count": 3,
   "metadata": {},
   "outputs": [
    {
     "data": {
      "text/plain": [
       "6"
      ]
     },
     "execution_count": 3,
     "metadata": {},
     "output_type": "execute_result"
    }
   ],
   "source": [
    "def times(a,b):\n",
    "    if b == 1: # we are at the base case\n",
    "        return a\n",
    "    else: \n",
    "        return a + times(a,b-1)\n",
    "times(2,3)"
   ]
  },
  {
   "cell_type": "markdown",
   "metadata": {},
   "source": [
    "This goes back to the idea of scope and how we said daughter scopes can access variables in the scopes above:\n",
    "\n",
    "- So a global scope opens up and we call the function <br>\n",
    "\n",
    "- functions scope opens and accesses the scope above to see what value the formal variable a and b are taking. 2 and 3. So a= 2, b = 3 (in this scope). now it checks the if statement and since b!=1 we go to else. here we call the function again so a new scope is created. <br>\n",
    "\n",
    "- function scope 2 opens and assigns the values for the formal variables. a is still 2 but b is 2. goes to the else and opens a new scope <br>\n",
    "\n",
    "- function scope 3 opens and this time when the formal variables are assigned: a = 2 and b =1. so, if statement is executed, return a=2 and we move up a scope. This is the base case <br> \n",
    "\n",
    "- back to scope 2: a=2,b=2, times(a,b-1)=a=2. The basic operations are executed and we return 4\n",
    "\n",
    "- back to function scope 1: a=2,b=3, times(a,b-1)=4. else is executed and we return 6 and move out of the function scopes.\n",
    "\n",
    "Now try to think how the factorial function works:"
   ]
  },
  {
   "cell_type": "code",
   "execution_count": 4,
   "metadata": {},
   "outputs": [
    {
     "data": {
      "text/plain": [
       "6"
      ]
     },
     "execution_count": 4,
     "metadata": {},
     "output_type": "execute_result"
    }
   ],
   "source": [
    "def fact(n):\n",
    "    if n == 1:\n",
    "        return 1\n",
    "    else:\n",
    "        return n*fact(n-1)\n",
    "fact(3)"
   ]
  },
  {
   "cell_type": "markdown",
   "metadata": {},
   "source": [
    "This is good because we didn't mutate the original object. Doing this iteratively will mutate the original. But the downside is the computational expense since we need to set up the scopes."
   ]
  },
  {
   "cell_type": "code",
   "execution_count": 6,
   "metadata": {},
   "outputs": [
    {
     "data": {
      "text/plain": [
       "233"
      ]
     },
     "execution_count": 6,
     "metadata": {},
     "output_type": "execute_result"
    }
   ],
   "source": [
    "def fib(x):\n",
    "    \"x is an integer >= 1\"\n",
    "    \"returns fibbonacci of x\"\n",
    "    if x == 0 or x==1:\n",
    "        return 1\n",
    "    else:\n",
    "        return fib(x-1)+fib(x-2)\n",
    "fib(12)"
   ]
  },
  {
   "cell_type": "markdown",
   "metadata": {},
   "source": [
    "## Dictionaries\n",
    "\n",
    "add - `dict['new key'] = new_value` <br>\n",
    "test - `'key' in dict` <br>\n",
    "delete - `del(dict['key'])` <br>"
   ]
  },
  {
   "cell_type": "code",
   "execution_count": 5,
   "metadata": {},
   "outputs": [
    {
     "name": "stdout",
     "output_type": "stream",
     "text": [
      "True\n",
      "False\n"
     ]
    }
   ],
   "source": [
    "MyDict = {1:1, 2:2, 3:3, 4:4}\n",
    "if 1 in MyDict:\n",
    "    print(\"True\")\n",
    "else: print(\"False\")\n",
    "if 6 in MyDict:\n",
    "    print(\"True\")\n",
    "else: print(\"False\")"
   ]
  }
 ],
 "metadata": {
  "kernelspec": {
   "display_name": "Python 3",
   "language": "python",
   "name": "python3"
  },
  "language_info": {
   "codemirror_mode": {
    "name": "ipython",
    "version": 3
   },
   "file_extension": ".py",
   "mimetype": "text/x-python",
   "name": "python",
   "nbconvert_exporter": "python",
   "pygments_lexer": "ipython3",
   "version": "3.6.5"
  }
 },
 "nbformat": 4,
 "nbformat_minor": 2
}
