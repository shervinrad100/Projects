{
 "cells": [
  {
   "cell_type": "markdown",
   "metadata": {},
   "source": [
    "# Lecture 9: Python Classes and Inheritance\n",
    "\n",
    "**getters** in a class return the values of the attributes which the **setters**  assign to the objects. It is not recommended to call the object straight away. eg:"
   ]
  },
  {
   "cell_type": "code",
   "execution_count": 25,
   "metadata": {
    "scrolled": true
   },
   "outputs": [
    {
     "name": "stdout",
     "output_type": "stream",
     "text": [
      "3\n",
      "3\n",
      "4\n"
     ]
    }
   ],
   "source": [
    "class animal(object):\n",
    "    def __init__(self,age):\n",
    "        assert type(age) == int\n",
    "        self.name = None # default argument  so that name is an optional attribute and we set it later\n",
    "        # you can also write this as def __init__(self,age,name=None):\n",
    "        self.age = age\n",
    "    def get_age(self): # getter\n",
    "        return self.age\n",
    "    def get_name(self): # getter\n",
    "        return self.name\n",
    "    def set_age(self,new_age): #setter\n",
    "        self.age = new_age\n",
    "    def set_name(self,new_name): #setter \n",
    "        # at the end what we are doing is to prevent bugs\n",
    "        assert type(new_name) == str \n",
    "        self.name = new_name\n",
    "    def __str__(self):\n",
    "        return 'Animal: '+str(self.name)+', age: '+str(self.age)\n",
    "\n",
    "a = animal(3)\n",
    "print(a.age) # not recommended because what if the attribute is called self.years?\n",
    "print(a.get_age()) # to create abstraction for users\n",
    "\n",
    "class test(object):\n",
    "    def __init__(self,age):\n",
    "        self.years = age\n",
    "    def get_age(self):\n",
    "        return self.years\n",
    "    def __str__(self):\n",
    "        return 'Animals age: '+str(self.years)\n",
    "    \n",
    "b = test(4)\n",
    "print(b.get_age())\n",
    "# print(b.age) # because this is what the user thinks is the input \n",
    "#and you will get an error\n",
    " \n"
   ]
  },
  {
   "cell_type": "markdown",
   "metadata": {},
   "source": [
    "### Hierarchy \n",
    "\n",
    "so we wanna make a cat class which would have the same attributes and methods of animal but also has multiple lives. Other subclasses of animal class dont have this property such as rabbits. so we create a subclass:\n"
   ]
  },
  {
   "cell_type": "code",
   "execution_count": 29,
   "metadata": {},
   "outputs": [
    {
     "name": "stdout",
     "output_type": "stream",
     "text": [
      "cat: Sarah, age: 5, lives: 9\n",
      "Sarah's hurt, lives: 8\n",
      "Animal: None, age: 3\n"
     ]
    }
   ],
   "source": [
    "class cat(animal):\n",
    "    def __init__(self,age):\n",
    "        animal.__init__(self,age) # Call animal constructor \n",
    "# says you already know how to make an animal so i wont specify it again\n",
    "        self.lives = 9\n",
    "    def life_gone(self):\n",
    "        self.lives -= 1\n",
    "        return str(self.name)+'\\'s hurt, lives: '+str(self.lives)\n",
    "    def __str__(self):\n",
    "        return 'cat: '+str(self.name)+', age: '+str(self.age)+', lives: '+str(self.lives)\n",
    "\n",
    "mycat = cat(5)\n",
    "mycat.set_name('Sarah')\n",
    "print(mycat)\n",
    "print(mycat.life_gone())\n",
    "print(a)"
   ]
  },
  {
   "cell_type": "markdown",
   "metadata": {},
   "source": [
    "When you call a method, python checks in your class to see if it has a method in that name, if its not, it will call the parent class to see if that method exists.\n",
    "\n",
    "### Class variables"
   ]
  },
  {
   "cell_type": "code",
   "execution_count": 56,
   "metadata": {},
   "outputs": [
    {
     "name": "stdout",
     "output_type": "stream",
     "text": [
      "Sarah is 21\n",
      "1\n",
      "Marina is 22 \n",
      " 2\n"
     ]
    }
   ],
   "source": [
    "class pets(cat):\n",
    "    mypets = 0\n",
    "    def __init__(self,age,name):\n",
    "        cat.__init__(self,age)\n",
    "        self.name = name\n",
    "        pets.mypets += 1\n",
    "        self.petnumber = pets.mypets\n",
    "    def get_num_pets():\n",
    "        return mypets\n",
    "    def get_pet_id(self):\n",
    "        return self.petnumber\n",
    "    def __str__(self):\n",
    "        return str(self.name)+' is '+str(self.age)\n",
    "    \n",
    "pet1 = pets(21,'Sarah')\n",
    "print(pet1)\n",
    "print(pet1.get_pet_id())\n",
    "pet2 = pets(22, 'Marina')\n",
    "print(pet2,'\\n',pet2.get_pet_id())\n",
    "#print(pets.get_num_pets())"
   ]
  }
 ],
 "metadata": {
  "kernelspec": {
   "display_name": "Python 3",
   "language": "python",
   "name": "python3"
  },
  "language_info": {
   "codemirror_mode": {
    "name": "ipython",
    "version": 3
   },
   "file_extension": ".py",
   "mimetype": "text/x-python",
   "name": "python",
   "nbconvert_exporter": "python",
   "pygments_lexer": "ipython3",
   "version": "3.6.5"
  }
 },
 "nbformat": 4,
 "nbformat_minor": 2
}
