{
 "cells": [
  {
   "cell_type": "markdown",
   "metadata": {},
   "source": [
    "# Lecture 4: Decomposition, Abstraction and Functions\n",
    "\n",
    "**Abstraction**: You can ride a car but you might not neccessarily know how to assemble or build a car. Thats abstraction. The car is a blackbox. <br>\n",
    "You can use this to suppress outputs which the user doesn't need to know so you get a cleaner code.\n",
    "\n",
    "**Decomposition**: You have one type of cog. You take many cogs and build a mill. Each cog has a different input and gives a different output but its essentially the same as the one next to it. You use many of them to solve a bigger problem. This is decomposition. <br>\n",
    "To achieve decomposition in your programme, you split them into little blocks and they're called modules. You can write it one and reuse it many times in your code with different inputs.\n",
    "\n",
    "**Docstring**: It explains what the module or the function does or how it works etc for people who want to use it later.\n"
   ]
  },
  {
   "cell_type": "code",
   "execution_count": 1,
   "metadata": {},
   "outputs": [
    {
     "data": {
      "text/plain": [
       "True"
      ]
     },
     "execution_count": 1,
     "metadata": {},
     "output_type": "execute_result"
    }
   ],
   "source": [
    "def is_even(i):\n",
    "    '''input: i, is a positive integer\n",
    "    output: returns boolean, true if input is even'''\n",
    "    return i%2 == 0\n",
    "\n",
    "is_even(4)"
   ]
  },
  {
   "cell_type": "markdown",
   "metadata": {},
   "source": [
    "### Variable scope\n",
    "\n",
    "**Formal Parameter**: when you declare inputs for your function, those will be your formal parameters. They will be assigned to actual parameters when the function is called which have actual values in memory.\n",
    "\n",
    "**Scope**: is the domain of the variables (global or local). When you enter a function scope, you can access variables outside of it but you can't modify them. "
   ]
  },
  {
   "cell_type": "code",
   "execution_count": 3,
   "metadata": {},
   "outputs": [
    {
     "name": "stdout",
     "output_type": "stream",
     "text": [
      "4\n",
      "3\n"
     ]
    }
   ],
   "source": [
    "def g(x):\n",
    "    x += 1\n",
    "    return x\n",
    "\n",
    "x = 3\n",
    "print(g(x))\n",
    "print(x)"
   ]
  }
 ],
 "metadata": {
  "kernelspec": {
   "display_name": "Python 3",
   "language": "python",
   "name": "python3"
  },
  "language_info": {
   "codemirror_mode": {
    "name": "ipython",
    "version": 3
   },
   "file_extension": ".py",
   "mimetype": "text/x-python",
   "name": "python",
   "nbconvert_exporter": "python",
   "pygments_lexer": "ipython3",
   "version": "3.6.5"
  }
 },
 "nbformat": 4,
 "nbformat_minor": 2
}
