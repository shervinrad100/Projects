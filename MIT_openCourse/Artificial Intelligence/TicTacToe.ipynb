{
 "cells": [
  {
   "cell_type": "markdown",
   "metadata": {},
   "source": [
    "Make a tic-tac toe game \n",
    "\n",
    "ideas: <br />\n",
    "1. make a class which defines the positions available on the board. The methods would be putting x's or o's in the avaialble positions. If a condition is met, say whos won. \n"
   ]
  },
  {
   "cell_type": "code",
   "execution_count": null,
   "metadata": {},
   "outputs": [],
   "source": [
    "on = True\n",
    "options = [\"x\", \"o\"]\n",
    "board = [[[\"11\"],[\"12\"],[\"13\"]],[[\"21\"],[\"22\"],[\"23\"]],[[\"31\"],[\"32\"],[\"33\"]]]\n",
    "\n",
    "\n",
    "# playing the game 1v1\n",
    "while on:\n",
    "    A = board\n",
    "    print(A[:][0])\n",
    "    print(A[:][1])\n",
    "    print(A[:][2])\n",
    "    x_or_o = input(\"Player 1, choose either 'x' or 'o': \")\n",
    "    while x_or_o not in options:\n",
    "        x_or_o = input(\"Choose either 'x' or 'o': \")\n",
    "    \n",
    "    gameover = False\n",
    "    while not gameover:    \n",
    "        pos = (input(\"Where do you want to place your marker (Input in format '#row#col')?: \").strip())\n",
    "        while pos not in board:\n",
    "            pos = (input(\"Input in format '#row#col'. eg: '11' \").strip())\n",
    "        pos = list(pos)\n",
    "        A[int(pos[0])-1][int(pos[1])-1] = x_or_o\n",
    "        print(A[:][0])\n",
    "        print(A[:][1])\n",
    "        print(A[:][2])\n",
    "        \n",
    "        # win conditions\n",
    "        win = []\n",
    "        # diagonal\n",
    "        for i in range(3):\n",
    "            win.append(A[i][i])\n",
    "        if win[0] == win[1] and win[0] == win[2]:\n",
    "            gameover = True\n",
    "        else:\n",
    "            pass\n",
    "        # conjugated diag\n",
    "        for i in reversed(range(3)):\n",
    "            win[-(i+1)] = A[i][-(i+1)]\n",
    "        if win[0] == win[1] and win[0] == win[2]:\n",
    "            gameover = True\n",
    "        else:\n",
    "            pass\n",
    "        # horizontal\n",
    "        for i in range(3):\n",
    "            win = []\n",
    "            for j in range(3):\n",
    "                win.append(A[i][j])\n",
    "            if win[0] == win[1] and win[0] == win[2]:\n",
    "                gameover = True\n",
    "                break\n",
    "            else:\n",
    "                continue\n",
    "        # vertical\n",
    "        for i in range(3):\n",
    "            win = []\n",
    "            for j in range(3):\n",
    "                win.append(A[j][i])\n",
    "            if win[0] == win[1] and win[0] == win[2]:\n",
    "                gameover = True\n",
    "                break\n",
    "            else:\n",
    "                continue\n",
    "        if gameover == True:\n",
    "            print(\"%s is the winner\" %win[0])\n",
    "            break\n",
    "        else:\n",
    "            pass\n",
    "        \n",
    "        if x_or_o == options[0]:\n",
    "            x_or_o = options[1]\n",
    "        else:\n",
    "            x_or_o = options[0]\n",
    "        \n",
    "\n",
    "    play = input(\"Do you want to play again? [y/n] \")\n",
    "    if play == \"y\":\n",
    "        on = True\n",
    "    else: \n",
    "        on = False"
   ]
  },
  {
   "cell_type": "markdown",
   "metadata": {},
   "source": [
    "Test cases and debugging:"
   ]
  },
  {
   "cell_type": "code",
   "execution_count": 4,
   "metadata": {},
   "outputs": [
    {
     "name": "stdout",
     "output_type": "stream",
     "text": [
      "Where do you want to place your marker (Input in format '#row#col')?: 11\n",
      "Input in format '#row#col'. eg: '11' 11\n",
      "11 <class 'str'>\n",
      "Input in format '#row#col'. eg: '11' n\n",
      "n <class 'str'>\n",
      "n <class 'str'>\n",
      "[['11'], ['12'], ['13']]\n",
      "[['21'], ['22'], ['23']]\n",
      "[['31'], ['32'], ['33']]\n"
     ]
    }
   ],
   "source": [
    "A = [[[\"11\"],[\"12\"],[\"13\"]],[[\"21\"],[\"22\"],[\"23\"]],[[\"31\"],[\"32\"],[\"33\"]]]\n",
    "\n",
    "pos = input(\"Where do you want to place your marker (Input in format '#row#col')?: \").strip()\n",
    "while pos not in A:\n",
    "    pos = input(\"Input in format '#row#col'. eg: '11' \").strip()\n",
    "    print(pos, type(pos))\n",
    "    if pos == \"n\":\n",
    "        break\n",
    "print(A[:][0])\n",
    "print(A[:][1])\n",
    "print(A[:][2])"
   ]
  },
  {
   "cell_type": "code",
   "execution_count": null,
   "metadata": {},
   "outputs": [
    {
     "name": "stdout",
     "output_type": "stream",
     "text": [
      "Not broken\n",
      "to break loop enter 'False' False\n",
      "Not broken\n",
      "to break loop enter 'False' false\n",
      "Not broken\n"
     ]
    }
   ],
   "source": [
    "true = True\n",
    "\n",
    "while true:\n",
    "    print(\"Not broken\")\n",
    "    true = bool(input(\"to break loop enter 'False' \"))"
   ]
  }
 ],
 "metadata": {
  "kernelspec": {
   "display_name": "Python 3",
   "language": "python",
   "name": "python3"
  },
  "language_info": {
   "codemirror_mode": {
    "name": "ipython",
    "version": 3
   },
   "file_extension": ".py",
   "mimetype": "text/x-python",
   "name": "python",
   "nbconvert_exporter": "python",
   "pygments_lexer": "ipython3",
   "version": "3.6.5"
  }
 },
 "nbformat": 4,
 "nbformat_minor": 2
}
