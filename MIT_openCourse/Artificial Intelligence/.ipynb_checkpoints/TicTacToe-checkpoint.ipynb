{
 "cells": [
  {
   "cell_type": "markdown",
   "metadata": {},
   "source": [
    "Make a tic-tac toe game \n",
    "\n",
    "ideas: <br />\n",
    "1. make a class which defines the positions available on the board. The methods would be putting x's or o's in the avaialble positions. If a condition is met, say whos won. \n"
   ]
  },
  {
   "cell_type": "code",
   "execution_count": 35,
   "metadata": {},
   "outputs": [
    {
     "name": "stdout",
     "output_type": "stream",
     "text": [
      "[[[11], [12], [13]], [[21], [22], [23]], [[31], [32], [33]]]\n",
      "Choose either 'x' or 'o': x\n",
      "Where do you want to place your marker (Input in format '#row #col')?: 2 1\n",
      "[[11], [12], [13]]\n",
      "['x', [22], [23]]\n",
      "[[31], [32], [33]]\n"
     ]
    },
    {
     "ename": "IndexError",
     "evalue": "list index out of range",
     "output_type": "error",
     "traceback": [
      "\u001b[1;31m---------------------------------------------------------------------------\u001b[0m",
      "\u001b[1;31mIndexError\u001b[0m                                Traceback (most recent call last)",
      "\u001b[1;32m<ipython-input-35-a24f6cecb99a>\u001b[0m in \u001b[0;36m<module>\u001b[1;34m()\u001b[0m\n\u001b[0;32m     18\u001b[0m     \u001b[0mwin\u001b[0m \u001b[1;33m=\u001b[0m \u001b[1;33m[\u001b[0m\u001b[1;33m]\u001b[0m\u001b[1;33m\u001b[0m\u001b[0m\n\u001b[0;32m     19\u001b[0m     \u001b[1;32mfor\u001b[0m \u001b[0mi\u001b[0m \u001b[1;32min\u001b[0m \u001b[0mrange\u001b[0m\u001b[1;33m(\u001b[0m\u001b[1;36m9\u001b[0m\u001b[1;33m)\u001b[0m\u001b[1;33m:\u001b[0m\u001b[1;33m\u001b[0m\u001b[0m\n\u001b[1;32m---> 20\u001b[1;33m         \u001b[0mwin\u001b[0m\u001b[1;33m.\u001b[0m\u001b[0mappend\u001b[0m\u001b[1;33m(\u001b[0m\u001b[0mA\u001b[0m\u001b[1;33m[\u001b[0m\u001b[0mi\u001b[0m\u001b[1;33m]\u001b[0m\u001b[1;33m[\u001b[0m\u001b[0mi\u001b[0m\u001b[1;33m]\u001b[0m\u001b[1;33m)\u001b[0m\u001b[1;33m\u001b[0m\u001b[0m\n\u001b[0m\u001b[0;32m     21\u001b[0m     \u001b[0mprint\u001b[0m\u001b[1;33m(\u001b[0m\u001b[1;34m\"win:\"\u001b[0m\u001b[1;33m,\u001b[0m \u001b[0mwin\u001b[0m\u001b[1;33m)\u001b[0m\u001b[1;33m\u001b[0m\u001b[0m\n\u001b[0;32m     22\u001b[0m     \u001b[1;32mif\u001b[0m \u001b[0mwin\u001b[0m\u001b[1;33m[\u001b[0m\u001b[1;36m0\u001b[0m\u001b[1;33m]\u001b[0m \u001b[1;33m==\u001b[0m \u001b[0mwin\u001b[0m\u001b[1;33m[\u001b[0m\u001b[1;36m1\u001b[0m\u001b[1;33m]\u001b[0m \u001b[1;32mand\u001b[0m \u001b[0mwin\u001b[0m\u001b[1;33m[\u001b[0m\u001b[1;36m0\u001b[0m\u001b[1;33m]\u001b[0m \u001b[1;33m==\u001b[0m \u001b[0mwin\u001b[0m\u001b[1;33m[\u001b[0m\u001b[1;36m2\u001b[0m\u001b[1;33m]\u001b[0m\u001b[1;33m:\u001b[0m\u001b[1;33m\u001b[0m\u001b[0m\n",
      "\u001b[1;31mIndexError\u001b[0m: list index out of range"
     ]
    }
   ],
   "source": [
    "#def __init__(self):\n",
    "A = [[[11],[12],[13]],[[21],[22],[23]],[[31],[32],[33]]]\n",
    "print(A)\n",
    "on = True\n",
    "player = [\"x\", \"o\"]\n",
    "# playing the game 1v1\n",
    "#'''\n",
    "while on:\n",
    "    x_or_o = input(\"Choose either 'x' or 'o': \")\n",
    "    while x_or_o not in player:\n",
    "        x_or_o = input(\"Choose either 'x' or 'o': \")\n",
    "#    assert x_or_o in player, \"Choose from either 'x' or 'o'\"\n",
    "    pos = list(map(int,input(\"Where do you want to place your marker (Input in format '#row #col')?: \").strip().split()))\n",
    "    A[pos[0]-1][pos[1]-1] = x_or_o\n",
    "    print(A[:][0])\n",
    "    print(A[:][1])\n",
    "    print(A[:][2])\n",
    "    \n",
    "    win = []\n",
    "    for i in range(3):\n",
    "        win.append(A[i][i])\n",
    "    print(\"win:\", win)\n",
    "    if win[0] == win[1] and win[0] == win[2]:\n",
    "        print(\"%s is the winner\" %win[0])\n",
    "        on = False\n",
    "    else:\n",
    "        pass\n",
    "    play = input(\"Do you want to continue playing? [y/n] \")\n",
    "    if play == \"y\":\n",
    "        pass\n",
    "    else: \n",
    "        on = False\n",
    "#'''"
   ]
  },
  {
   "cell_type": "code",
   "execution_count": null,
   "metadata": {},
   "outputs": [],
   "source": []
  }
 ],
 "metadata": {
  "kernelspec": {
   "display_name": "Python 3",
   "language": "python",
   "name": "python3"
  },
  "language_info": {
   "codemirror_mode": {
    "name": "ipython",
    "version": 3
   },
   "file_extension": ".py",
   "mimetype": "text/x-python",
   "name": "python",
   "nbconvert_exporter": "python",
   "pygments_lexer": "ipython3",
   "version": "3.6.5"
  }
 },
 "nbformat": 4,
 "nbformat_minor": 2
}
