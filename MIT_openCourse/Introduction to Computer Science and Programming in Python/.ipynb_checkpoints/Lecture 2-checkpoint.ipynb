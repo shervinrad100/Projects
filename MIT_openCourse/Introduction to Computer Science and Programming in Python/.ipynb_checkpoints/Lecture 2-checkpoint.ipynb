{
 "cells": [
  {
   "cell_type": "markdown",
   "metadata": {},
   "source": [
    "# Lecture 2: Branching and iteration\n",
    "\n",
    "Concatenation: putting strings together\n",
    "\n",
    "The operator will check the object types and will only carry it out of they agree."
   ]
  },
  {
   "cell_type": "code",
   "execution_count": 8,
   "metadata": {},
   "outputs": [
    {
     "name": "stdout",
     "output_type": "stream",
     "text": [
      "hello thereSherv\n",
      "hello there Sherv\n",
      "hello there Sherv\n",
      "hello there Sherv Sherv Sherv\n"
     ]
    }
   ],
   "source": [
    "hi = 'hello there'\n",
    "name = 'Sherv'\n",
    "greet = hi + name\n",
    "print(greet) # notice that there are no spaces\n",
    "greet = hi + ' ' + name # manually add space\n",
    "print(greet)\n",
    "print(hi,name) # commas add spaces automatically\n",
    "silly = hi + (' ' + name)*3\n",
    "print(silly)"
   ]
  },
  {
   "cell_type": "markdown",
   "metadata": {},
   "source": [
    "# User interaction\n",
    "\n",
    "use `input()` to receive input from the user. The input will always be a string and you need to cast it to convert to `int`, `float`, etc.."
   ]
  },
  {
   "cell_type": "markdown",
   "metadata": {},
   "source": [
    "# Comparison operations\n",
    "\n",
    "You can only compare numbers with numbers and string with string. If you compare strings with strings (ir greater) it checks to see if it comes first in the alphabet. \n",
    "\n",
    "`i > j` <br>\n",
    "`i < j` <br>\n",
    "`i >= j` <br>\n",
    "`i <= j` <br>\n",
    "`i == j` <br>\n",
    "`i != j` <br>\n",
    "\n",
    "`not a` <br>\n",
    "`a and b` <br>\n",
    "`a or b` <br>\n"
   ]
  },
  {
   "cell_type": "markdown",
   "metadata": {},
   "source": [
    "# Counter"
   ]
  },
  {
   "cell_type": "code",
   "execution_count": 13,
   "metadata": {},
   "outputs": [
    {
     "name": "stdout",
     "output_type": "stream",
     "text": [
      "start: 1\n",
      "stop: 3\n",
      "6\n"
     ]
    }
   ],
   "source": [
    "def SimpleSum(start,stop): # Sigma(i)\n",
    "    Mysum = 0\n",
    "    for i in range(start,stop+1):\n",
    "        Mysum += i\n",
    "    print(Mysum)\n",
    "    \n",
    "a = int(input('start: '))\n",
    "b = int(input('stop: '))\n",
    "SimpleSum(a,b)"
   ]
  },
  {
   "cell_type": "code",
   "execution_count": null,
   "metadata": {},
   "outputs": [],
   "source": []
  }
 ],
 "metadata": {
  "kernelspec": {
   "display_name": "Python 3",
   "language": "python",
   "name": "python3"
  },
  "language_info": {
   "codemirror_mode": {
    "name": "ipython",
    "version": 3
   },
   "file_extension": ".py",
   "mimetype": "text/x-python",
   "name": "python",
   "nbconvert_exporter": "python",
   "pygments_lexer": "ipython3",
   "version": "3.6.5"
  }
 },
 "nbformat": 4,
 "nbformat_minor": 2
}
