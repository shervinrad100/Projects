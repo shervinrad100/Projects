{
 "cells": [
  {
   "cell_type": "markdown",
   "metadata": {},
   "source": [
    "# CPU\n",
    "\n",
    "Now a days they are Integrated Chips (ICs) that have multiple processing units (none-of which may be considered the central in vector processors) running in parallel. The chip will also include a memory unit such as the on chip memories. \n",
    "\n",
    "The main aim of the processor is to fetch, decode and execute (AKA instruction cycle). This is done by the Arithmatic Logic Unit (ALU) which is a circuit that performs arithmatic and bitwise operations on binary numbers. When the first instruction of the program is executed, the counter adds one and moves to the next line of instructions. \n",
    "\n",
    "Some instructions manipulate the counter instead of producing data. These instructions are called jumps. \n",
    "\n",
    "Some instructions result in a status being saved in the memory. For example, `y == b >> True` results in 1 being registered in the flag register which can be used to trigger a loop. \n",
    "\n",
    "We have a flags register and a status register which saves the status of the processes. \n",
    "\n",
    "### Fetch\n",
    "program counter finds the address of the program in the memory and the instruction after. When the counter increments the address for the next instruction is fetched and so on. \n",
    "### Decode\n",
    "In the decode step, performed by the circuitry known as the instruction decoder, the instruction is converted into signals that control other parts of the CPU. The way in which the instruction is interpreted is defined by the CPU's instruction set architecture (ISA). This depends on how the processor is set up (you'll see later) and the type of parallelism it conducts.\n",
    "### Execute\n",
    "For example, if an addition instruction is to be executed, the arithmetic logic unit (ALU) inputs are connected to a pair of operand sources (numbers to be summed), the ALU is configured to perform an addition operation so that the sum of its operand inputs will appear at its output, and the ALU output is connected to storage (e.g., a register or memory) that will receive the sum. When the clock pulse occurs, the sum will be transferred to storage and, if the resulting sum is too large (i.e., it is larger than the ALU's output word size), an arithmetic overflow flag will be set.\n",
    "\n",
    "### Control Unit\n",
    "The control unit of the CPU contains circuitry that uses electrical signals to direct the entire computer system to carry out stored program instructions. The control unit does not execute program instructions; rather, it directs other parts of the system to do so. The control unit communicates with both the ALU and memory.\n",
    "\n",
    "\n",
    "Now we know what **bits** and **bytes** are but to summarise: <br>\n",
    "0       <-- 1 bit <br>\n",
    "0 0     <-- 2 bits <br>\n",
    "0 0 0 0 <-- 4 bits ... <br>\n",
    "_8 bits = 1 byte_\n",
    "\n",
    "An 8-bit CPU can directly manipulate integers represented by eight bits, which have a range of 256 (28) discrete integer values.\n"
   ]
  },
  {
   "cell_type": "markdown",
   "metadata": {},
   "source": [
    "# Memory Hierarchy\n",
    "1. Slow but big (bottom): hard drive or flash drive (Disk memory)\n",
    "2. RAM: data has to exist in ram first for processor to use\n",
    "3. L2 (Level 2) Cahce: megabites, important data is held there for processor to access quickly. If your closet is the disk memory, behind your door, where you hang your jeans is the L2 Cache.\n",
    "\n",
    "- Everything up to here has been the off chip memory. So these are not on the chip (Processor). On chip memories are obviously much faster\n",
    "\n",
    "4. L1 (level 1) Cache: \n",
    "5. Register: number of registers is defined by the instruction set architecture"
   ]
  }
 ],
 "metadata": {
  "kernelspec": {
   "display_name": "Python 3",
   "language": "python",
   "name": "python3"
  },
  "language_info": {
   "codemirror_mode": {
    "name": "ipython",
    "version": 3
   },
   "file_extension": ".py",
   "mimetype": "text/x-python",
   "name": "python",
   "nbconvert_exporter": "python",
   "pygments_lexer": "ipython3",
   "version": "3.6.5"
  }
 },
 "nbformat": 4,
 "nbformat_minor": 2
}
