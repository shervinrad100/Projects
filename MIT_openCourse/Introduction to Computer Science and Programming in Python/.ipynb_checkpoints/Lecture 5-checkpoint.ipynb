{
 "cells": [
  {
   "cell_type": "markdown",
   "metadata": {},
   "source": [
    "# Lecture 5: Tuples, Lists, Aliasing, Mutability and Cloning\n",
    "\n",
    "just a bunch of functions:\n",
    "len(L) <br>\n",
    "L.append(...) <br>\n",
    "L.extend(...) which is the same as L=L1+L2 but changes the original <br>\n",
    "L.remove(...) <br>\n",
    "del(L[i]) <br>\n",
    "L.pop() which removes the last item <br>\n",
    "list(s) changes string to list <br>\n",
    "s.split(...) makes two strings and from the anchor and adds to list <br>\n",
    "'...'.join(L) joins L with the string delimeter <br>\n",
    "soreted(L) or L.sort() <br>\n",
    "L.reverse() <br>\n",
    "\n",
    "**Mutation**: We have spoken about this before but now in more detail. Lists are compound objects. So it calls all the objects in the memory and concatenates them. When you mutate a list, you change the objects it will call. \n",
    "\n",
    "**Alias**: You create an object in your memory and assign a name to it. if you create a new name which points to the same object, you would have created an alias for it. Eg: <br>\n",
    "`101 = 'reactor'\n",
    " 102 = 101` <br> \n",
    "So when you change the alias, you are changing the original object.\n",
    " \n",
    "**Cloning**: You create a new object which is exactly the same as the old one but it does not refer to the same object in the memory. If you change a clone, the original stays the same.\n",
    " "
   ]
  },
  {
   "cell_type": "code",
   "execution_count": 6,
   "metadata": {},
   "outputs": [
    {
     "name": "stdout",
     "output_type": "stream",
     "text": [
      "its cloned: True\n",
      "its an alias: True\n",
      "change clone:\n",
      "its cloned: False\n",
      "its an alias: True\n",
      "change alias:\n",
      "its cloned: False\n",
      "its an alias: True\n"
     ]
    }
   ],
   "source": [
    "mylist = ['my','list',1,2,3]\n",
    "clone = mylist[:]\n",
    "print('its cloned:',mylist == clone)\n",
    "alias = mylist\n",
    "print('its an alias:',alias == mylist)\n",
    "print('change clone:')\n",
    "clone.append(2)\n",
    "print('its cloned:',mylist == clone)\n",
    "print('its an alias:',alias == mylist)\n",
    "print('change alias:')\n",
    "alias.append('x')\n",
    "print('its cloned:',mylist == clone)\n",
    "print('its an alias:',alias == mylist)"
   ]
  },
  {
   "cell_type": "markdown",
   "metadata": {},
   "source": []
  }
 ],
 "metadata": {
  "kernelspec": {
   "display_name": "Python 3",
   "language": "python",
   "name": "python3"
  },
  "language_info": {
   "codemirror_mode": {
    "name": "ipython",
    "version": 3
   },
   "file_extension": ".py",
   "mimetype": "text/x-python",
   "name": "python",
   "nbconvert_exporter": "python",
   "pygments_lexer": "ipython3",
   "version": "3.6.5"
  }
 },
 "nbformat": 4,
 "nbformat_minor": 2
}
