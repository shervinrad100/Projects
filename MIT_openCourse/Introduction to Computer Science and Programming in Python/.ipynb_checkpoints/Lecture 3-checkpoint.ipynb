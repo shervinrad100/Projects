{
 "cells": [
  {
   "cell_type": "markdown",
   "metadata": {},
   "source": [
    "# Lecture 3: String manipulation, Guess and Check, Approximations, Bisection\n",
    "\n",
    "## Algorithms:\n",
    "\n",
    "#### Guess and Check\n",
    "find the square root of an integer using guess and check algo"
   ]
  },
  {
   "cell_type": "code",
   "execution_count": 5,
   "metadata": {},
   "outputs": [
    {
     "name": "stdout",
     "output_type": "stream",
     "text": [
      "3\n",
      "3 is not a perfect square\n",
      "3 is not a perfect square\n"
     ]
    }
   ],
   "source": [
    "square = int(input())\n",
    "\n",
    "for guess in range(square+1):\n",
    "    if guess**2 >= square:\n",
    "        break\n",
    "    elif guess**2 == square:\n",
    "        print('Square root of %s is +_ %s' %(square, guess))\n",
    "    else:\n",
    "        print(square,'is not a perfect square')"
   ]
  },
  {
   "cell_type": "markdown",
   "metadata": {},
   "source": [
    "#### Approximation\n",
    "For the last question, keep guessing until the error between the guess and the square is less that a given epsilon."
   ]
  },
  {
   "cell_type": "code",
   "execution_count": 6,
   "metadata": {},
   "outputs": [
    {
     "name": "stdout",
     "output_type": "stream",
     "text": [
      "9\n",
      "0.001\n",
      "0 is the closest answer to 9\n"
     ]
    }
   ],
   "source": [
    "square = int(input('square: '))\n",
    "error = float(input('error: '))\n",
    "guess = 0\n",
    "increment = 0.001\n",
    "num_guess = 0\n",
    "while (guess**2 - square) >= error and guess <= square:\n",
    "    guess += increment\n",
    "    num_guess += 1\n",
    "if (guess**2 - square) >= error:\n",
    "    print('failed to find root')\n",
    "else: \n",
    "    print(guess,'is the closest answer to',square)"
   ]
  },
  {
   "cell_type": "markdown",
   "metadata": {},
   "source": [
    "#### Bisection\n",
    "You make a guess and see if the answer is higher or lower. You then eliminate half of the guesses and move to the next interval and so on."
   ]
  },
  {
   "cell_type": "code",
   "execution_count": null,
   "metadata": {},
   "outputs": [],
   "source": [
    "square = 64\n",
    "error = 0.01\n",
    "num_guess = 0\n",
    "low = 0 # lower bound \n",
    "high = square \n",
    "guess = (high+low)/2\n",
    "while (guess**2 - cube) >= epsilon:\n",
    "    low = guess\n",
    "    else:\n",
    "        high = guess\n",
    "    guess = (high+low)/2\n",
    "    num_guess += 1\n"
   ]
  }
 ],
 "metadata": {
  "kernelspec": {
   "display_name": "Python 3",
   "language": "python",
   "name": "python3"
  },
  "language_info": {
   "codemirror_mode": {
    "name": "ipython",
    "version": 3
   },
   "file_extension": ".py",
   "mimetype": "text/x-python",
   "name": "python",
   "nbconvert_exporter": "python",
   "pygments_lexer": "ipython3",
   "version": "3.6.5"
  }
 },
 "nbformat": 4,
 "nbformat_minor": 2
}
