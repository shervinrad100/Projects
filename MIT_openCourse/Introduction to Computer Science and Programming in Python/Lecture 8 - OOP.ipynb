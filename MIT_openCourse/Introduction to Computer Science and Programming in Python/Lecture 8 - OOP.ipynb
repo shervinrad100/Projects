{
 "cells": [
  {
   "cell_type": "markdown",
   "metadata": {},
   "source": [
    "# Lecture 8: Object oriented Programming\n",
    "\n",
    "Objeccts have: <br>\n",
    "**representations**: This is the blue print and characteristics which makes the object\n",
    "\n",
    "and **interface**: the characteristics of the car and how you interact with it and recognise it.\n",
    "\n",
    "**attributes**: are the data and procedure (methods) which you set regarding your object and how you interact with them. They are found in the initialisation function.\n",
    "\n",
    "**parents of class**: is what goes in the brackets after class and is the \n",
    "\n",
    "we will define a class which represents a point in the x-y plane.\n"
   ]
  },
  {
   "cell_type": "code",
   "execution_count": 9,
   "metadata": {},
   "outputs": [
    {
     "name": "stdout",
     "output_type": "stream",
     "text": [
      "0\n",
      "1.0\n",
      "1.0\n",
      "<__main__.coord object at 0x00000218B2A862B0>\n"
     ]
    }
   ],
   "source": [
    "class coord(object): # coord is the subclass and object is the superclass\n",
    "    def __init__(self, x, y):\n",
    "        self.x = x # the objects attribute called x will be whatever was passed in\n",
    "        self.y = y # if you want only certain inputs use assert\n",
    "    def distance(self,other):\n",
    "        x_diff_sq = (self.x-other.x)**2\n",
    "        y_diff_sq = (self.y-other.y)**2\n",
    "        return (x_diff_sq+y_diff_sq)**0.5\n",
    "    \n",
    "origin = coord(0,0)\n",
    "point = coord(1,0)\n",
    "print(origin.x)\n",
    "print(point.distance(origin)) # call object origin and call method distance on object point\n",
    "print(coord.distance(point, origin)) # in class coord, call method distance where you define self as point and other as zero\n",
    "print(point)"
   ]
  },
  {
   "cell_type": "markdown",
   "metadata": {},
   "source": [
    "When you print the object it tells you what type it is etc. So you need to define a special method which tells python what to do when you print an object of this class. you use \\__str\\__ which tells python when an object is in a print function do the following:\n",
    "\n",
    "So when print is used on objects of this class, we want it to output x and y in square brackets:\n"
   ]
  },
  {
   "cell_type": "code",
   "execution_count": 29,
   "metadata": {},
   "outputs": [
    {
     "name": "stdout",
     "output_type": "stream",
     "text": [
      "[1, 1]\n",
      "<class '__main__.coord'>\n",
      "True\n",
      "<class 'type'>\n"
     ]
    }
   ],
   "source": [
    "class coord(object):\n",
    "    def __init__(self, x, y):\n",
    "        self.x = x # The second one is the formal variable defined previously\n",
    "        self.y = y\n",
    "    def __str__(self):\n",
    "        return '['+str(self.x)+', '+str(self.y)+']' # must be string\n",
    "\n",
    "C = coord(1,1)\n",
    "print(C)\n",
    "print(type(C))\n",
    "print(isinstance(C,coord)) # checks to see if instance C is part of the coord class\n",
    "print(type(coord))"
   ]
  },
  {
   "cell_type": "markdown",
   "metadata": {},
   "source": [
    "other special operators are:\n",
    "\\__add\\__, add self + other <br>\n",
    "\\__sub\\__, subtract self - other<br>\n",
    "\\__eq\\__, check equality self == other<br>\n",
    "\\__lt\\__, larger than self > other <br>\n",
    "\\__len\\__, length of self len(self)<br>\n",
    "\\__float\\__, returns a float value of the fraction <br>\n",
    "and others..."
   ]
  },
  {
   "cell_type": "markdown",
   "metadata": {},
   "source": [
    "why does the \\__str\\__ have to be a string? what if i wanna call it later and use one of the components of the array?"
   ]
  },
  {
   "cell_type": "code",
   "execution_count": 26,
   "metadata": {},
   "outputs": [
    {
     "name": "stdout",
     "output_type": "stream",
     "text": [
      "[1, 1]\n"
     ]
    }
   ],
   "source": [
    "x1,y1 = C.x,C.y\n",
    "C = [x1,y1]\n",
    "print(C)"
   ]
  },
  {
   "cell_type": "markdown",
   "metadata": {},
   "source": [
    "\\__main\\__ checks to see if the code is being run straight from the script or if its being called from somewhere else."
   ]
  },
  {
   "cell_type": "code",
   "execution_count": null,
   "metadata": {},
   "outputs": [],
   "source": [
    "if __name__ == \"__main__\":\n",
    "    # execute only if run as a script"
   ]
  },
  {
   "cell_type": "code",
   "execution_count": 49,
   "metadata": {},
   "outputs": [
    {
     "name": "stdout",
     "output_type": "stream",
     "text": [
      "A+B= 10/8\n",
      "A-B= -2/8\n",
      "A>b True\n",
      "A= 0.5\n",
      "inverse A= 2/1\n",
      "DivisionByZero\n",
      "inverse C= None\n"
     ]
    }
   ],
   "source": [
    "# Create a fraction class, make them add, subtract and print\n",
    "class frac(object):\n",
    "    def __init__(self,numer,denom):\n",
    "        assert type(numer) == int and type(denom) == int\n",
    "        self.numer = numer\n",
    "        self.denom = denom\n",
    "        \n",
    "    def __str__(self):\n",
    "        return str(self.numer)+'/'+str(self.denom) # you must string them \n",
    "    def __add__(self,other):\n",
    "        top = self.numer*other.denom+self.denom*other.numer\n",
    "        bott = self.denom*other.denom\n",
    "        return frac(top,bott)\n",
    "    def __sub__(self,other):\n",
    "        top = self.numer*other.denom-self.denom*other.numer\n",
    "        bott = self.denom*other.denom\n",
    "        return frac(top,bott)\n",
    "    def __lt__(self,other):\n",
    "        Self = self.numer*other.denom\n",
    "        Other = self.denom*other.numer\n",
    "        return bool(Self>Other)\n",
    "    def __float__(self):\n",
    "        try:\n",
    "            return self.numer/self.denom\n",
    "        except:\n",
    "            raise ZeroDivisionError('Division By Zero')\n",
    "    def inverse(self):\n",
    "        if self.numer == 0:\n",
    "            print('DivisionByZero')\n",
    "        else:\n",
    "            return frac(self.denom,self.numer)        \n",
    "\n",
    "A = frac(1,2)\n",
    "B = frac(3,4)\n",
    "print('A+B=',A+B)\n",
    "print('A-B=',A-B)\n",
    "print('A>b', A > B)\n",
    "print('A=', frac.__float__(A))\n",
    "print('inverse A=',A.inverse())\n",
    "C = frac(0,1)\n",
    "print('inverse C=',C.inverse())\n",
    "#D = frac(1,0)\n",
    "#print('D=',D.__float__())\n"
   ]
  },
  {
   "cell_type": "markdown",
   "metadata": {},
   "source": [
    "Design a CSTR using abstractions and implement a basic PSMD model"
   ]
  },
  {
   "cell_type": "code",
   "execution_count": null,
   "metadata": {},
   "outputs": [],
   "source": [
    "class CSTR(object):\n",
    "    def __init(self,# what inputs does a CSTR need?)\n",
    "               \n",
    "R101 = CSTR(# inputs defined in initialisation stage)"
   ]
  }
 ],
 "metadata": {
  "kernelspec": {
   "display_name": "Python 3",
   "language": "python",
   "name": "python3"
  },
  "language_info": {
   "codemirror_mode": {
    "name": "ipython",
    "version": 3
   },
   "file_extension": ".py",
   "mimetype": "text/x-python",
   "name": "python",
   "nbconvert_exporter": "python",
   "pygments_lexer": "ipython3",
   "version": "3.6.5"
  }
 },
 "nbformat": 4,
 "nbformat_minor": 2
}
