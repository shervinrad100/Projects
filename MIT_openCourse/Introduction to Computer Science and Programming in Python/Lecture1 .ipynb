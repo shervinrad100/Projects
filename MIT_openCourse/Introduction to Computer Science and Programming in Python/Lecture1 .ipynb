{
 "cells": [
  {
   "cell_type": "markdown",
   "metadata": {},
   "source": [
    "# Lecture 1: What is computation\n",
    "\n",
    "Imparative statement: is a recipe and a how to and the response is an action <br>\n",
    "Declarative statement: statements of fact. ie: \"Luke is a man\" and the response is ok\n",
    "\n",
    "Fixed program: Does only one task <br>\n",
    "Stored program: they can store a sequence of instructions and you can change the order of instructions or the instructions themselves\n",
    "\n",
    "\n",
    "#### Basic machine architecture:\n",
    "- Input\n",
    "- Memory: contains bunch of data and sequence of instructions\n",
    "- CPU\n",
    "    - Control unit: contains program counter starts the first instruction and send it to ALU. After one sequence of operations is done, counter is incremented by 1 and moves to the next instruction\n",
    "    - Arithmatic Logic unit (ALU): Gets data from memory and carries out primitive operations and stores back to memory. The operations it can do include: arithmatic and logic (+/-), simple tests(== etc), moving data (= etc)\n",
    "\n",
    "- Output\n",
    "\n",
    "Operator: Something that operates <br>\n",
    "Operand: Something that gets operated on\n",
    "\n",
    "#### Static semantic error\n",
    "The syntax is not wrong but it doesn't really make sense. For example saying \"I are hungry\" or in Python language having `3+\"hi\"`. It is in the correct syntatic order of \"operand operator operand\" but it doesn't make sense.\n",
    "\n",
    "#### Interpreter vs compiler\n",
    "interpreters run the source code directly whereas compilers translate the code to a series of machine level primitive operations. Compilers make it quicker and use less memory but interpreters give you error messages and make the coding easier. "
   ]
  },
  {
   "cell_type": "code",
   "execution_count": 5,
   "metadata": {},
   "outputs": [
    {
     "ename": "TypeError",
     "evalue": "unsupported operand type(s) for +: 'int' and 'str'",
     "output_type": "error",
     "traceback": [
      "\u001b[1;31m---------------------------------------------------------------------------\u001b[0m",
      "\u001b[1;31mTypeError\u001b[0m                                 Traceback (most recent call last)",
      "\u001b[1;32m<ipython-input-5-c63bc119bdaa>\u001b[0m in \u001b[0;36m<module>\u001b[1;34m()\u001b[0m\n\u001b[1;32m----> 1\u001b[1;33m \u001b[1;36m3\u001b[0m\u001b[1;33m+\u001b[0m\u001b[1;34m\"hi\"\u001b[0m\u001b[1;33m\u001b[0m\u001b[0m\n\u001b[0m",
      "\u001b[1;31mTypeError\u001b[0m: unsupported operand type(s) for +: 'int' and 'str'"
     ]
    }
   ],
   "source": [
    "3+\"hi\""
   ]
  },
  {
   "cell_type": "code",
   "execution_count": 6,
   "metadata": {},
   "outputs": [
    {
     "data": {
      "text/plain": [
       "57"
      ]
     },
     "execution_count": 6,
     "metadata": {},
     "output_type": "execute_result"
    }
   ],
   "source": [
    "import random\n",
    "random.randint(0,100)"
   ]
  },
  {
   "cell_type": "markdown",
   "metadata": {},
   "source": [
    "# Python\n",
    "\n",
    "OOP means the programs manipulate data objects and instances. Objects have types which defines the kinds of things that the program can do to them. This is why you can't add a string and a float object; because they are of different types.\n",
    "\n",
    "Objects can be:\n",
    "scalar (cannot be subdivided): floats (real numbers), int (integers), bool (True/Flase), NoneType (it's special and has value None) eg: `a=1` <br>\n",
    "Note: You can use these as commands to convert one type to another\n",
    "\n",
    "non-scalar (can be divided or accesses): eg: `a = [1, 2, 3]`"
   ]
  },
  {
   "cell_type": "code",
   "execution_count": 9,
   "metadata": {},
   "outputs": [
    {
     "name": "stdout",
     "output_type": "stream",
     "text": [
      "<class 'int'>\n",
      "<class 'float'>\n",
      "<class 'str'>\n"
     ]
    }
   ],
   "source": [
    "print(type(3))\n",
    "print(type(3.0))\n",
    "a= str(3)\n",
    "print(type(a))"
   ]
  },
  {
   "cell_type": "markdown",
   "metadata": {},
   "source": [
    "#### Expressions\n",
    "\n",
    "By combining objects and operators you can create an expression which has a value as an output. Always on the rhs\n",
    "\n",
    "`% remainder`\n",
    "`+ add`\n",
    "`- subtract`\n",
    "`/ divide`\n",
    "`// floor division`\n",
    "\n",
    "#### Assignment\n",
    "When you use the equal sign, you bind a value to a name/variable (always on the lhs). This stores the __value__ in the memory and so it can be retrieved. You call that value from the memory using the name that you have assigned. \n",
    "\n",
    "When you reassign a name to a different value, you still have that value in the memory but the handle has been lost and it can be retrieved in a special manner (garbage collector or other ways)."
   ]
  },
  {
   "cell_type": "code",
   "execution_count": 12,
   "metadata": {},
   "outputs": [],
   "source": [
    "pi = 3.14 # assignment\n",
    "radius = 2 # assignment\n",
    "area = pi*radius**2 # expression"
   ]
  }
 ],
 "metadata": {
  "kernelspec": {
   "display_name": "Python 3",
   "language": "python",
   "name": "python3"
  },
  "language_info": {
   "codemirror_mode": {
    "name": "ipython",
    "version": 3
   },
   "file_extension": ".py",
   "mimetype": "text/x-python",
   "name": "python",
   "nbconvert_exporter": "python",
   "pygments_lexer": "ipython3",
   "version": "3.6.5"
  }
 },
 "nbformat": 4,
 "nbformat_minor": 2
}
