{
 "cells": [
  {
   "cell_type": "markdown",
   "metadata": {},
   "source": [
    "# How the internet works\n",
    "\n",
    "Most basic network system is a **Local Area Network (LAN)** and there are 2 parts to it:\n",
    "- ethernet: sends/receives data from hub  \n",
    "- hub: shares all the data received by one device to all devices \n",
    "\n",
    "**Network bridges** connect multiple hubs and it only sends the data when its requested by the host; so it doesnt share all the information with all the hosts at all time. You search, you get.\n",
    "\n",
    "Different lans speak different languages and **routers** make the LANs communicate.\n",
    "\n",
    "When you connect different LAN networks using routers it turns into a **Wide Area Network (WAN)**. \n",
    "\n",
    "**Transmission Communication Protocol (TCP)/ Internet Protocol IP** is a language/ communication standard for all devices to be able to communicate through a router. \n",
    "\n",
    "TCP is a standard on how one computer sends data to another. Data is transmitted in datagrams/bits and it needs to have an address which it goes to and that is the IP.\n",
    "\n",
    "**Domain Names** is human readable address that translates to an IP address.\n",
    "- First level: .com, .gov, .edu\n",
    "- Second level: .google., .facebook., .amazon.\n",
    "- Third level: maps., shop., news. \n",
    "\n",
    "**Domain Naming System** maps all the domain names to an IP address and translates the human readable domain and vice versa. \n",
    "\n",
    "\n",
    "\n",
    "\n",
    "\n"
   ]
  },
  {
   "cell_type": "markdown",
   "metadata": {},
   "source": []
  },
  {
   "cell_type": "markdown",
   "metadata": {},
   "source": [
    "# What is HTTP (HyperText Transfer Protocol)?\n",
    "\n",
    "1. Client/Server or request response model\n",
    " Someone has to ask for something for HTTP to respond. Here the client is you and the server is youtube, google, amazon etc\n",
    " \n",
    "2. Stateless protocol\n",
    " It's like independent events in probability context. However,  the web applications track your state using sessions, cookies, etc\n",
    " \n",
    "3. Application layer protocol\n",
    " below it is the TCP transportation level protocol. This is basically abstraction. It doesnt care about how data is sent so it cares about sending a request and getting data back.\n",
    " \n",
    "4. Client actions\n",
    " When a client requests something, it always specifies an action/method such as get, post, delete, etc and these are actions to be performed by the server.\n",
    " - get: requests to see a page and is read only\n",
    " - post: create something new on that page\n",
    "\n",
    "5. Server status code\n",
    "the HTTP protocol standardises the responses the servers give. \n",
    " - 200: ok\n",
    " - 404: not found\n",
    " - 500: you fucked up\n",
    "\n",
    "6. Headers\n",
    " small bits of information which you send along with your request/responses to tweak your request/response. So this for example you specify which type of data you are requesting (content type). <br>\n",
    "A client header sounds like: get text file, the request will recognise that and respond with a txt.<br>\n",
    "Response header might also include the status codes.  \n",
    " - content type: txt, png, etc\n",
    " - cache control\n",
    "\n",
    "HyperText Markup Language (HTML)\n",
    "ctrl + U"
   ]
  },
  {
   "cell_type": "markdown",
   "metadata": {},
   "source": [
    "# Sessions & Cookies\n",
    "\n",
    "The client usually has a stateless interaction with the server over HTTP. So what the server does is that it _gives you_ a **cookie**, an id which you carry with you, which identifies you; they also save the data of your previous interactions in a **session**. \n",
    "\n",
    "Some applications may decide to save the sessions on the client side (different to convention). This speeds up the process because then you don't have to present the cookie which then the server looks up and retrieves your session. "
   ]
  },
  {
   "cell_type": "markdown",
   "metadata": {},
   "source": [
    "\n",
    "# Useful Technical Terms\n",
    "\n",
    "#### MBPS\n",
    "mega bits per second\n",
    "#### Proxy\n",
    "someone else that makes a request on your behalf\n",
    "#### API (Application programmer interface)\n",
    "anything that makes two programmes talk to each other. Software to software interaction.\n",
    "#### SDK (software development kit)\n",
    "huge collection of API. If you wanna build an android app you need to use an android SDK to use some APIs that allows you to \n",
    "#### Cache\n",
    "quicker more efficient way to access something else. A closet is a chache to a shopping centre or kitchen is a cache of supermarket. \n",
    "#### Linux\n",
    "open source operating system like microsoft. \n",
    "#### Compiling\n",
    "software engineers use different languages. These languages are used for humans and computers cant read that. Compiling is changing that language into 1s and 0s.\n",
    "#### Embeded Device\n",
    "Any electronic thats embeded into something else. \n",
    "#### RTFM (READ THE FUCKING MANUAL)\n",
    "\n",
    "\n"
   ]
  },
  {
   "cell_type": "markdown",
   "metadata": {},
   "source": [
    "# Web architecture basics\n",
    "\n",
    "## Back-End \n",
    "Any application that is connected to the internet or clouds that is responsible to service requests. It is a huge system of computers working together.\n",
    "\n",
    "- Web servers <br>\n",
    "Anything that can respond to a http and return a file. Does a business logic and returns something. \n",
    "\n",
    "- Databases <br>\n",
    "Just presists data. Databases dont have to always be used with web servers but web servers usually use databases if you want to do anything useful with your server.\n",
    "\n",
    "webserver sits on one computer and database on another. It's because they use a lot of resources and so you dont want them to compete for computer resource and power so you separate them. ( i guess they must run in parallel to be faster?). \n",
    "\n",
    "## Front-End \n",
    "Any code running on the client side such as code running on your browser. \n",
    "\n",
    "## Models\n",
    "Old model: back end rendered all the html and return it and the front end only displays it. \n",
    "\n",
    "New model: back end doesnt return HTML, it returns java data and the front end renders HTML and displays it.\n",
    "\n",
    "## Background processing\n",
    "when the computer needs more time to process something, and still wants to be fast, it still gives you some output but then continues to process.\n",
    "\n",
    "## Cache\n",
    "you get a request from the client but hitting the database can be time consuming and expensive, so it saves some responces that you use often and responds faster. \n",
    "\n"
   ]
  },
  {
   "cell_type": "markdown",
   "metadata": {},
   "source": [
    "# How do browsers work? (learn HTML/CSS and come back to this)\n",
    "\n",
    "## CSS (Cascade Style Sheeting)\n",
    "Makes your website look what it does. Its a styling sheet language to describe the presentational semantics of a document written in a markup language like HTML. <br>\n",
    "You can link multiple HTML files to a CSS file and edit their style instead of doing it individually. Imagine, writing a few HTML files for different pages of a website and then you want to change the font on all of them. Instead of doing this one by one, you change the CSS file and voila. \n",
    "\n",
    "## 1. User interface\n",
    "\n",
    "\n",
    "## 2. Browser Engine\n",
    "\n",
    "\n",
    "## 3. Rendering engine\n",
    "1. Resource gathering <br>\n",
    "It requests (gets) what we ned to display\n",
    "\n",
    "2. Parse HTML and create DOM (document object model) tree <br>\n",
    "Get the resources and create a tree of DOM objects\n",
    "\n",
    "3. Create render tree from DOM tree <br>\n",
    "We didnt just get the HTML, we also got CSS docs and so we will put the styling ont the tree and make the visuals. \n",
    "\n",
    "4. Layout the render tree <br>\n",
    "figure out the exact position of where everything goes from the CSS onto the HTML\n",
    "\n",
    "5. painting <br>\n",
    "Gives it to the UI backend to present things on the screen. Goes down to the graphics card and draws ...\n",
    "\n",
    "\n",
    "## 4. Networking\n",
    "\n",
    "\n",
    "## 5. JS (java script) interpreter\n",
    "\n",
    "\n",
    "## 6. UI (user interface) Back-End\n",
    "\n",
    "\n",
    "## 7. Data --> Cookies and cache "
   ]
  },
  {
   "cell_type": "markdown",
   "metadata": {},
   "source": [
    "# UTF-8\n",
    "\n",
    "You type in a letter (client), they get converted to numbers and the server receives them and has to decode the numbers. So there should be a protocol and there is. Americans had ASCII which was a 7-bit (each letter was converted to/from 7 binary numbers). The 7-bit binary would give us 127 numbers. So we have 127 numbers that we can allocate letter, their capitals, punctuation, spaces and numbers etc. This worked fine in the english speaking countries until an 8th bit was introduced to computing. Now we had 256 numbers. What do we do with these extra ones?\n",
    "\n",
    "Now we have Unicode Transformation Format (UTF) assigns 100,000+ characters to 100,000+ numbers. And that is the protocol that everyone goes by. "
   ]
  }
 ],
 "metadata": {
  "kernel_info": {
   "name": "python3"
  },
  "kernelspec": {
   "display_name": "Python 3",
   "language": "python",
   "name": "python3"
  },
  "language_info": {
   "codemirror_mode": {
    "name": "ipython",
    "version": 3
   },
   "file_extension": ".py",
   "mimetype": "text/x-python",
   "name": "python",
   "nbconvert_exporter": "python",
   "pygments_lexer": "ipython3",
   "version": "3.6.5"
  },
  "nteract": {
   "version": "0.11.9"
  }
 },
 "nbformat": 4,
 "nbformat_minor": 2
}
