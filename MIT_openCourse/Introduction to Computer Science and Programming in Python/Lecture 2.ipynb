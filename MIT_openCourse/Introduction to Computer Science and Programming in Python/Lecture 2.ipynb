{
 "cells": [
  {
   "cell_type": "markdown",
   "metadata": {},
   "source": [
    "# Lecture 2: Branching and iteration\n",
    "\n",
    "Concatenation: putting strings together\n",
    "\n",
    "The operator will check the object types and will only carry it out of they agree."
   ]
  },
  {
   "cell_type": "code",
   "execution_count": 8,
   "metadata": {},
   "outputs": [
    {
     "name": "stdout",
     "output_type": "stream",
     "text": [
      "hello thereSherv\n",
      "hello there Sherv\n",
      "hello there Sherv\n",
      "hello there Sherv Sherv Sherv\n"
     ]
    }
   ],
   "source": [
    "hi = 'hello there'\n",
    "name = 'Sherv'\n",
    "greet = hi + name\n",
    "print(greet) # notice that there are no spaces\n",
    "greet = hi + ' ' + name # manually add space\n",
    "print(greet)\n",
    "print(hi,name) # commas add spaces automatically\n",
    "silly = hi + (' ' + name)*3\n",
    "print(silly)"
   ]
  },
  {
   "cell_type": "markdown",
   "metadata": {},
   "source": [
    "# User interaction\n",
    "\n",
    "use `input()` to receive input from the user"
   ]
  }
 ],
 "metadata": {
  "kernelspec": {
   "display_name": "Python 3",
   "language": "python",
   "name": "python3"
  },
  "language_info": {
   "codemirror_mode": {
    "name": "ipython",
    "version": 3
   },
   "file_extension": ".py",
   "mimetype": "text/x-python",
   "name": "python",
   "nbconvert_exporter": "python",
   "pygments_lexer": "ipython3",
   "version": "3.6.5"
  }
 },
 "nbformat": 4,
 "nbformat_minor": 2
}
