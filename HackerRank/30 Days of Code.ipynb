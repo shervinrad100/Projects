{
 "cells": [
  {
   "cell_type": "markdown",
   "metadata": {},
   "source": [
    "Given the meal price (base cost of a meal), tip percent (the percentage of the meal price being added as tip), and tax percent (the percentage of the meal price being added as tax) for a meal, find and print the meal's total cost. <br>\n",
    "The first line has a float64/double,  (the cost of the meal before tax and tip). <br>\n",
    "The second line has an integer,  (the percentage of  being added as tip). <br>\n",
    "The third line has an integer,  (the percentage of  being added as tax). <br>\n",
    "Round the answer to the nearest dollar."
   ]
  },
  {
   "cell_type": "code",
   "execution_count": 2,
   "metadata": {},
   "outputs": [
    {
     "name": "stdout",
     "output_type": "stream",
     "text": [
      "20\n",
      "0\n",
      "2\n",
      "20\n"
     ]
    }
   ],
   "source": [
    "def meal(price,tip,tax):\n",
    "    total = price*(1+tax/100+tip/100)\n",
    "    print(round(total))\n",
    "\n",
    "price = float(input())\n",
    "tip = int(input())\n",
    "tax = int(input()) \n",
    "meal(price,tip,tax)"
   ]
  },
  {
   "cell_type": "markdown",
   "metadata": {},
   "source": [
    "Given an integer, n, perform the following conditional actions:\n",
    "\n",
    "If n is odd, print Weird\n",
    "If n is even and in the inclusive range of 2 to 5, print Not Weird\n",
    "If n is even and in the inclusive range of 6 to 20, print Weird\n",
    "If n is even and greater than 20, print Not Weird"
   ]
  },
  {
   "cell_type": "code",
   "execution_count": 3,
   "metadata": {},
   "outputs": [
    {
     "name": "stdout",
     "output_type": "stream",
     "text": [
      "100\n",
      "Not Weird\n"
     ]
    }
   ],
   "source": [
    "def weird(n):\n",
    "    for i in range(51):\n",
    "        if n == 2*i+1:\n",
    "            print('Weird')\n",
    "        elif n == 2*i and n>2 and n<6:\n",
    "            print('Not Weird')\n",
    "        elif n == 2*i and n>6 and n<21:\n",
    "            print('Weird')\n",
    "        elif n == 2*i and n>20:\n",
    "            print('Not Weird')\n",
    "        else: \n",
    "            pass\n",
    "\n",
    "n = int(input())\n",
    "weird(n)"
   ]
  }
 ],
 "metadata": {
  "kernelspec": {
   "display_name": "Python 3",
   "language": "python",
   "name": "python3"
  },
  "language_info": {
   "codemirror_mode": {
    "name": "ipython",
    "version": 3
   },
   "file_extension": ".py",
   "mimetype": "text/x-python",
   "name": "python",
   "nbconvert_exporter": "python",
   "pygments_lexer": "ipython3",
   "version": "3.6.5"
  }
 },
 "nbformat": 4,
 "nbformat_minor": 2
}
