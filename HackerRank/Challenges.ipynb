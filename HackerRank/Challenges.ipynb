{
 "cells": [
  {
   "cell_type": "markdown",
   "metadata": {},
   "source": [
    "Write a function which checks whether a number is included in an array which are both inputted by the user. Eg:\n",
    "\n",
    "$ A = [1,2,3,4,5]; \\ k = 6$ <br>\n",
    "` Output: 'NO'` <br>\n",
    "$ let \\ k = 5$ <br>\n",
    "`Output: 'YES'`"
   ]
  },
  {
   "cell_type": "code",
   "execution_count": 5,
   "metadata": {},
   "outputs": [
    {
     "name": "stdout",
     "output_type": "stream",
     "text": [
      "No delimiters or brackets, press space between numbers: A=\n",
      "1 2 3 4 5\n",
      "k=\n",
      "5\n",
      "YES\n"
     ]
    }
   ],
   "source": [
    "def FindNum(A,k):\n",
    "    x = 'NO'\n",
    "    for i in A:\n",
    "        if i == k:\n",
    "            x='YES'\n",
    "        else: \n",
    "            pass\n",
    "    print(x)\n",
    "\n",
    "\n",
    "print('No delimiters or brackets, press space between numbers:','A=')\n",
    "A=[int(x) for x in input().split()]\n",
    "print('k=')\n",
    "k=int(input())\n",
    "FindNum(A,k)"
   ]
  },
  {
   "cell_type": "markdown",
   "metadata": {},
   "source": [
    "Write a function which adds every element of a randomly generated array. You will input the size of the array. Eg: <br>\n",
    "$A = [1,2,3,4]$ <br>\n",
    "`Output: 10`"
   ]
  },
  {
   "cell_type": "code",
   "execution_count": 8,
   "metadata": {},
   "outputs": [
    {
     "name": "stdout",
     "output_type": "stream",
     "text": [
      "3\n",
      "A= [4, 5, 3] \n",
      " 12\n"
     ]
    },
    {
     "data": {
      "text/plain": [
       "\"\\nprint('No delimiters or brackets, press space between numbers:','A=')\\nA=[int(x) for x in input().split()]\\n\""
      ]
     },
     "execution_count": 8,
     "metadata": {},
     "output_type": "execute_result"
    }
   ],
   "source": [
    "import random\n",
    "\n",
    "def SumList(n):\n",
    "    A=[]\n",
    "    for i in range(n):\n",
    "        A.append(random.randint(1,10))\n",
    "    x = A[0]\n",
    "    for i in range(len(A)-1):\n",
    "        x += A[i+1]\n",
    "    print('A=',A,'\\n',x)\n",
    "\n",
    "n = int(input())\n",
    "SumList(n)\n",
    "\n",
    "'''\n",
    "print('No delimiters or brackets, press space between numbers:','A=')\n",
    "A=[int(x) for x in input().split()]\n",
    "'''\n"
   ]
  },
  {
   "cell_type": "markdown",
   "metadata": {},
   "source": [
    "Compare two triplets, and give a binary point to one with higher score. Show the scores accumulatively for the triplet/team. Eg:\n",
    "\n",
    "$A = [1, 2, 3] \\\\\n",
    "B = [4, 2, 6]$\n",
    "\n",
    "$ a(0) < b(0) \\rightarrow \\text{b gets 1 point} \\\\\n",
    "a(1) = b(1) \\rightarrow \\text{no one gets a point} \\\\\n",
    "a(2) < b(2) \\rightarrow \\text{b gets 1 point}$\n",
    "\n",
    "`Output: Triplet A: 0, Triplet B: 2`"
   ]
  },
  {
   "cell_type": "code",
   "execution_count": 1,
   "metadata": {},
   "outputs": [
    {
     "name": "stdout",
     "output_type": "stream",
     "text": [
      "No delimiters or brackets, press space between numbers: A=1 2 3 4\n",
      "No delimiters or brackets, press space between numbers: B=2 6 3 5\n",
      "Triplet A= 0, Triplet B= 3\n"
     ]
    }
   ],
   "source": [
    "def Triplet(A,B):\n",
    "    p1, p2 = [0,0]\n",
    "    for i in range(len(A)):\n",
    "        if A[i] > B[i]:\n",
    "            p1 += 1\n",
    "        elif A[i] == B[i]:\n",
    "            pass\n",
    "        else:\n",
    "            p2 += 1\n",
    "    print('Triplet A= %s, Triplet B= %s' %(p1,p2))\n",
    "\n",
    "\n",
    "A=[int(x) for x in input('No delimiters or brackets, press space between numbers: A=').split()]\n",
    "# A = list(map(int,input(\"No delimiters ...\").split()))\n",
    "B=[int(x) for x in input('No delimiters or brackets, press space between numbers: B=').split()]\n",
    "Triplet(A,B)"
   ]
  },
  {
   "cell_type": "markdown",
   "metadata": {},
   "source": [
    "Given a square matrix, calculate the absolute difference between the sums of its diagonals. Eg:\n",
    "$$\\begin{pmatrix}\n",
    "1 & 2 & 3 \\\\\n",
    "4 & 5 & 6 \\\\\n",
    "9 & 8 & 9\n",
    "\\end{pmatrix}$$\n",
    "$$ 1+5+9=15, \\ 3+5+9=17 \\rightarrow \\left| \\ 15-17 \\ \\right|=2$$\n",
    "\n",
    "The first input would be the dimension, each of the other inputs will be the rows of the matrix."
   ]
  },
  {
   "cell_type": "code",
   "execution_count": 22,
   "metadata": {},
   "outputs": [
    {
     "name": "stdout",
     "output_type": "stream",
     "text": [
      "3\n",
      "insert row 1 2 3\n",
      "insert row 4 5 6\n",
      "insert row 9 8 9\n",
      "2\n"
     ]
    }
   ],
   "source": [
    "def DiagDiff(A):\n",
    "    x=A[0][0]\n",
    "    y=[]\n",
    "    for i in range(n-1):\n",
    "        x+= A[i+1][i+1]\n",
    "    for i in range(n):\n",
    "        y.append(A[i][-(i+1)])\n",
    "        diag2 = y[0]\n",
    "        for i in range(len(y)-1):\n",
    "            diag2 += y[i+1]\n",
    "    ans = abs(x-diag2)\n",
    "    print(ans)\n",
    "\n",
    "    \n",
    "n = int(input())\n",
    "A = []\n",
    "for i in range(n):\n",
    "    A.append([int(x) for x in input('insert row ').split()])\n",
    "\n",
    "DiagDiff(A)"
   ]
  },
  {
   "cell_type": "markdown",
   "metadata": {},
   "source": [
    "Given an array of integers, calculate the fractions of its elements that are positive, negative, and are zeros. Print the decimal value of each fraction on a new line. Eg:\n",
    "$$ A = [1, -1, 2, 0]$$\n",
    "`Output: 0.5\n",
    "0.25\n",
    "0.25`"
   ]
  },
  {
   "cell_type": "code",
   "execution_count": null,
   "metadata": {},
   "outputs": [],
   "source": [
    "def ratio(A):\n",
    "    plus = 0\n",
    "    zero = 0\n",
    "    negative = 0\n",
    "    for i in range(len(A)):\n",
    "        if A[i] > 0:\n",
    "            plus+=1\n",
    "        elif A[i] < 0:\n",
    "            negative += 1\n",
    "        else:\n",
    "            zero += 1\n",
    "    print(plus/n)\n",
    "    print(negative/n)\n",
    "    print(zero/n)\n",
    "            \n",
    "n = int(input())\n",
    "A = [int(x) for x in input().split()]\n",
    "ratio(A)\n",
    "            "
   ]
  }
 ],
 "metadata": {
  "kernel_info": {
   "name": "python3"
  },
  "kernelspec": {
   "display_name": "Python 3",
   "language": "python",
   "name": "python3"
  },
  "language_info": {
   "codemirror_mode": {
    "name": "ipython",
    "version": 3
   },
   "file_extension": ".py",
   "mimetype": "text/x-python",
   "name": "python",
   "nbconvert_exporter": "python",
   "pygments_lexer": "ipython3",
   "version": "3.6.5"
  },
  "nteract": {
   "version": "0.11.9"
  }
 },
 "nbformat": 4,
 "nbformat_minor": 2
}
