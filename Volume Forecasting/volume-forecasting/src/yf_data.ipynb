{
 "cells": [
  {
   "cell_type": "code",
   "execution_count": 104,
   "metadata": {},
   "outputs": [],
   "source": [
    "import pandas as pd\n",
    "import yfinance as yf\n",
    "from datetime import timedelta, date, datetime\n",
    "import os\n",
    "import datetime as dt"
   ]
  },
  {
   "cell_type": "code",
   "execution_count": null,
   "metadata": {},
   "outputs": [],
   "source": []
  },
  {
   "cell_type": "markdown",
   "metadata": {},
   "source": [
    "# 1. \n",
    "-update_local_datasets(symbols, path) # using path as the root folder, compare current stored data for symbols with what is available from yfinance, download additional (most recent) data as necessary, storing in path as csv (or pickle)."
   ]
  },
  {
   "cell_type": "code",
   "execution_count": 6,
   "metadata": {},
   "outputs": [],
   "source": [
    "def get_path():\n",
    "    if not os.path.exists('dataset'):\n",
    "        os.makedirs('dataset')\n",
    "    else:\n",
    "        cwd = os.getcwd()\n",
    "        \n",
    "    return os.path.join(cwd,'dataset')\n",
    "\n",
    "path = get_path()"
   ]
  },
  {
   "cell_type": "code",
   "execution_count": 54,
   "metadata": {},
   "outputs": [
    {
     "data": {
      "text/plain": [
       "'/Users/brigittekudor/volume-forecasting/dataset'"
      ]
     },
     "execution_count": 54,
     "metadata": {},
     "output_type": "execute_result"
    }
   ],
   "source": [
    "path"
   ]
  },
  {
   "cell_type": "code",
   "execution_count": null,
   "metadata": {},
   "outputs": [],
   "source": []
  },
  {
   "cell_type": "code",
   "execution_count": 23,
   "metadata": {},
   "outputs": [
    {
     "data": {
      "text/plain": [
       "[]"
      ]
     },
     "execution_count": 23,
     "metadata": {},
     "output_type": "execute_result"
    }
   ],
   "source": [
    "os.chdir(path)\n",
    "files = [f for f in os.listdir('.') if os.path.isfile(f)]\n",
    "files"
   ]
  },
  {
   "cell_type": "code",
   "execution_count": 12,
   "metadata": {},
   "outputs": [],
   "source": [
    "def update_local_datasets(tickers,path):\n",
    "    #go to current working directory and get file names\n",
    "    os.chdir(path)\n",
    "    #files = [f for f in os.listdir('.') if os.path.isfile(f)]\n",
    "    #open csv files and scan for symbols\n",
    "    for t in tickers:\n",
    "            # if file does not exist create new file with ticker:\n",
    "        if not os.path.isfile('{}.csv'.format(t)):\n",
    "                # download latest 1 min data for the past seven days(according to streaming allowance)\n",
    "            start_date = (date.today() - timedelta(7)).strftime('%Y-%m-%d')\n",
    "            end_date = date.today().strftime('%Y-%m-%d')\n",
    "            ticker_obj = yf.Ticker(t)\n",
    "            t_df = ticker_obj.history(start = start_date, end = end_date, interval = '1m')\n",
    "            t_df['ticker'] = t\n",
    "            t_file = '{}.csv'.format(t)\n",
    "            t_df.to_csv(t_file)\n",
    "            # Else exists, open up the correct file, get latest data and append to file\n",
    "        else:\n",
    "            file = '{}.csv'.format(t)\n",
    "            df = pd.read_csv(file, index_col =0, header = 0)\n",
    "            df.index = pd.to_datetime(df.index)\n",
    "            #check latest date and pull new data\n",
    "            latest_date = df.index[-1].date()\n",
    "            start_date = (latest_date + timedelta(1)).strftime('%Y-%m-%d')\n",
    "            today = date.today()\n",
    "            ticker_obj = yf.Ticker(t)\n",
    "            temp_df = ticker_obj.history(start = start_date, end = today, interval = '1m')\n",
    "            temp_df['ticker'] = t\n",
    "            temp_df.to_csv(f, mode = 'a', header = False)"
   ]
  },
  {
   "cell_type": "code",
   "execution_count": null,
   "metadata": {},
   "outputs": [],
   "source": []
  },
  {
   "cell_type": "code",
   "execution_count": 36,
   "metadata": {},
   "outputs": [],
   "source": [
    "# if file does not exist write header \n",
    "if not os.path.isfile('filename.csv'):\n",
    "    df.to_csv('filename.csv', header='column_names')\n",
    "else: #else it exists so append without writing the header\n",
    "    df.to_csv('filename.csv', mode='a', header=False)"
   ]
  },
  {
   "cell_type": "code",
   "execution_count": 61,
   "metadata": {},
   "outputs": [],
   "source": [
    "ticker_obj = yf.Ticker('AMZN')\n",
    "amzn_df = ticker_obj.history(start = '2020-11-16', end = '2020-11-20', interval = '1m')\n",
    "amzn_df['ticker'] = 'AMZN'\n",
    "amzn_df.to_csv('AMZN.csv')"
   ]
  },
  {
   "cell_type": "code",
   "execution_count": 50,
   "metadata": {},
   "outputs": [],
   "source": [
    "df = pd.read_csv('AMZN.csv', index_col = 0,header = 0)\n",
    "df.head()\n",
    "# Converting the index as date\n",
    "df.index = pd.to_datetime(df.index)\n",
    "latest_date = df.index[-1].date()\n",
    "start_date = (latest_date + timedelta(1)).strftime('%Y-%m-%d')\n",
    "ticker_obj = yf.Ticker('')\n",
    "temp_df = ticker_obj.history(start = start_date, end = '2020-11-26', interval = '1m')\n",
    "temp_df['ticker'] = ''\n",
    "temp_df.to_csv('MSFT.csv', mode = 'a', header = False )"
   ]
  },
  {
   "cell_type": "code",
   "execution_count": 13,
   "metadata": {},
   "outputs": [],
   "source": [
    "cwd = os.getcwd()\n",
    "base_dir  = os.path.dirname(cwd)\n",
    "working_file = os.path.join(base_dir, 'yf_min_data.csv')\n",
    "df = pd.read_csv('yf_min_data.csv')"
   ]
  },
  {
   "cell_type": "markdown",
   "metadata": {},
   "source": [
    "## Stocks\n",
    "\n",
    "5 pharma: PSE, JNJ, NVS, MRK, AZN\n",
    "\n",
    "5 Oil and Gas: SNP, PTR, BP, XOM, RDS\n",
    "\n",
    "5 Tech: AMZN, TSLA, MSFT, AAPL, ZOM\n",
    "\n",
    "5 Banking: GS, JPM, WFC, FRC, HDB"
   ]
  },
  {
   "cell_type": "code",
   "execution_count": 81,
   "metadata": {},
   "outputs": [],
   "source": [
    "tickers = ['PSE', 'JNJ', 'NVS', 'MRK', 'AZN', 'SNP', 'PTR', 'BP', 'XOM', 'AMZN', 'TSLA', 'MSFT',\n",
    "          'AAPL', 'ZOM', 'GS', 'JPM', 'WFC', 'FRC', 'HDB', 'RDS']"
   ]
  },
  {
   "cell_type": "code",
   "execution_count": 86,
   "metadata": {},
   "outputs": [],
   "source": [
    "#update_local_datasets(tickers,path)"
   ]
  },
  {
   "cell_type": "code",
   "execution_count": 30,
   "metadata": {},
   "outputs": [
    {
     "name": "stdout",
     "output_type": "stream",
     "text": [
      "start:2020-11-17, end 2020-11-18\n",
      "temp df shape: (389, 8)\n",
      "start:2020-11-18, end 2020-11-19\n",
      "temp df shape: (390, 8)\n",
      "start:2020-11-19, end 2020-11-20\n",
      "temp df shape: (391, 8)\n",
      "start:2020-11-20, end 2020-11-21\n",
      "temp df shape: (390, 8)\n",
      "start:2020-11-21, end 2020-11-22\n",
      "- MSFT: No data found for this date range, symbol may be delisted\n",
      "temp df shape: (0, 7)\n",
      "start:2020-11-22, end 2020-11-23\n",
      "- MSFT: No data found for this date range, symbol may be delisted\n",
      "temp df shape: (0, 7)\n",
      "start:2020-11-23, end 2020-11-24\n",
      "temp df shape: (390, 8)\n",
      "start:2020-11-24, end 2020-11-25\n",
      "temp df shape: (389, 8)\n",
      "start:2020-11-25, end 2020-11-26\n",
      "temp df shape: (387, 8)\n",
      "start:2020-11-26, end 2020-11-27\n",
      "- MSFT: No data found for this date range, symbol may be delisted\n",
      "temp df shape: (0, 7)\n",
      "start:2020-11-27, end 2020-11-28\n",
      "- MSFT: No data found for this date range, symbol may be delisted\n",
      "temp df shape: (0, 7)\n",
      "master df shape: (2726, 9)\n"
     ]
    }
   ],
   "source": [
    "# Change this so it saves datasets per ticker not in one master df\n",
    "\n",
    "def get_stock_data(ticker_list, num_days):\n",
    "    \n",
    "    def daterange(d1,d2):\n",
    "        return (d1 + timedelta(days = i) for i in range ((d2-d1).days +1))\n",
    "\n",
    "    master_df = pd.DataFrame()\n",
    "    for ticker in ticker_list:\n",
    "        ticker_obj = yf.Ticker(ticker)\n",
    "        today = date.today()\n",
    "        start_date = today - timedelta(days = num_days)\n",
    "        ticker_df = pd.DataFrame()\n",
    "        for d in daterange(start_date, today):\n",
    "            start_dt = d.strftime('%Y-%m-%d')\n",
    "            end_dt = (d + timedelta(1)).strftime('%Y-%m-%d')\n",
    "            print(f'start:{start_dt}, end {end_dt}')\n",
    "            temp_df = ticker_obj.history(start = start_dt, end = end_dt, interval = '1m')\n",
    "            temp_df['ticker'] = ticker\n",
    "            print('temp df shape:', temp_df.shape)\n",
    "            ticker_df = ticker_df.append(temp_df)\n",
    "            ticker_df.to_csv('{}.csv'.format(ticker))\n",
    "        master_df = master_df.append(ticker_df)\n",
    "        print('master df shape:', master_df.shape)\n",
    "        \n",
    "\n",
    "    return master_df\n",
    "\n",
    "\n",
    "ticker_list = [ 'MSFT']\n",
    "\n",
    "num_days = 10\n",
    "df = get_stock_data(ticker_list, num_days)"
   ]
  },
  {
   "cell_type": "code",
   "execution_count": 29,
   "metadata": {},
   "outputs": [
    {
     "data": {
      "text/plain": [
       "'2020-11-25'"
      ]
     },
     "execution_count": 29,
     "metadata": {},
     "output_type": "execute_result"
    }
   ],
   "source": [
    "last_date = df.index[-1].date().strftime('%Y-%m-%d')\n",
    "last_date"
   ]
  },
  {
   "cell_type": "code",
   "execution_count": 52,
   "metadata": {},
   "outputs": [
    {
     "data": {
      "text/plain": [
       "'2020-11-20'"
      ]
     },
     "execution_count": 52,
     "metadata": {},
     "output_type": "execute_result"
    }
   ],
   "source": [
    "start_date = (date.today() - timedelta(7)).strftime('%Y-%m-%d')\n",
    "end_date = date.today().strftime('%Y-%m-%d')\n",
    "start_date\n"
   ]
  },
  {
   "cell_type": "markdown",
   "metadata": {},
   "source": []
  },
  {
   "cell_type": "markdown",
   "metadata": {},
   "source": [
    "# 2\n",
    "\n",
    "- get_available_datasets(training_window, test_window, path) # return list of symbols with possible start_dates, having specified training_window (in days) and test window (in days). (Start date = start of test window. Training window immediately precedes this).\n",
    "\n",
    "- get_dataset(symbol, start_date, training_window, test_window, path) # return a data frame with test data specified by start_date, and training data immediately before this."
   ]
  },
  {
   "cell_type": "code",
   "execution_count": 92,
   "metadata": {},
   "outputs": [],
   "source": [
    "def get_available_datasets(training_window, test_window, path):\n",
    "    \n",
    "    def daterange(startdate, enddate, steps):\n",
    "        numdays = (enddate-startdate).days \n",
    "        for x in range (0, numdays, steps):\n",
    "            yield startdate + dt.timedelta(days = x)\n",
    "    \n",
    "    #go to current working directory and get file names\n",
    "    os.chdir(path)\n",
    "    files = [f for f in os.listdir('.') if os.path.isfile(f)]\n",
    "    all_possibilities = []\n",
    "    for f in files:\n",
    "        try:\n",
    "            df = pd.read_csv(f, index_col =0, header =0)\n",
    "            df.index = pd.to_datetime(df.index)\n",
    "            ticker = df['ticker'].values[1]\n",
    "            #check latest date and pull new data\n",
    "            latest_date = df.index[-1].date()\n",
    "            first_date = df.index[0].date()\n",
    "            diff = latest_date-first_date\n",
    "            start_dates = []\n",
    "            # check if we have enough data for the defined training and test window\n",
    "            total_days_required = training_window + test_window\n",
    "            total_days_available = diff.days\n",
    "            if total_days_required <= total_days_available:\n",
    "                start_date = first_date + timedelta (training_window)\n",
    "                for day in daterange(start_date,latest_date,total_days_required):\n",
    "                    start_dates.append(day.strftime('%Y-%m-%d'))\n",
    "            ticker_dict = {ticker:start_dates}\n",
    "        except ValueError:\n",
    "            print(\"Dataset {}, doesn't have sufficient values\".format(f))\n",
    "        all_possibilities.append(ticker_dict)   \n",
    "    return all_possibilities"
   ]
  },
  {
   "cell_type": "code",
   "execution_count": 93,
   "metadata": {},
   "outputs": [
    {
     "name": "stdout",
     "output_type": "stream",
     "text": [
      "Dataset RDS.csv, doesn't have sufficient values\n"
     ]
    },
    {
     "data": {
      "text/plain": [
       "[{'NVS': ['2020-11-25']},\n",
       " {'SNP': ['2020-11-25']},\n",
       " {'SNP': ['2020-11-25']},\n",
       " {'BP': ['2020-11-25']},\n",
       " {'MRK': ['2020-11-25']},\n",
       " {'AMZN': ['2020-11-25']},\n",
       " {'MSFT': ['2020-11-25']},\n",
       " {'ZOM': ['2020-11-25']},\n",
       " {'HDB': ['2020-11-25']},\n",
       " {'AZN': ['2020-11-25']},\n",
       " {'FRC': ['2020-11-25']},\n",
       " {'XOM': ['2020-11-25']},\n",
       " {'WFC': ['2020-11-25']},\n",
       " {'GS': ['2020-11-25']},\n",
       " {'PTR': ['2020-11-25']},\n",
       " {'JPM': ['2020-11-25']},\n",
       " {'TSLA': ['2020-11-25']},\n",
       " {'PSE': []},\n",
       " {'AAPL': ['2020-11-25']},\n",
       " {'JNJ': ['2020-11-25']}]"
      ]
     },
     "execution_count": 93,
     "metadata": {},
     "output_type": "execute_result"
    }
   ],
   "source": [
    "get_available_datasets(2,1,path)"
   ]
  },
  {
   "cell_type": "code",
   "execution_count": 111,
   "metadata": {},
   "outputs": [],
   "source": [
    "def get_dataset(symbol, start_date, training_window, test_window, path):\n",
    "    #go to current working directory and get file names\n",
    "    os.chdir(path)\n",
    "    csv = '{}.csv'.format(symbol)\n",
    "    df = pd.read_csv(csv, index_col = 0, header = 0)\n",
    "    df.index = pd.to_datetime(df.index)\n",
    "    df.index = df.index.tz_localize(None)\n",
    "    start_date = datetime.strptime(start_date, '%Y-%m-%d')\n",
    "    training_start_date = start_date - timedelta(training_window)\n",
    "    test_end = start_date + timedelta(test_window)\n",
    "    train_mask = (df.index >= training_start_date) & (df.index < start_date)\n",
    "    test_mask = (df.index >= start_date) & (df.index < test_end)\n",
    "    train_df = df[train_mask]\n",
    "    test_df = df[test_mask]\n",
    "    return train_df, test_df"
   ]
  },
  {
   "cell_type": "code",
   "execution_count": null,
   "metadata": {},
   "outputs": [],
   "source": []
  },
  {
   "cell_type": "code",
   "execution_count": null,
   "metadata": {},
   "outputs": [],
   "source": []
  },
  {
   "cell_type": "code",
   "execution_count": null,
   "metadata": {},
   "outputs": [],
   "source": []
  },
  {
   "cell_type": "code",
   "execution_count": null,
   "metadata": {},
   "outputs": [],
   "source": []
  },
  {
   "cell_type": "code",
   "execution_count": null,
   "metadata": {},
   "outputs": [],
   "source": []
  },
  {
   "cell_type": "code",
   "execution_count": null,
   "metadata": {},
   "outputs": [],
   "source": []
  },
  {
   "cell_type": "code",
   "execution_count": 112,
   "metadata": {},
   "outputs": [],
   "source": [
    "train, test = get_dataset('AAPl', '2020-11-25', 2, 1, path)"
   ]
  },
  {
   "cell_type": "code",
   "execution_count": 113,
   "metadata": {},
   "outputs": [
    {
     "data": {
      "text/html": [
       "<div>\n",
       "<style scoped>\n",
       "    .dataframe tbody tr th:only-of-type {\n",
       "        vertical-align: middle;\n",
       "    }\n",
       "\n",
       "    .dataframe tbody tr th {\n",
       "        vertical-align: top;\n",
       "    }\n",
       "\n",
       "    .dataframe thead th {\n",
       "        text-align: right;\n",
       "    }\n",
       "</style>\n",
       "<table border=\"1\" class=\"dataframe\">\n",
       "  <thead>\n",
       "    <tr style=\"text-align: right;\">\n",
       "      <th></th>\n",
       "      <th>Open</th>\n",
       "      <th>High</th>\n",
       "      <th>Low</th>\n",
       "      <th>Close</th>\n",
       "      <th>Volume</th>\n",
       "      <th>Dividends</th>\n",
       "      <th>Stock Splits</th>\n",
       "      <th>ticker</th>\n",
       "    </tr>\n",
       "    <tr>\n",
       "      <th>Datetime</th>\n",
       "      <th></th>\n",
       "      <th></th>\n",
       "      <th></th>\n",
       "      <th></th>\n",
       "      <th></th>\n",
       "      <th></th>\n",
       "      <th></th>\n",
       "      <th></th>\n",
       "    </tr>\n",
       "  </thead>\n",
       "  <tbody>\n",
       "    <tr>\n",
       "      <th>2020-11-23 09:30:00</th>\n",
       "      <td>117.250000</td>\n",
       "      <td>117.250000</td>\n",
       "      <td>117.199997</td>\n",
       "      <td>117.199997</td>\n",
       "      <td>3019162</td>\n",
       "      <td>0</td>\n",
       "      <td>0</td>\n",
       "      <td>AAPL</td>\n",
       "    </tr>\n",
       "    <tr>\n",
       "      <th>2020-11-23 09:31:00</th>\n",
       "      <td>117.169998</td>\n",
       "      <td>117.370003</td>\n",
       "      <td>117.080002</td>\n",
       "      <td>117.211304</td>\n",
       "      <td>619094</td>\n",
       "      <td>0</td>\n",
       "      <td>0</td>\n",
       "      <td>AAPL</td>\n",
       "    </tr>\n",
       "    <tr>\n",
       "      <th>2020-11-23 09:32:00</th>\n",
       "      <td>117.199997</td>\n",
       "      <td>117.309998</td>\n",
       "      <td>117.120003</td>\n",
       "      <td>117.150002</td>\n",
       "      <td>468029</td>\n",
       "      <td>0</td>\n",
       "      <td>0</td>\n",
       "      <td>AAPL</td>\n",
       "    </tr>\n",
       "    <tr>\n",
       "      <th>2020-11-23 09:33:00</th>\n",
       "      <td>117.150002</td>\n",
       "      <td>117.290001</td>\n",
       "      <td>117.129997</td>\n",
       "      <td>117.226700</td>\n",
       "      <td>417170</td>\n",
       "      <td>0</td>\n",
       "      <td>0</td>\n",
       "      <td>AAPL</td>\n",
       "    </tr>\n",
       "    <tr>\n",
       "      <th>2020-11-23 09:34:00</th>\n",
       "      <td>117.220001</td>\n",
       "      <td>117.410004</td>\n",
       "      <td>117.199997</td>\n",
       "      <td>117.370003</td>\n",
       "      <td>589356</td>\n",
       "      <td>0</td>\n",
       "      <td>0</td>\n",
       "      <td>AAPL</td>\n",
       "    </tr>\n",
       "    <tr>\n",
       "      <th>...</th>\n",
       "      <td>...</td>\n",
       "      <td>...</td>\n",
       "      <td>...</td>\n",
       "      <td>...</td>\n",
       "      <td>...</td>\n",
       "      <td>...</td>\n",
       "      <td>...</td>\n",
       "      <td>...</td>\n",
       "    </tr>\n",
       "    <tr>\n",
       "      <th>2020-11-24 15:55:00</th>\n",
       "      <td>115.190002</td>\n",
       "      <td>115.269997</td>\n",
       "      <td>115.169998</td>\n",
       "      <td>115.170097</td>\n",
       "      <td>502865</td>\n",
       "      <td>0</td>\n",
       "      <td>0</td>\n",
       "      <td>AAPL</td>\n",
       "    </tr>\n",
       "    <tr>\n",
       "      <th>2020-11-24 15:56:00</th>\n",
       "      <td>115.169998</td>\n",
       "      <td>115.169998</td>\n",
       "      <td>114.970001</td>\n",
       "      <td>115.014999</td>\n",
       "      <td>562914</td>\n",
       "      <td>0</td>\n",
       "      <td>0</td>\n",
       "      <td>AAPL</td>\n",
       "    </tr>\n",
       "    <tr>\n",
       "      <th>2020-11-24 15:57:00</th>\n",
       "      <td>115.019997</td>\n",
       "      <td>115.150002</td>\n",
       "      <td>114.995003</td>\n",
       "      <td>115.149902</td>\n",
       "      <td>565351</td>\n",
       "      <td>0</td>\n",
       "      <td>0</td>\n",
       "      <td>AAPL</td>\n",
       "    </tr>\n",
       "    <tr>\n",
       "      <th>2020-11-24 15:58:00</th>\n",
       "      <td>115.139999</td>\n",
       "      <td>115.150002</td>\n",
       "      <td>114.970001</td>\n",
       "      <td>115.025002</td>\n",
       "      <td>502665</td>\n",
       "      <td>0</td>\n",
       "      <td>0</td>\n",
       "      <td>AAPL</td>\n",
       "    </tr>\n",
       "    <tr>\n",
       "      <th>2020-11-24 15:59:00</th>\n",
       "      <td>115.025002</td>\n",
       "      <td>115.190002</td>\n",
       "      <td>115.010002</td>\n",
       "      <td>115.169998</td>\n",
       "      <td>722590</td>\n",
       "      <td>0</td>\n",
       "      <td>0</td>\n",
       "      <td>AAPL</td>\n",
       "    </tr>\n",
       "  </tbody>\n",
       "</table>\n",
       "<p>779 rows × 8 columns</p>\n",
       "</div>"
      ],
      "text/plain": [
       "                           Open        High         Low       Close   Volume  \\\n",
       "Datetime                                                                       \n",
       "2020-11-23 09:30:00  117.250000  117.250000  117.199997  117.199997  3019162   \n",
       "2020-11-23 09:31:00  117.169998  117.370003  117.080002  117.211304   619094   \n",
       "2020-11-23 09:32:00  117.199997  117.309998  117.120003  117.150002   468029   \n",
       "2020-11-23 09:33:00  117.150002  117.290001  117.129997  117.226700   417170   \n",
       "2020-11-23 09:34:00  117.220001  117.410004  117.199997  117.370003   589356   \n",
       "...                         ...         ...         ...         ...      ...   \n",
       "2020-11-24 15:55:00  115.190002  115.269997  115.169998  115.170097   502865   \n",
       "2020-11-24 15:56:00  115.169998  115.169998  114.970001  115.014999   562914   \n",
       "2020-11-24 15:57:00  115.019997  115.150002  114.995003  115.149902   565351   \n",
       "2020-11-24 15:58:00  115.139999  115.150002  114.970001  115.025002   502665   \n",
       "2020-11-24 15:59:00  115.025002  115.190002  115.010002  115.169998   722590   \n",
       "\n",
       "                     Dividends  Stock Splits ticker  \n",
       "Datetime                                             \n",
       "2020-11-23 09:30:00          0             0   AAPL  \n",
       "2020-11-23 09:31:00          0             0   AAPL  \n",
       "2020-11-23 09:32:00          0             0   AAPL  \n",
       "2020-11-23 09:33:00          0             0   AAPL  \n",
       "2020-11-23 09:34:00          0             0   AAPL  \n",
       "...                        ...           ...    ...  \n",
       "2020-11-24 15:55:00          0             0   AAPL  \n",
       "2020-11-24 15:56:00          0             0   AAPL  \n",
       "2020-11-24 15:57:00          0             0   AAPL  \n",
       "2020-11-24 15:58:00          0             0   AAPL  \n",
       "2020-11-24 15:59:00          0             0   AAPL  \n",
       "\n",
       "[779 rows x 8 columns]"
      ]
     },
     "execution_count": 113,
     "metadata": {},
     "output_type": "execute_result"
    }
   ],
   "source": [
    "train"
   ]
  },
  {
   "cell_type": "code",
   "execution_count": 114,
   "metadata": {},
   "outputs": [
    {
     "data": {
      "text/html": [
       "<div>\n",
       "<style scoped>\n",
       "    .dataframe tbody tr th:only-of-type {\n",
       "        vertical-align: middle;\n",
       "    }\n",
       "\n",
       "    .dataframe tbody tr th {\n",
       "        vertical-align: top;\n",
       "    }\n",
       "\n",
       "    .dataframe thead th {\n",
       "        text-align: right;\n",
       "    }\n",
       "</style>\n",
       "<table border=\"1\" class=\"dataframe\">\n",
       "  <thead>\n",
       "    <tr style=\"text-align: right;\">\n",
       "      <th></th>\n",
       "      <th>Open</th>\n",
       "      <th>High</th>\n",
       "      <th>Low</th>\n",
       "      <th>Close</th>\n",
       "      <th>Volume</th>\n",
       "      <th>Dividends</th>\n",
       "      <th>Stock Splits</th>\n",
       "      <th>ticker</th>\n",
       "    </tr>\n",
       "    <tr>\n",
       "      <th>Datetime</th>\n",
       "      <th></th>\n",
       "      <th></th>\n",
       "      <th></th>\n",
       "      <th></th>\n",
       "      <th></th>\n",
       "      <th></th>\n",
       "      <th></th>\n",
       "      <th></th>\n",
       "    </tr>\n",
       "  </thead>\n",
       "  <tbody>\n",
       "    <tr>\n",
       "      <th>2020-11-25 09:30:00</th>\n",
       "      <td>115.550003</td>\n",
       "      <td>115.849998</td>\n",
       "      <td>115.500000</td>\n",
       "      <td>115.714798</td>\n",
       "      <td>3159169</td>\n",
       "      <td>0</td>\n",
       "      <td>0</td>\n",
       "      <td>AAPL</td>\n",
       "    </tr>\n",
       "    <tr>\n",
       "      <th>2020-11-25 09:31:00</th>\n",
       "      <td>115.720001</td>\n",
       "      <td>115.750000</td>\n",
       "      <td>115.320000</td>\n",
       "      <td>115.349998</td>\n",
       "      <td>568034</td>\n",
       "      <td>0</td>\n",
       "      <td>0</td>\n",
       "      <td>AAPL</td>\n",
       "    </tr>\n",
       "    <tr>\n",
       "      <th>2020-11-25 09:32:00</th>\n",
       "      <td>115.349998</td>\n",
       "      <td>115.449997</td>\n",
       "      <td>115.169998</td>\n",
       "      <td>115.430000</td>\n",
       "      <td>497336</td>\n",
       "      <td>0</td>\n",
       "      <td>0</td>\n",
       "      <td>AAPL</td>\n",
       "    </tr>\n",
       "    <tr>\n",
       "      <th>2020-11-25 09:33:00</th>\n",
       "      <td>115.419998</td>\n",
       "      <td>115.730003</td>\n",
       "      <td>115.419998</td>\n",
       "      <td>115.550003</td>\n",
       "      <td>529254</td>\n",
       "      <td>0</td>\n",
       "      <td>0</td>\n",
       "      <td>AAPL</td>\n",
       "    </tr>\n",
       "    <tr>\n",
       "      <th>2020-11-25 09:34:00</th>\n",
       "      <td>115.550003</td>\n",
       "      <td>115.779999</td>\n",
       "      <td>115.349998</td>\n",
       "      <td>115.739998</td>\n",
       "      <td>510870</td>\n",
       "      <td>0</td>\n",
       "      <td>0</td>\n",
       "      <td>AAPL</td>\n",
       "    </tr>\n",
       "    <tr>\n",
       "      <th>...</th>\n",
       "      <td>...</td>\n",
       "      <td>...</td>\n",
       "      <td>...</td>\n",
       "      <td>...</td>\n",
       "      <td>...</td>\n",
       "      <td>...</td>\n",
       "      <td>...</td>\n",
       "      <td>...</td>\n",
       "    </tr>\n",
       "    <tr>\n",
       "      <th>2020-11-25 15:55:00</th>\n",
       "      <td>116.010002</td>\n",
       "      <td>116.089996</td>\n",
       "      <td>115.959999</td>\n",
       "      <td>116.070000</td>\n",
       "      <td>401831</td>\n",
       "      <td>0</td>\n",
       "      <td>0</td>\n",
       "      <td>AAPL</td>\n",
       "    </tr>\n",
       "    <tr>\n",
       "      <th>2020-11-25 15:56:00</th>\n",
       "      <td>116.070000</td>\n",
       "      <td>116.074997</td>\n",
       "      <td>115.989998</td>\n",
       "      <td>116.019997</td>\n",
       "      <td>377861</td>\n",
       "      <td>0</td>\n",
       "      <td>0</td>\n",
       "      <td>AAPL</td>\n",
       "    </tr>\n",
       "    <tr>\n",
       "      <th>2020-11-25 15:57:00</th>\n",
       "      <td>116.025597</td>\n",
       "      <td>116.029999</td>\n",
       "      <td>115.949997</td>\n",
       "      <td>115.989998</td>\n",
       "      <td>315956</td>\n",
       "      <td>0</td>\n",
       "      <td>0</td>\n",
       "      <td>AAPL</td>\n",
       "    </tr>\n",
       "    <tr>\n",
       "      <th>2020-11-25 15:58:00</th>\n",
       "      <td>115.985001</td>\n",
       "      <td>116.040001</td>\n",
       "      <td>115.949997</td>\n",
       "      <td>116.010399</td>\n",
       "      <td>503345</td>\n",
       "      <td>0</td>\n",
       "      <td>0</td>\n",
       "      <td>AAPL</td>\n",
       "    </tr>\n",
       "    <tr>\n",
       "      <th>2020-11-25 15:59:00</th>\n",
       "      <td>116.010002</td>\n",
       "      <td>116.099998</td>\n",
       "      <td>115.959999</td>\n",
       "      <td>116.029999</td>\n",
       "      <td>777657</td>\n",
       "      <td>0</td>\n",
       "      <td>0</td>\n",
       "      <td>AAPL</td>\n",
       "    </tr>\n",
       "  </tbody>\n",
       "</table>\n",
       "<p>387 rows × 8 columns</p>\n",
       "</div>"
      ],
      "text/plain": [
       "                           Open        High         Low       Close   Volume  \\\n",
       "Datetime                                                                       \n",
       "2020-11-25 09:30:00  115.550003  115.849998  115.500000  115.714798  3159169   \n",
       "2020-11-25 09:31:00  115.720001  115.750000  115.320000  115.349998   568034   \n",
       "2020-11-25 09:32:00  115.349998  115.449997  115.169998  115.430000   497336   \n",
       "2020-11-25 09:33:00  115.419998  115.730003  115.419998  115.550003   529254   \n",
       "2020-11-25 09:34:00  115.550003  115.779999  115.349998  115.739998   510870   \n",
       "...                         ...         ...         ...         ...      ...   \n",
       "2020-11-25 15:55:00  116.010002  116.089996  115.959999  116.070000   401831   \n",
       "2020-11-25 15:56:00  116.070000  116.074997  115.989998  116.019997   377861   \n",
       "2020-11-25 15:57:00  116.025597  116.029999  115.949997  115.989998   315956   \n",
       "2020-11-25 15:58:00  115.985001  116.040001  115.949997  116.010399   503345   \n",
       "2020-11-25 15:59:00  116.010002  116.099998  115.959999  116.029999   777657   \n",
       "\n",
       "                     Dividends  Stock Splits ticker  \n",
       "Datetime                                             \n",
       "2020-11-25 09:30:00          0             0   AAPL  \n",
       "2020-11-25 09:31:00          0             0   AAPL  \n",
       "2020-11-25 09:32:00          0             0   AAPL  \n",
       "2020-11-25 09:33:00          0             0   AAPL  \n",
       "2020-11-25 09:34:00          0             0   AAPL  \n",
       "...                        ...           ...    ...  \n",
       "2020-11-25 15:55:00          0             0   AAPL  \n",
       "2020-11-25 15:56:00          0             0   AAPL  \n",
       "2020-11-25 15:57:00          0             0   AAPL  \n",
       "2020-11-25 15:58:00          0             0   AAPL  \n",
       "2020-11-25 15:59:00          0             0   AAPL  \n",
       "\n",
       "[387 rows x 8 columns]"
      ]
     },
     "execution_count": 114,
     "metadata": {},
     "output_type": "execute_result"
    }
   ],
   "source": [
    "test"
   ]
  },
  {
   "cell_type": "code",
   "execution_count": null,
   "metadata": {},
   "outputs": [],
   "source": []
  },
  {
   "cell_type": "code",
   "execution_count": null,
   "metadata": {},
   "outputs": [],
   "source": []
  },
  {
   "cell_type": "code",
   "execution_count": null,
   "metadata": {},
   "outputs": [],
   "source": []
  },
  {
   "cell_type": "code",
   "execution_count": null,
   "metadata": {},
   "outputs": [],
   "source": []
  },
  {
   "cell_type": "code",
   "execution_count": null,
   "metadata": {},
   "outputs": [],
   "source": []
  },
  {
   "cell_type": "code",
   "execution_count": null,
   "metadata": {},
   "outputs": [],
   "source": []
  },
  {
   "cell_type": "code",
   "execution_count": null,
   "metadata": {},
   "outputs": [],
   "source": []
  },
  {
   "cell_type": "code",
   "execution_count": 14,
   "metadata": {},
   "outputs": [
    {
     "data": {
      "text/plain": [
       "['NVS.csv',\n",
       " 'SNP.csv',\n",
       " 'RDS.csv',\n",
       " 'BP.csv',\n",
       " 'MRK.csv',\n",
       " 'AMZN.csv',\n",
       " 'MSFT.csv',\n",
       " 'ZOM.csv',\n",
       " 'HDB.csv',\n",
       " 'AZN.csv',\n",
       " 'FRC.csv',\n",
       " 'XOM.csv',\n",
       " 'WFC.csv',\n",
       " 'GS.csv',\n",
       " 'PTR.csv',\n",
       " 'JPM.csv',\n",
       " 'TSLA.csv',\n",
       " 'PSE.csv',\n",
       " 'AAPL.csv',\n",
       " 'JNJ.csv']"
      ]
     },
     "execution_count": 14,
     "metadata": {},
     "output_type": "execute_result"
    }
   ],
   "source": [
    "files = [f for f in os.listdir('.') if os.path.isfile(f)]\n"
   ]
  },
  {
   "cell_type": "code",
   "execution_count": 15,
   "metadata": {},
   "outputs": [
    {
     "name": "stdout",
     "output_type": "stream",
     "text": [
      "2020-11-23 2020-11-27\n"
     ]
    }
   ],
   "source": [
    "df = pd.read_csv('AAPL.csv', index_col =0, header = 0)\n",
    "df.index = pd.to_datetime(df.index)\n",
    "#check latest date and pull new data\n",
    "latest_date = df.index[-1].date()\n",
    "start_date = df.index[0].date()\n",
    "print(start_date, latest_date)"
   ]
  },
  {
   "cell_type": "code",
   "execution_count": 17,
   "metadata": {},
   "outputs": [
    {
     "name": "stdout",
     "output_type": "stream",
     "text": [
      "2020-11-23\n",
      "2020-11-24\n",
      "2020-11-25\n",
      "2020-11-26\n",
      "2020-11-27\n"
     ]
    }
   ],
   "source": [
    "def daterange(d1,d2):\n",
    "        return (d1 + timedelta(days = i) for i in range ((d2-d1).days +1))\n",
    "\n",
    "for day in daterange(start_date, latest_date):\n",
    "    print(day)"
   ]
  },
  {
   "cell_type": "code",
   "execution_count": 41,
   "metadata": {},
   "outputs": [
    {
     "data": {
      "text/plain": [
       "4"
      ]
     },
     "execution_count": 41,
     "metadata": {},
     "output_type": "execute_result"
    }
   ],
   "source": [
    "x = (latest_date - start_date).days\n",
    "x"
   ]
  },
  {
   "cell_type": "code",
   "execution_count": null,
   "metadata": {},
   "outputs": [],
   "source": []
  },
  {
   "cell_type": "code",
   "execution_count": 25,
   "metadata": {},
   "outputs": [],
   "source": [
    "\n",
    "def daterange(startdate, enddate, steps): \n",
    "    \"\"\"Yields dates in increments of steps days from startdate to enddate\"\"\"\n",
    "    numdays = (enddate-startdate).days \n",
    "    for x in range (0, numdays, steps):\n",
    "        yield startdate + datetime.timedelta(days = x)"
   ]
  },
  {
   "cell_type": "code",
   "execution_count": null,
   "metadata": {},
   "outputs": [],
   "source": []
  },
  {
   "cell_type": "code",
   "execution_count": 26,
   "metadata": {},
   "outputs": [
    {
     "name": "stdout",
     "output_type": "stream",
     "text": [
      "2020-11-23\n",
      "2020-11-25\n"
     ]
    }
   ],
   "source": [
    "\n",
    "for x in daterange(start_date, latest_date, 2):\n",
    "    print(x)"
   ]
  },
  {
   "cell_type": "code",
   "execution_count": 94,
   "metadata": {},
   "outputs": [],
   "source": [
    "csv = '{}.csv'.format('AAPL')"
   ]
  },
  {
   "cell_type": "code",
   "execution_count": 95,
   "metadata": {},
   "outputs": [
    {
     "data": {
      "text/plain": [
       "'AAPL.csv'"
      ]
     },
     "execution_count": 95,
     "metadata": {},
     "output_type": "execute_result"
    }
   ],
   "source": [
    "csv"
   ]
  },
  {
   "cell_type": "code",
   "execution_count": 97,
   "metadata": {},
   "outputs": [
    {
     "ename": "TypeError",
     "evalue": "Invalid comparison between dtype=datetime64[ns] and date",
     "output_type": "error",
     "traceback": [
      "\u001b[0;31m---------------------------------------------------------------------------\u001b[0m",
      "\u001b[0;31mTypeError\u001b[0m                                 Traceback (most recent call last)",
      "\u001b[0;32m<ipython-input-97-8736df2f1877>\u001b[0m in \u001b[0;36m<module>\u001b[0;34m()\u001b[0m\n\u001b[0;32m----> 1\u001b[0;31m \u001b[0mmask\u001b[0m \u001b[0;34m=\u001b[0m \u001b[0mdf\u001b[0m\u001b[0;34m.\u001b[0m\u001b[0mindex\u001b[0m \u001b[0;34m>\u001b[0m \u001b[0mstart_date\u001b[0m\u001b[0;34m\u001b[0m\u001b[0m\n\u001b[0m",
      "\u001b[0;32m~/anaconda3/lib/python3.6/site-packages/pandas/core/indexes/extension.py\u001b[0m in \u001b[0;36mwrapper\u001b[0;34m(self, other)\u001b[0m\n\u001b[1;32m    127\u001b[0m \u001b[0;34m\u001b[0m\u001b[0m\n\u001b[1;32m    128\u001b[0m         \u001b[0mop\u001b[0m \u001b[0;34m=\u001b[0m \u001b[0mgetattr\u001b[0m\u001b[0;34m(\u001b[0m\u001b[0mself\u001b[0m\u001b[0;34m.\u001b[0m\u001b[0m_data\u001b[0m\u001b[0;34m,\u001b[0m \u001b[0mopname\u001b[0m\u001b[0;34m)\u001b[0m\u001b[0;34m\u001b[0m\u001b[0m\n\u001b[0;32m--> 129\u001b[0;31m         \u001b[0;32mreturn\u001b[0m \u001b[0mop\u001b[0m\u001b[0;34m(\u001b[0m\u001b[0mother\u001b[0m\u001b[0;34m)\u001b[0m\u001b[0;34m\u001b[0m\u001b[0m\n\u001b[0m\u001b[1;32m    130\u001b[0m \u001b[0;34m\u001b[0m\u001b[0m\n\u001b[1;32m    131\u001b[0m     \u001b[0mwrapper\u001b[0m\u001b[0;34m.\u001b[0m\u001b[0m__name__\u001b[0m \u001b[0;34m=\u001b[0m \u001b[0mopname\u001b[0m\u001b[0;34m\u001b[0m\u001b[0m\n",
      "\u001b[0;32m~/anaconda3/lib/python3.6/site-packages/pandas/core/ops/common.py\u001b[0m in \u001b[0;36mnew_method\u001b[0;34m(self, other)\u001b[0m\n\u001b[1;32m     62\u001b[0m         \u001b[0mother\u001b[0m \u001b[0;34m=\u001b[0m \u001b[0mitem_from_zerodim\u001b[0m\u001b[0;34m(\u001b[0m\u001b[0mother\u001b[0m\u001b[0;34m)\u001b[0m\u001b[0;34m\u001b[0m\u001b[0m\n\u001b[1;32m     63\u001b[0m \u001b[0;34m\u001b[0m\u001b[0m\n\u001b[0;32m---> 64\u001b[0;31m         \u001b[0;32mreturn\u001b[0m \u001b[0mmethod\u001b[0m\u001b[0;34m(\u001b[0m\u001b[0mself\u001b[0m\u001b[0;34m,\u001b[0m \u001b[0mother\u001b[0m\u001b[0;34m)\u001b[0m\u001b[0;34m\u001b[0m\u001b[0m\n\u001b[0m\u001b[1;32m     65\u001b[0m \u001b[0;34m\u001b[0m\u001b[0m\n\u001b[1;32m     66\u001b[0m     \u001b[0;32mreturn\u001b[0m \u001b[0mnew_method\u001b[0m\u001b[0;34m\u001b[0m\u001b[0m\n",
      "\u001b[0;32m~/anaconda3/lib/python3.6/site-packages/pandas/core/arrays/datetimelike.py\u001b[0m in \u001b[0;36mwrapper\u001b[0;34m(self, other)\u001b[0m\n\u001b[1;32m     81\u001b[0m \u001b[0;34m\u001b[0m\u001b[0m\n\u001b[1;32m     82\u001b[0m         \u001b[0;32melif\u001b[0m \u001b[0;32mnot\u001b[0m \u001b[0mis_list_like\u001b[0m\u001b[0;34m(\u001b[0m\u001b[0mother\u001b[0m\u001b[0;34m)\u001b[0m\u001b[0;34m:\u001b[0m\u001b[0;34m\u001b[0m\u001b[0m\n\u001b[0;32m---> 83\u001b[0;31m             \u001b[0;32mreturn\u001b[0m \u001b[0minvalid_comparison\u001b[0m\u001b[0;34m(\u001b[0m\u001b[0mself\u001b[0m\u001b[0;34m,\u001b[0m \u001b[0mother\u001b[0m\u001b[0;34m,\u001b[0m \u001b[0mop\u001b[0m\u001b[0;34m)\u001b[0m\u001b[0;34m\u001b[0m\u001b[0m\n\u001b[0m\u001b[1;32m     84\u001b[0m \u001b[0;34m\u001b[0m\u001b[0m\n\u001b[1;32m     85\u001b[0m         \u001b[0;32melif\u001b[0m \u001b[0mlen\u001b[0m\u001b[0;34m(\u001b[0m\u001b[0mother\u001b[0m\u001b[0;34m)\u001b[0m \u001b[0;34m!=\u001b[0m \u001b[0mlen\u001b[0m\u001b[0;34m(\u001b[0m\u001b[0mself\u001b[0m\u001b[0;34m)\u001b[0m\u001b[0;34m:\u001b[0m\u001b[0;34m\u001b[0m\u001b[0m\n",
      "\u001b[0;32m~/anaconda3/lib/python3.6/site-packages/pandas/core/ops/invalid.py\u001b[0m in \u001b[0;36minvalid_comparison\u001b[0;34m(left, right, op)\u001b[0m\n\u001b[1;32m     32\u001b[0m     \u001b[0;32melse\u001b[0m\u001b[0;34m:\u001b[0m\u001b[0;34m\u001b[0m\u001b[0m\n\u001b[1;32m     33\u001b[0m         \u001b[0mtyp\u001b[0m \u001b[0;34m=\u001b[0m \u001b[0mtype\u001b[0m\u001b[0;34m(\u001b[0m\u001b[0mright\u001b[0m\u001b[0;34m)\u001b[0m\u001b[0;34m.\u001b[0m\u001b[0m__name__\u001b[0m\u001b[0;34m\u001b[0m\u001b[0m\n\u001b[0;32m---> 34\u001b[0;31m         \u001b[0;32mraise\u001b[0m \u001b[0mTypeError\u001b[0m\u001b[0;34m(\u001b[0m\u001b[0;34mf\"Invalid comparison between dtype={left.dtype} and {typ}\"\u001b[0m\u001b[0;34m)\u001b[0m\u001b[0;34m\u001b[0m\u001b[0m\n\u001b[0m\u001b[1;32m     35\u001b[0m     \u001b[0;32mreturn\u001b[0m \u001b[0mres_values\u001b[0m\u001b[0;34m\u001b[0m\u001b[0m\n\u001b[1;32m     36\u001b[0m \u001b[0;34m\u001b[0m\u001b[0m\n",
      "\u001b[0;31mTypeError\u001b[0m: Invalid comparison between dtype=datetime64[ns] and date"
     ]
    }
   ],
   "source": [
    "mask = df.index > start_date"
   ]
  },
  {
   "cell_type": "code",
   "execution_count": null,
   "metadata": {},
   "outputs": [],
   "source": []
  },
  {
   "cell_type": "code",
   "execution_count": null,
   "metadata": {},
   "outputs": [],
   "source": [
    "mask = (df['date'] > start_date) & (df['date'] <= end_date)"
   ]
  },
  {
   "cell_type": "code",
   "execution_count": null,
   "metadata": {},
   "outputs": [],
   "source": []
  },
  {
   "cell_type": "code",
   "execution_count": null,
   "metadata": {},
   "outputs": [],
   "source": []
  },
  {
   "cell_type": "code",
   "execution_count": null,
   "metadata": {},
   "outputs": [],
   "source": []
  },
  {
   "cell_type": "code",
   "execution_count": null,
   "metadata": {},
   "outputs": [],
   "source": []
  },
  {
   "cell_type": "code",
   "execution_count": null,
   "metadata": {},
   "outputs": [],
   "source": []
  },
  {
   "cell_type": "code",
   "execution_count": null,
   "metadata": {},
   "outputs": [],
   "source": []
  },
  {
   "cell_type": "code",
   "execution_count": null,
   "metadata": {},
   "outputs": [],
   "source": []
  },
  {
   "cell_type": "code",
   "execution_count": null,
   "metadata": {},
   "outputs": [],
   "source": []
  },
  {
   "cell_type": "code",
   "execution_count": null,
   "metadata": {},
   "outputs": [],
   "source": []
  },
  {
   "cell_type": "code",
   "execution_count": null,
   "metadata": {},
   "outputs": [],
   "source": []
  },
  {
   "cell_type": "code",
   "execution_count": null,
   "metadata": {},
   "outputs": [],
   "source": []
  },
  {
   "cell_type": "code",
   "execution_count": null,
   "metadata": {},
   "outputs": [],
   "source": []
  },
  {
   "cell_type": "code",
   "execution_count": null,
   "metadata": {},
   "outputs": [],
   "source": []
  },
  {
   "cell_type": "code",
   "execution_count": null,
   "metadata": {},
   "outputs": [],
   "source": []
  },
  {
   "cell_type": "code",
   "execution_count": null,
   "metadata": {},
   "outputs": [],
   "source": []
  },
  {
   "cell_type": "code",
   "execution_count": null,
   "metadata": {},
   "outputs": [],
   "source": []
  },
  {
   "cell_type": "code",
   "execution_count": null,
   "metadata": {},
   "outputs": [],
   "source": []
  },
  {
   "cell_type": "code",
   "execution_count": null,
   "metadata": {},
   "outputs": [],
   "source": []
  },
  {
   "cell_type": "code",
   "execution_count": null,
   "metadata": {},
   "outputs": [],
   "source": []
  },
  {
   "cell_type": "code",
   "execution_count": null,
   "metadata": {},
   "outputs": [],
   "source": []
  },
  {
   "cell_type": "code",
   "execution_count": null,
   "metadata": {},
   "outputs": [],
   "source": []
  },
  {
   "cell_type": "code",
   "execution_count": null,
   "metadata": {},
   "outputs": [],
   "source": []
  },
  {
   "cell_type": "code",
   "execution_count": null,
   "metadata": {},
   "outputs": [],
   "source": []
  },
  {
   "cell_type": "code",
   "execution_count": null,
   "metadata": {},
   "outputs": [],
   "source": []
  },
  {
   "cell_type": "code",
   "execution_count": null,
   "metadata": {},
   "outputs": [],
   "source": []
  },
  {
   "cell_type": "code",
   "execution_count": null,
   "metadata": {},
   "outputs": [],
   "source": []
  },
  {
   "cell_type": "code",
   "execution_count": null,
   "metadata": {},
   "outputs": [],
   "source": []
  },
  {
   "cell_type": "code",
   "execution_count": null,
   "metadata": {},
   "outputs": [],
   "source": []
  },
  {
   "cell_type": "code",
   "execution_count": null,
   "metadata": {},
   "outputs": [],
   "source": []
  },
  {
   "cell_type": "code",
   "execution_count": null,
   "metadata": {},
   "outputs": [],
   "source": []
  },
  {
   "cell_type": "code",
   "execution_count": null,
   "metadata": {},
   "outputs": [],
   "source": []
  },
  {
   "cell_type": "code",
   "execution_count": null,
   "metadata": {},
   "outputs": [],
   "source": []
  },
  {
   "cell_type": "code",
   "execution_count": null,
   "metadata": {},
   "outputs": [],
   "source": []
  },
  {
   "cell_type": "code",
   "execution_count": null,
   "metadata": {},
   "outputs": [],
   "source": []
  },
  {
   "cell_type": "code",
   "execution_count": null,
   "metadata": {},
   "outputs": [],
   "source": []
  },
  {
   "cell_type": "code",
   "execution_count": null,
   "metadata": {},
   "outputs": [],
   "source": []
  },
  {
   "cell_type": "code",
   "execution_count": null,
   "metadata": {},
   "outputs": [],
   "source": []
  },
  {
   "cell_type": "code",
   "execution_count": null,
   "metadata": {},
   "outputs": [],
   "source": []
  },
  {
   "cell_type": "raw",
   "metadata": {},
   "source": [
    "ticker_obj = yf.Ticker('MSFT')\n",
    "df = ticker_obj.history(start = '2020-11-01', end = '2020-11-03', interval = '1m')"
   ]
  },
  {
   "cell_type": "raw",
   "metadata": {},
   "source": [
    "df.loc['Volume']"
   ]
  },
  {
   "cell_type": "code",
   "execution_count": 5,
   "metadata": {},
   "outputs": [
    {
     "name": "stderr",
     "output_type": "stream",
     "text": [
      "Importing plotly failed. Interactive plots will not work.\n"
     ]
    }
   ],
   "source": [
    "from fbprophet import Prophet"
   ]
  },
  {
   "cell_type": "code",
   "execution_count": 6,
   "metadata": {},
   "outputs": [
    {
     "name": "stdout",
     "output_type": "stream",
     "text": [
      "start:2020-10-13, end 2020-10-14\n",
      "temp df shape: (388, 8)\n",
      "start:2020-10-14, end 2020-10-15\n",
      "temp df shape: (390, 8)\n",
      "start:2020-10-15, end 2020-10-16\n",
      "temp df shape: (390, 8)\n",
      "start:2020-10-16, end 2020-10-17\n",
      "temp df shape: (388, 8)\n",
      "start:2020-10-17, end 2020-10-18\n",
      "- TSLA: No data found for this date range, symbol may be delisted\n",
      "temp df shape: (0, 7)\n",
      "start:2020-10-18, end 2020-10-19\n",
      "- TSLA: No data found for this date range, symbol may be delisted\n",
      "temp df shape: (0, 7)\n",
      "start:2020-10-19, end 2020-10-20\n",
      "temp df shape: (389, 8)\n",
      "start:2020-10-20, end 2020-10-21\n",
      "temp df shape: (389, 8)\n",
      "start:2020-10-21, end 2020-10-22\n",
      "temp df shape: (389, 8)\n",
      "start:2020-10-22, end 2020-10-23\n",
      "temp df shape: (390, 8)\n",
      "start:2020-10-23, end 2020-10-24\n",
      "temp df shape: (390, 8)\n",
      "start:2020-10-24, end 2020-10-25\n",
      "- TSLA: No data found for this date range, symbol may be delisted\n",
      "temp df shape: (0, 7)\n",
      "start:2020-10-25, end 2020-10-26\n",
      "- TSLA: No data found for this date range, symbol may be delisted\n",
      "temp df shape: (0, 7)\n",
      "start:2020-10-26, end 2020-10-27\n",
      "temp df shape: (388, 8)\n",
      "start:2020-10-27, end 2020-10-28\n",
      "temp df shape: (389, 8)\n",
      "start:2020-10-28, end 2020-10-29\n",
      "temp df shape: (387, 8)\n",
      "start:2020-10-29, end 2020-10-30\n",
      "temp df shape: (390, 8)\n",
      "start:2020-10-30, end 2020-10-31\n",
      "temp df shape: (389, 8)\n",
      "start:2020-10-31, end 2020-11-01\n",
      "- TSLA: No data found for this date range, symbol may be delisted\n",
      "temp df shape: (0, 7)\n",
      "start:2020-11-01, end 2020-11-02\n",
      "- TSLA: No data found for this date range, symbol may be delisted\n",
      "temp df shape: (0, 7)\n",
      "start:2020-11-02, end 2020-11-03\n",
      "temp df shape: (390, 8)\n",
      "start:2020-11-03, end 2020-11-04\n",
      "temp df shape: (390, 8)\n",
      "start:2020-11-04, end 2020-11-05\n",
      "temp df shape: (390, 8)\n",
      "start:2020-11-05, end 2020-11-06\n",
      "temp df shape: (390, 8)\n",
      "start:2020-11-06, end 2020-11-07\n",
      "temp df shape: (390, 8)\n",
      "start:2020-11-07, end 2020-11-08\n",
      "- TSLA: No data found for this date range, symbol may be delisted\n",
      "temp df shape: (0, 7)\n",
      "start:2020-11-08, end 2020-11-09\n",
      "- TSLA: No data found for this date range, symbol may be delisted\n",
      "temp df shape: (0, 7)\n",
      "start:2020-11-09, end 2020-11-10\n",
      "temp df shape: (387, 8)\n",
      "start:2020-11-10, end 2020-11-11\n",
      "temp df shape: (389, 8)\n",
      "start:2020-11-11, end 2020-11-12\n",
      "- TSLA: No data found for this date range, symbol may be delisted\n",
      "temp df shape: (0, 7)\n",
      "master df shape: (8172, 9)\n"
     ]
    },
    {
     "data": {
      "text/html": [
       "<div>\n",
       "<style scoped>\n",
       "    .dataframe tbody tr th:only-of-type {\n",
       "        vertical-align: middle;\n",
       "    }\n",
       "\n",
       "    .dataframe tbody tr th {\n",
       "        vertical-align: top;\n",
       "    }\n",
       "\n",
       "    .dataframe thead th {\n",
       "        text-align: right;\n",
       "    }\n",
       "</style>\n",
       "<table border=\"1\" class=\"dataframe\">\n",
       "  <thead>\n",
       "    <tr style=\"text-align: right;\">\n",
       "      <th></th>\n",
       "      <th>Open</th>\n",
       "      <th>High</th>\n",
       "      <th>Low</th>\n",
       "      <th>Close</th>\n",
       "      <th>Volume</th>\n",
       "      <th>Dividends</th>\n",
       "      <th>Stock Splits</th>\n",
       "      <th>ticker</th>\n",
       "      <th>Adj Close</th>\n",
       "    </tr>\n",
       "  </thead>\n",
       "  <tbody>\n",
       "    <tr>\n",
       "      <th>2020-10-13 09:30:00-04:00</th>\n",
       "      <td>442.140015</td>\n",
       "      <td>442.140015</td>\n",
       "      <td>441.850006</td>\n",
       "      <td>441.875000</td>\n",
       "      <td>1151825.0</td>\n",
       "      <td>0.0</td>\n",
       "      <td>0.0</td>\n",
       "      <td>TSLA</td>\n",
       "      <td>NaN</td>\n",
       "    </tr>\n",
       "    <tr>\n",
       "      <th>2020-10-13 09:31:00-04:00</th>\n",
       "      <td>441.750000</td>\n",
       "      <td>442.980011</td>\n",
       "      <td>441.299988</td>\n",
       "      <td>442.279999</td>\n",
       "      <td>198591.0</td>\n",
       "      <td>0.0</td>\n",
       "      <td>0.0</td>\n",
       "      <td>TSLA</td>\n",
       "      <td>NaN</td>\n",
       "    </tr>\n",
       "    <tr>\n",
       "      <th>2020-10-13 09:32:00-04:00</th>\n",
       "      <td>442.268707</td>\n",
       "      <td>442.281586</td>\n",
       "      <td>441.454987</td>\n",
       "      <td>441.850006</td>\n",
       "      <td>117819.0</td>\n",
       "      <td>0.0</td>\n",
       "      <td>0.0</td>\n",
       "      <td>TSLA</td>\n",
       "      <td>NaN</td>\n",
       "    </tr>\n",
       "    <tr>\n",
       "      <th>2020-10-13 09:33:00-04:00</th>\n",
       "      <td>442.010010</td>\n",
       "      <td>443.000000</td>\n",
       "      <td>441.500000</td>\n",
       "      <td>442.270111</td>\n",
       "      <td>148173.0</td>\n",
       "      <td>0.0</td>\n",
       "      <td>0.0</td>\n",
       "      <td>TSLA</td>\n",
       "      <td>NaN</td>\n",
       "    </tr>\n",
       "    <tr>\n",
       "      <th>2020-10-13 09:34:00-04:00</th>\n",
       "      <td>442.489990</td>\n",
       "      <td>442.739990</td>\n",
       "      <td>441.010010</td>\n",
       "      <td>442.019989</td>\n",
       "      <td>164946.0</td>\n",
       "      <td>0.0</td>\n",
       "      <td>0.0</td>\n",
       "      <td>TSLA</td>\n",
       "      <td>NaN</td>\n",
       "    </tr>\n",
       "  </tbody>\n",
       "</table>\n",
       "</div>"
      ],
      "text/plain": [
       "                                 Open        High         Low       Close  \\\n",
       "2020-10-13 09:30:00-04:00  442.140015  442.140015  441.850006  441.875000   \n",
       "2020-10-13 09:31:00-04:00  441.750000  442.980011  441.299988  442.279999   \n",
       "2020-10-13 09:32:00-04:00  442.268707  442.281586  441.454987  441.850006   \n",
       "2020-10-13 09:33:00-04:00  442.010010  443.000000  441.500000  442.270111   \n",
       "2020-10-13 09:34:00-04:00  442.489990  442.739990  441.010010  442.019989   \n",
       "\n",
       "                              Volume  Dividends  Stock Splits ticker  \\\n",
       "2020-10-13 09:30:00-04:00  1151825.0        0.0           0.0   TSLA   \n",
       "2020-10-13 09:31:00-04:00   198591.0        0.0           0.0   TSLA   \n",
       "2020-10-13 09:32:00-04:00   117819.0        0.0           0.0   TSLA   \n",
       "2020-10-13 09:33:00-04:00   148173.0        0.0           0.0   TSLA   \n",
       "2020-10-13 09:34:00-04:00   164946.0        0.0           0.0   TSLA   \n",
       "\n",
       "                           Adj Close  \n",
       "2020-10-13 09:30:00-04:00        NaN  \n",
       "2020-10-13 09:31:00-04:00        NaN  \n",
       "2020-10-13 09:32:00-04:00        NaN  \n",
       "2020-10-13 09:33:00-04:00        NaN  \n",
       "2020-10-13 09:34:00-04:00        NaN  "
      ]
     },
     "execution_count": 6,
     "metadata": {},
     "output_type": "execute_result"
    }
   ],
   "source": [
    "ticker = ['TSLA']\n",
    "num_days = 29\n",
    "\n",
    "df = get_stock_data(ticker, num_days)\n",
    "df.head()"
   ]
  },
  {
   "cell_type": "code",
   "execution_count": 24,
   "metadata": {},
   "outputs": [
    {
     "data": {
      "text/plain": [
       "Timestamp('2020-11-25 15:59:00-0500', tz='America/New_York')"
      ]
     },
     "execution_count": 24,
     "metadata": {},
     "output_type": "execute_result"
    }
   ],
   "source": [
    "\n"
   ]
  },
  {
   "cell_type": "code",
   "execution_count": null,
   "metadata": {},
   "outputs": [],
   "source": []
  },
  {
   "cell_type": "code",
   "execution_count": 11,
   "metadata": {},
   "outputs": [
    {
     "data": {
      "text/plain": [
       "<matplotlib.axes._subplots.AxesSubplot at 0x1196d8128>"
      ]
     },
     "execution_count": 11,
     "metadata": {},
     "output_type": "execute_result"
    },
    {
     "data": {
      "image/png": "[encoded data removed]",
      "text/plain": [
       "<Figure size 432x288 with 1 Axes>"
      ]
     },
     "metadata": {},
     "output_type": "display_data"
    }
   ],
   "source": [
    "import matplotlib.pyplot as plt\n",
    "\n",
    "df['Volume'].plot()"
   ]
  },
  {
   "cell_type": "code",
   "execution_count": 7,
   "metadata": {},
   "outputs": [],
   "source": [
    "#initialize Prophet \n",
    "m = Prophet()"
   ]
  },
  {
   "cell_type": "code",
   "execution_count": 23,
   "metadata": {},
   "outputs": [],
   "source": [
    "df = df[['Volume']].copy()\n",
    "tsla_df = df.tz_localize(None)\n",
    "tsla_df['date'] = tsla_df.index\n",
    "tsla_df.reset_index(drop = True, inplace = True)\n",
    "tsla_df.rename(columns = {'Volume':'y', 'date':'ds'}, inplace = True)"
   ]
  },
  {
   "cell_type": "code",
   "execution_count": 26,
   "metadata": {},
   "outputs": [
    {
     "ename": "Exception",
     "evalue": "Prophet object can only be fit once. Instantiate a new object.",
     "output_type": "error",
     "traceback": [
      "\u001b[0;31m---------------------------------------------------------------------------\u001b[0m",
      "\u001b[0;31mException\u001b[0m                                 Traceback (most recent call last)",
      "\u001b[0;32m<ipython-input-26-4db52759f73e>\u001b[0m in \u001b[0;36m<module>\u001b[0;34m()\u001b[0m\n\u001b[0;32m----> 1\u001b[0;31m \u001b[0mm\u001b[0m\u001b[0;34m.\u001b[0m\u001b[0mfit\u001b[0m\u001b[0;34m(\u001b[0m\u001b[0mtsla_df\u001b[0m\u001b[0;34m)\u001b[0m\u001b[0;34m\u001b[0m\u001b[0m\n\u001b[0m\u001b[1;32m      2\u001b[0m \u001b[0mfuture\u001b[0m \u001b[0;34m=\u001b[0m \u001b[0mm\u001b[0m\u001b[0;34m.\u001b[0m\u001b[0mmake_future_dataframe\u001b[0m\u001b[0;34m(\u001b[0m\u001b[0mperiods\u001b[0m\u001b[0;34m=\u001b[0m\u001b[0;36m300\u001b[0m\u001b[0;34m,\u001b[0m \u001b[0mfreq\u001b[0m\u001b[0;34m=\u001b[0m\u001b[0;34m'min'\u001b[0m\u001b[0;34m,\u001b[0m\u001b[0myearly_seasonality\u001b[0m\u001b[0;34m=\u001b[0m\u001b[0;32mTrue\u001b[0m\u001b[0;34m)\u001b[0m\u001b[0;34m\u001b[0m\u001b[0m\n",
      "\u001b[0;32m~/anaconda3/lib/python3.6/site-packages/fbprophet/forecaster.py\u001b[0m in \u001b[0;36mfit\u001b[0;34m(self, df, **kwargs)\u001b[0m\n\u001b[1;32m   1076\u001b[0m         \"\"\"\n\u001b[1;32m   1077\u001b[0m         \u001b[0;32mif\u001b[0m \u001b[0mself\u001b[0m\u001b[0;34m.\u001b[0m\u001b[0mhistory\u001b[0m \u001b[0;32mis\u001b[0m \u001b[0;32mnot\u001b[0m \u001b[0;32mNone\u001b[0m\u001b[0;34m:\u001b[0m\u001b[0;34m\u001b[0m\u001b[0m\n\u001b[0;32m-> 1078\u001b[0;31m             raise Exception('Prophet object can only be fit once. '\n\u001b[0m\u001b[1;32m   1079\u001b[0m                             'Instantiate a new object.')\n\u001b[1;32m   1080\u001b[0m         \u001b[0;32mif\u001b[0m \u001b[0;34m(\u001b[0m\u001b[0;34m'ds'\u001b[0m \u001b[0;32mnot\u001b[0m \u001b[0;32min\u001b[0m \u001b[0mdf\u001b[0m\u001b[0;34m)\u001b[0m \u001b[0;32mor\u001b[0m \u001b[0;34m(\u001b[0m\u001b[0;34m'y'\u001b[0m \u001b[0;32mnot\u001b[0m \u001b[0;32min\u001b[0m \u001b[0mdf\u001b[0m\u001b[0;34m)\u001b[0m\u001b[0;34m:\u001b[0m\u001b[0;34m\u001b[0m\u001b[0m\n",
      "\u001b[0;31mException\u001b[0m: Prophet object can only be fit once. Instantiate a new object."
     ]
    }
   ],
   "source": [
    "m.fit(tsla_df)\n",
    "future = m.make_future_dataframe(periods=300, freq='min')"
   ]
  },
  {
   "cell_type": "code",
   "execution_count": 27,
   "metadata": {},
   "outputs": [
    {
     "data": {
      "image/png": "[encoded data removed]",
      "text/plain": [
       "<Figure size 720x432 with 1 Axes>"
      ]
     },
     "metadata": {},
     "output_type": "display_data"
    }
   ],
   "source": [
    "fcst = m.predict(future)\n",
    "fig = m.plot(fcst)"
   ]
  },
  {
   "cell_type": "code",
   "execution_count": 28,
   "metadata": {},
   "outputs": [
    {
     "data": {
      "image/png": "[encoded data removed]",
      "text/plain": [
       "<Figure size 648x648 with 3 Axes>"
      ]
     },
     "metadata": {},
     "output_type": "display_data"
    }
   ],
   "source": [
    "fig = m.plot_components(fcst)\n"
   ]
  },
  {
   "cell_type": "code",
   "execution_count": null,
   "metadata": {},
   "outputs": [],
   "source": []
  },
  {
   "cell_type": "code",
   "execution_count": null,
   "metadata": {},
   "outputs": [],
   "source": []
  },
  {
   "cell_type": "code",
   "execution_count": null,
   "metadata": {},
   "outputs": [],
   "source": []
  },
  {
   "cell_type": "code",
   "execution_count": null,
   "metadata": {},
   "outputs": [],
   "source": []
  },
  {
   "cell_type": "code",
   "execution_count": null,
   "metadata": {},
   "outputs": [],
   "source": []
  },
  {
   "cell_type": "code",
   "execution_count": null,
   "metadata": {},
   "outputs": [],
   "source": []
  },
  {
   "cell_type": "code",
   "execution_count": null,
   "metadata": {},
   "outputs": [],
   "source": []
  },
  {
   "cell_type": "code",
   "execution_count": null,
   "metadata": {},
   "outputs": [],
   "source": []
  },
  {
   "cell_type": "code",
   "execution_count": null,
   "metadata": {},
   "outputs": [],
   "source": []
  },
  {
   "cell_type": "code",
   "execution_count": null,
   "metadata": {},
   "outputs": [],
   "source": []
  },
  {
   "cell_type": "code",
   "execution_count": null,
   "metadata": {},
   "outputs": [],
   "source": []
  },
  {
   "cell_type": "code",
   "execution_count": null,
   "metadata": {},
   "outputs": [],
   "source": []
  },
  {
   "cell_type": "code",
   "execution_count": null,
   "metadata": {},
   "outputs": [],
   "source": []
  },
  {
   "cell_type": "code",
   "execution_count": null,
   "metadata": {},
   "outputs": [],
   "source": []
  },
  {
   "cell_type": "code",
   "execution_count": null,
   "metadata": {},
   "outputs": [],
   "source": []
  },
  {
   "cell_type": "code",
   "execution_count": null,
   "metadata": {},
   "outputs": [],
   "source": []
  },
  {
   "cell_type": "code",
   "execution_count": null,
   "metadata": {},
   "outputs": [],
   "source": []
  },
  {
   "cell_type": "code",
   "execution_count": 12,
   "metadata": {},
   "outputs": [],
   "source": []
  },
  {
   "cell_type": "code",
   "execution_count": null,
   "metadata": {},
   "outputs": [],
   "source": []
  },
  {
   "cell_type": "code",
   "execution_count": null,
   "metadata": {},
   "outputs": [],
   "source": []
  },
  {
   "cell_type": "code",
   "execution_count": null,
   "metadata": {},
   "outputs": [],
   "source": []
  },
  {
   "cell_type": "code",
   "execution_count": null,
   "metadata": {},
   "outputs": [],
   "source": []
  },
  {
   "cell_type": "code",
   "execution_count": null,
   "metadata": {},
   "outputs": [],
   "source": []
  },
  {
   "cell_type": "code",
   "execution_count": null,
   "metadata": {},
   "outputs": [],
   "source": []
  },
  {
   "cell_type": "code",
   "execution_count": null,
   "metadata": {},
   "outputs": [],
   "source": []
  },
  {
   "cell_type": "code",
   "execution_count": null,
   "metadata": {},
   "outputs": [],
   "source": []
  },
  {
   "cell_type": "code",
   "execution_count": null,
   "metadata": {},
   "outputs": [],
   "source": []
  },
  {
   "cell_type": "code",
   "execution_count": null,
   "metadata": {},
   "outputs": [],
   "source": []
  },
  {
   "cell_type": "code",
   "execution_count": null,
   "metadata": {},
   "outputs": [],
   "source": []
  },
  {
   "cell_type": "code",
   "execution_count": null,
   "metadata": {},
   "outputs": [],
   "source": []
  },
  {
   "cell_type": "code",
   "execution_count": null,
   "metadata": {},
   "outputs": [],
   "source": []
  },
  {
   "cell_type": "code",
   "execution_count": null,
   "metadata": {},
   "outputs": [],
   "source": []
  },
  {
   "cell_type": "code",
   "execution_count": null,
   "metadata": {},
   "outputs": [],
   "source": []
  },
  {
   "cell_type": "code",
   "execution_count": null,
   "metadata": {},
   "outputs": [],
   "source": []
  },
  {
   "cell_type": "code",
   "execution_count": null,
   "metadata": {},
   "outputs": [],
   "source": []
  },
  {
   "cell_type": "code",
   "execution_count": null,
   "metadata": {},
   "outputs": [],
   "source": []
  },
  {
   "cell_type": "code",
   "execution_count": null,
   "metadata": {},
   "outputs": [],
   "source": []
  },
  {
   "cell_type": "code",
   "execution_count": null,
   "metadata": {},
   "outputs": [],
   "source": []
  },
  {
   "cell_type": "code",
   "execution_count": null,
   "metadata": {},
   "outputs": [],
   "source": []
  },
  {
   "cell_type": "code",
   "execution_count": null,
   "metadata": {},
   "outputs": [],
   "source": []
  },
  {
   "cell_type": "code",
   "execution_count": null,
   "metadata": {},
   "outputs": [],
   "source": []
  },
  {
   "cell_type": "code",
   "execution_count": null,
   "metadata": {},
   "outputs": [],
   "source": []
  },
  {
   "cell_type": "code",
   "execution_count": null,
   "metadata": {},
   "outputs": [],
   "source": []
  },
  {
   "cell_type": "code",
   "execution_count": null,
   "metadata": {},
   "outputs": [],
   "source": []
  },
  {
   "cell_type": "code",
   "execution_count": null,
   "metadata": {},
   "outputs": [],
   "source": []
  },
  {
   "cell_type": "code",
   "execution_count": null,
   "metadata": {},
   "outputs": [],
   "source": []
  },
  {
   "cell_type": "code",
   "execution_count": null,
   "metadata": {},
   "outputs": [],
   "source": []
  },
  {
   "cell_type": "code",
   "execution_count": null,
   "metadata": {},
   "outputs": [],
   "source": []
  },
  {
   "cell_type": "code",
   "execution_count": null,
   "metadata": {},
   "outputs": [],
   "source": []
  },
  {
   "cell_type": "code",
   "execution_count": null,
   "metadata": {},
   "outputs": [],
   "source": []
  },
  {
   "cell_type": "code",
   "execution_count": null,
   "metadata": {},
   "outputs": [],
   "source": []
  },
  {
   "cell_type": "code",
   "execution_count": null,
   "metadata": {},
   "outputs": [],
   "source": []
  },
  {
   "cell_type": "code",
   "execution_count": null,
   "metadata": {},
   "outputs": [],
   "source": []
  },
  {
   "cell_type": "code",
   "execution_count": null,
   "metadata": {},
   "outputs": [],
   "source": []
  },
  {
   "cell_type": "code",
   "execution_count": null,
   "metadata": {},
   "outputs": [],
   "source": []
  },
  {
   "cell_type": "code",
   "execution_count": null,
   "metadata": {},
   "outputs": [],
   "source": []
  },
  {
   "cell_type": "code",
   "execution_count": null,
   "metadata": {},
   "outputs": [],
   "source": []
  },
  {
   "cell_type": "code",
   "execution_count": null,
   "metadata": {},
   "outputs": [],
   "source": []
  },
  {
   "cell_type": "code",
   "execution_count": null,
   "metadata": {},
   "outputs": [],
   "source": []
  },
  {
   "cell_type": "code",
   "execution_count": null,
   "metadata": {},
   "outputs": [],
   "source": []
  },
  {
   "cell_type": "code",
   "execution_count": null,
   "metadata": {},
   "outputs": [],
   "source": []
  },
  {
   "cell_type": "code",
   "execution_count": null,
   "metadata": {},
   "outputs": [],
   "source": []
  },
  {
   "cell_type": "code",
   "execution_count": null,
   "metadata": {},
   "outputs": [],
   "source": []
  },
  {
   "cell_type": "code",
   "execution_count": null,
   "metadata": {},
   "outputs": [],
   "source": []
  },
  {
   "cell_type": "code",
   "execution_count": null,
   "metadata": {},
   "outputs": [],
   "source": []
  },
  {
   "cell_type": "code",
   "execution_count": null,
   "metadata": {},
   "outputs": [],
   "source": []
  },
  {
   "cell_type": "code",
   "execution_count": null,
   "metadata": {},
   "outputs": [],
   "source": []
  },
  {
   "cell_type": "code",
   "execution_count": null,
   "metadata": {},
   "outputs": [],
   "source": []
  }
 ],
 "metadata": {
  "kernelspec": {
   "display_name": "Python 3",
   "language": "python",
   "name": "python3"
  },
  "language_info": {
   "codemirror_mode": {
    "name": "ipython",
    "version": 3
   },
   "file_extension": ".py",
   "mimetype": "text/x-python",
   "name": "python",
   "nbconvert_exporter": "python",
   "pygments_lexer": "ipython3",
   "version": "3.6.4"
  }
 },
 "nbformat": 4,
 "nbformat_minor": 2
}
