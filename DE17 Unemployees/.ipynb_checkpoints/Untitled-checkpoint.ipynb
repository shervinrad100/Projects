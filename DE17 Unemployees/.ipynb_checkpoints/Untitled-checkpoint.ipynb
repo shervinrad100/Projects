{
 "cells": [
  {
   "cell_type": "markdown",
   "metadata": {},
   "source": [
    "https://www.codementor.io/@ilyaas97/6-python-projects-for-beginners-yn3va03fs"
   ]
  },
  {
   "cell_type": "markdown",
   "metadata": {},
   "source": [
    "# Generating a sine vs cosine curve"
   ]
  },
  {
   "cell_type": "code",
   "execution_count": 24,
   "metadata": {},
   "outputs": [],
   "source": [
    "import numpy as np\n",
    "import matplotlib.pyplot as plt"
   ]
  },
  {
   "cell_type": "code",
   "execution_count": 23,
   "metadata": {},
   "outputs": [],
   "source": [
    "xrange = np.arange(0, 2*np.pi,0.01)\n",
    "# cos, sin = [], []\n",
    "# for number in xrange:\n",
    "#     cos.append(np.cos(i))\n",
    "#     sin.append(np.sin(i))\n",
    "cos = np.cos(xrange)\n",
    "sin = np.sin(xrange)"
   ]
  },
  {
   "cell_type": "code",
   "execution_count": 24,
   "metadata": {},
   "outputs": [
    {
     "data": {
      "text/plain": [
       "Text(0.5, 1.0, 'Cos and Sin')"
      ]
     },
     "execution_count": 24,
     "metadata": {},
     "output_type": "execute_result"
    },
    {
     "data": {
      "image/png": "[encoded data removed]",
      "text/plain": [
       "<Figure size 432x288 with 1 Axes>"
      ]
     },
     "metadata": {
      "needs_background": "light"
     },
     "output_type": "display_data"
    }
   ],
   "source": [
    "plt.plot(xrange, cos, label=\"cos\")\n",
    "plt.plot(xrange, sin, label=\"sin\")\n",
    "plt.legend()\n",
    "plt.grid()\n",
    "plt.ylabel(\"y\")\n",
    "plt.xlabel(\"x\")\n",
    "plt.title(\"Cos and Sin\")    # <-- example of bad code. Best to create figure object and add to figure "
   ]
  },
  {
   "cell_type": "markdown",
   "metadata": {},
   "source": [
    "# Rock, Paper, Scissors Game"
   ]
  },
  {
   "cell_type": "code",
   "execution_count": null,
   "metadata": {},
   "outputs": [],
   "source": [
    "import random as rdm"
   ]
  },
  {
   "cell_type": "code",
   "execution_count": 20,
   "metadata": {},
   "outputs": [
    {
     "name": "stdout",
     "output_type": "stream",
     "text": [
      "Choose from rock, paper, scissor: 1\n",
      " p1: rock \n",
      " p2: scissor\n",
      "Choose from rock, paper, scissor: 1\n",
      " p1: rock \n",
      " p2: scissor\n",
      "Choose from rock, paper, scissor: 1\n",
      " p1: rock \n",
      " p2: rock\n",
      "Choose from rock, paper, scissor: 2\n",
      " p1: paper \n",
      " p2: paper\n",
      "Choose from rock, paper, scissor: 3\n",
      " p1: scissor \n",
      " p2: paper\n",
      "{'p1': 3, 'p2': 0}\n"
     ]
    }
   ],
   "source": [
    "choices = [\"rock\", \"paper\", \"scissor\"]\n",
    "score = {\"p1\":0, \"p2\":0}\n",
    "\n",
    "def wins(p1,p2):\n",
    "    \"\"\" conditions of winning\"\"\"\n",
    "    if p1 == p2:\n",
    "        pass\n",
    "    elif p1 == \"rock\" and p2 == \"paper\":\n",
    "        score[\"p2\"] += 1\n",
    "    elif p1 == \"paper\" and p2 ==\"scissor\":\n",
    "        score[\"p2\"] += 1\n",
    "    elif p1 == \"scissor\" and p2 == \"rock\":\n",
    "        score[\"p2\"] += 1\n",
    "    else:\n",
    "        score[\"p1\"] += 1\n",
    "    \n",
    "def ezChoice(p1):\n",
    "    \"\"\"user input feature. They can reply with numbers because it's easier than typing the word\"\"\"\n",
    "    try:\n",
    "        p1 = int(p1)\n",
    "        if p1 == 1:\n",
    "            p1 = \"rock\"\n",
    "        elif p1 == 2:\n",
    "            p1 = \"paper\"\n",
    "        elif p1 == 3:\n",
    "            p1 = \"scissor\"\n",
    "        return p1\n",
    "    except:\n",
    "        return None\n",
    "    \n",
    "while max(score.values()) < 3:\n",
    "#     p1 = rdm.choice(choices)\n",
    "    p1 = input(\"Choose from rock, paper, scissor: \").lower().strip() \n",
    "    p1 = ezChoice(p1)\n",
    "    while p1 not in choices:\n",
    "        print(\"Wrong input\")\n",
    "        p1 = input(\"Choose from rock(1), paper(2), scissor(3): \").lower().strip()\n",
    "        p1 = ezChoice(p1)\n",
    "    p2 = rdm.choice(choices)\n",
    "    if p1 == \"break\":\n",
    "        break\n",
    "    try:\n",
    "        print(\" p1:\",p1,\"\\n\",\"p2:\",p2)\n",
    "        wins(p1,p2)\n",
    "    except:\n",
    "        print(p1,p2, score)\n",
    "        break\n",
    "print(score)    "
   ]
  },
  {
   "cell_type": "markdown",
   "metadata": {},
   "source": [
    "# Guess The Number"
   ]
  },
  {
   "cell_type": "code",
   "execution_count": 23,
   "metadata": {},
   "outputs": [
    {
     "name": "stdout",
     "output_type": "stream",
     "text": [
      "Guess the number (0,20): 10\n",
      "it's lower\n",
      "Guess again: 5\n",
      "it's lower\n",
      "Guess again: 2\n",
      "it's higher\n",
      "Guess again: 3\n",
      "Correct!\n"
     ]
    }
   ],
   "source": [
    "ans = rdm.randint(0,21)\n",
    "guess = int(input(\"Guess the number (0,20): \").strip())\n",
    "while guess != ans:\n",
    "    if guess > ans:\n",
    "        print(\"it's lower\")\n",
    "    else:\n",
    "        print(\"it's higher\")\n",
    "    guess = int(input(\"Guess again: \").strip())\n",
    "print(\"Correct!\")"
   ]
  },
  {
   "cell_type": "markdown",
   "metadata": {},
   "source": [
    "# Password Generator"
   ]
  },
  {
   "cell_type": "code",
   "execution_count": null,
   "metadata": {},
   "outputs": [],
   "source": [
    "# boring"
   ]
  },
  {
   "cell_type": "markdown",
   "metadata": {},
   "source": [
    "# Hangman"
   ]
  },
  {
   "cell_type": "code",
   "execution_count": null,
   "metadata": {},
   "outputs": [],
   "source": []
  },
  {
   "cell_type": "markdown",
   "metadata": {},
   "source": [
    "# Binary Search Algorithm"
   ]
  },
  {
   "cell_type": "code",
   "execution_count": 27,
   "metadata": {},
   "outputs": [
    {
     "name": "stdout",
     "output_type": "stream",
     "text": [
      "Look for a number between 0 and 100: 3\n"
     ]
    }
   ],
   "source": [
    "# generating the numbers\n",
    "nums = np.arange(0,101, 2)\n",
    "guess = int(input(\"Look for a number between 0 and 100: \").strip()) # what if they input the wrong format??\n"
   ]
  },
  {
   "cell_type": "code",
   "execution_count": null,
   "metadata": {},
   "outputs": [],
   "source": [
    "class Node():\n",
    "    def __init__(self):\n",
    "        root = None\n",
    "        left = None\n",
    "        right = None\n",
    "        \n",
    "class BinTree(Node):\n",
    "    def __init__(self):\n",
    "        \n",
    "# you would want a method to insert numbers recursively small -> left and large -> right\n",
    "#        the insert method needs to create nodes \n",
    "# you want a look up method similar to the insert "
   ]
  },
  {
   "cell_type": "code",
   "execution_count": 28,
   "metadata": {},
   "outputs": [
    {
     "data": {
      "text/plain": [
       "array([  0,   2,   4,   6,   8,  10,  12,  14,  16,  18,  20,  22,  24,\n",
       "        26,  28,  30,  32,  34,  36,  38,  40,  42,  44,  46,  48,  50,\n",
       "        52,  54,  56,  58,  60,  62,  64,  66,  68,  70,  72,  74,  76,\n",
       "        78,  80,  82,  84,  86,  88,  90,  92,  94,  96,  98, 100])"
      ]
     },
     "execution_count": 28,
     "metadata": {},
     "output_type": "execute_result"
    }
   ],
   "source": [
    "nums"
   ]
  }
 ],
 "metadata": {
  "kernelspec": {
   "display_name": "Python 3",
   "language": "python",
   "name": "python3"
  },
  "language_info": {
   "codemirror_mode": {
    "name": "ipython",
    "version": 3
   },
   "file_extension": ".py",
   "mimetype": "text/x-python",
   "name": "python",
   "nbconvert_exporter": "python",
   "pygments_lexer": "ipython3",
   "version": "3.7.3"
  }
 },
 "nbformat": 4,
 "nbformat_minor": 4
}
